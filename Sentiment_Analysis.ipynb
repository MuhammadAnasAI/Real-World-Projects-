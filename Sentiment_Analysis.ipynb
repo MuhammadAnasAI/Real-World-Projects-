{
 "cells": [
  {
   "cell_type": "markdown",
   "id": "95a10510",
   "metadata": {},
   "source": [
    "Importing a wide range of **Python libraries and modules** commonly used in **Natural Language Processing (NLP)**, **Machine Learning (ML)**, and **Deep Learning (DL)** pipelines. Let me break down the details of each import:\n",
    "\n",
    "\n",
    "\n",
    "## **1. Data Handling and Visualization**\n",
    "\n",
    "### **`pandas`**\n",
    "\n",
    "* **`import pandas as pd`**\n",
    "* A powerful library for data manipulation and analysis.\n",
    "* Key features: DataFrames, Series, reading/writing data (CSV, Excel), grouping, merging, etc.\n",
    "\n",
    "### **`numpy`**\n",
    "\n",
    "* **`import numpy as np`**\n",
    "* Fundamental library for numerical computing in Python.\n",
    "* Provides n-dimensional arrays and mathematical functions.\n",
    "\n",
    "### **`matplotlib.pyplot`**\n",
    "\n",
    "* **`import matplotlib.pyplot as plt`**\n",
    "* Used for creating static, animated, and interactive visualizations in Python.\n",
    "\n",
    "### **`seaborn`**\n",
    "\n",
    "* **`import seaborn as sns`**\n",
    "* A high-level interface built on `matplotlib` for attractive and informative statistical graphics (e.g., heatmaps, boxplots).\n",
    "\n",
    "---\n",
    "\n",
    "## **2. Machine Learning with Scikit-learn**\n",
    "\n",
    "* **`from sklearn.model_selection import train_test_split`**\n",
    "\n",
    "  * Splits datasets into training and test sets.\n",
    "\n",
    "* **`from sklearn.preprocessing import LabelEncoder`**\n",
    "\n",
    "  * Converts categorical labels into numeric format.\n",
    "\n",
    "* **`from sklearn.metrics import accuracy_score, classification_report, confusion_matrix`**\n",
    "\n",
    "  * `accuracy_score`: Measures prediction accuracy.\n",
    "  * `classification_report`: Precision, recall, and F1-score.\n",
    "  * `confusion_matrix`: Evaluates classification results.\n",
    "\n",
    "* **`from sklearn.manifold import TSNE`**\n",
    "\n",
    "  * t-Distributed Stochastic Neighbor Embedding for high-dimensional data visualization.\n",
    "\n",
    "* **`from sklearn.feature_extraction.text import TfidfVectorizer`**\n",
    "\n",
    "  * Converts text documents into a matrix of TF-IDF features (important in NLP).\n",
    "\n",
    "\n",
    "## **3. Deep Learning with TensorFlow/Keras**\n",
    "\n",
    "* **`from tensorflow.keras.models import Sequential`**\n",
    "\n",
    "  * A linear stack of layers (easiest way to build models).\n",
    "\n",
    "* **Layers**:\n",
    "\n",
    "  * **`Dense`**: Fully connected layers.\n",
    "  * **`Dropout`**: Regularization by randomly dropping neurons.\n",
    "  * **`Embedding`**: Converts word indices into dense vectors.\n",
    "  * **`Conv1D`**: 1D convolutional layers (used in text or time series).\n",
    "  * **`GlobalMaxPooling1D` & `MaxPooling1D`**: Pooling layers.\n",
    "  * **`LSTM`**: Long Short-Term Memory, useful for sequence modeling.\n",
    "  * **`Flatten`**: Flattens input for dense layers.\n",
    "\n",
    "* **Text Preprocessing**:\n",
    "\n",
    "  * **`Tokenizer`**: Tokenizes text into sequences.\n",
    "  * **`pad_sequences`**: Ensures uniform input length.\n",
    "\n",
    "* **Callbacks**:\n",
    "\n",
    "  * **`EarlyStopping`**: Stops training when a metric stops improving.\n",
    "  * **`ModelCheckpoint`**: Saves the best model.\n",
    "  * **`ReduceLROnPlateau`**: Reduces learning rate when performance stagnates.\n",
    "\n",
    "* **`from tensorflow.keras import utils`**\n",
    "\n",
    "  * Provides utilities like `to_categorical` for one-hot encoding.\n",
    "\n",
    "---\n",
    "\n",
    "## **4. NLP Libraries (NLTK & Gensim)**\n",
    "\n",
    "### **NLTK**\n",
    "\n",
    "* **`import nltk`**: Natural Language Toolkit, a popular NLP library.\n",
    "* **`from nltk.corpus import stopwords`**: Provides common stopwords (e.g., \"is\", \"the\").\n",
    "* **`from nltk.tokenize import word_tokenize, sent_tokenize`**: Splits text into words or sentences.\n",
    "* **`from nltk.stem import SnowballStemmer`**: Reduces words to their root form (stemming).\n",
    "\n",
    "### **Gensim**\n",
    "\n",
    "* **`import gensim`**: Used for topic modeling and word embeddings (e.g., Word2Vec, Doc2Vec).\n",
    "\n",
    "---\n",
    "\n",
    "## **5. Utilities**\n",
    "\n",
    "* **`import re`**: Regular expressions for text cleaning.\n",
    "\n",
    "* **`import os`**: File and directory operations.\n",
    "\n",
    "* **`from collections import Counter`**: Counts hashable objects (e.g., word frequency).\n",
    "\n",
    "* **`import logging`**: Logging library for debugging and monitoring.\n",
    "\n",
    "* **`import time`**: Time-based functions (e.g., execution time).\n",
    "\n",
    "* **`import itertools`**: Functions for iterators and combinatorics.\n",
    "\n",
    "* **`import pickle`**: Serializes and saves Python objects (e.g., trained models).\n",
    "\n",
    "* **`logging.basicConfig(format='%(asctime)s : %(levelname)s : %(message)s', level=logging.INFO)`**\n",
    "  Configures the logging format and level.\n"
   ]
  },
  {
   "cell_type": "markdown",
   "id": "5f15f02d",
   "metadata": {},
   "source": [
    "### **Import Libraries**"
   ]
  },
  {
   "cell_type": "code",
   "execution_count": 107,
   "id": "96eddd8f",
   "metadata": {},
   "outputs": [],
   "source": [
    "import pandas as pd\n",
    "import numpy as np\n",
    "import matplotlib.pyplot as plt\n",
    "import seaborn as sns\n",
    "\n",
    "# Import the scikit-learn libraries:\n",
    "from sklearn.model_selection import train_test_split\n",
    "from sklearn.preprocessing import LabelEncoder\n",
    "from sklearn.metrics import accuracy_score, classification_report, confusion_matrix\n",
    "from sklearn.manifold import TSNE\n",
    "from sklearn.feature_extraction.text import TfidfVectorizer\n",
    "\n",
    "# Import the keras libraries:\n",
    "from tensorflow.keras.models import Sequential\n",
    "from tensorflow.keras.layers import Dense, Dropout, Embedding, Conv1D, GlobalMaxPooling1D, MaxPooling1D, LSTM, Flatten\n",
    "from tensorflow.keras.preprocessing.text import Tokenizer\n",
    "from tensorflow.keras.preprocessing.sequence import pad_sequences\n",
    "from tensorflow.keras.callbacks import EarlyStopping, ModelCheckpoint, ReduceLROnPlateau\n",
    "from tensorflow.keras import utils\n",
    "\n",
    "\n",
    "# import nltk:\n",
    "import nltk\n",
    "from nltk.corpus import stopwords\n",
    "from nltk.tokenize import word_tokenize, sent_tokenize\n",
    "from nltk.stem import SnowballStemmer\n",
    "\n",
    "# import genism:\n",
    "import gensim\n",
    "\n",
    "#Utility\n",
    "import re\n",
    "import os\n",
    "from collections import Counter\n",
    "import logging\n",
    "import time\n",
    "import itertools\n",
    "import pickle\n",
    "\n",
    "\n",
    "logging.basicConfig(format='%(asctime)s : %(levelname)s : %(message)s', level=logging.INFO)\n",
    "\n"
   ]
  },
  {
   "cell_type": "markdown",
   "id": "e5c0eb5e",
   "metadata": {},
   "source": [
    "NLTK is used to **NLTK stopwords corpus**, which contains lists of common words (e.g., “the,” “is,” “and”) in multiple languages that are typically removed during text preprocessing for NLP tasks.\n",
    "\n",
    "---\n",
    "\n",
    "## **What are Stopwords?**\n",
    "\n",
    "* **Stopwords** are words that do not carry significant meaning and are often removed from text data to focus on the meaningful terms.\n",
    "* Example in English: `[\"the\", \"is\", \"in\", \"and\", \"of\", \"to\", \"a\"]`.\n",
    "\n",
    "---\n",
    "\n",
    "## **What Does `nltk.download('stopwords')` Do?**\n",
    "\n",
    "* Downloads the **stopwords dataset** from the NLTK corpora repository.\n",
    "* Stores it locally on your machine (so you don't need to download it again unless you delete it).\n",
    "\n",
    "\n",
    "\n",
    "\n",
    "\n",
    "\n",
    "\n",
    "\n"
   ]
  },
  {
   "cell_type": "markdown",
   "metadata": {},
   "source": [
    "#### **Load the Dataset**"
   ]
  },
  {
   "cell_type": "code",
   "execution_count": null,
   "id": "6929c99f",
   "metadata": {},
   "outputs": [
    {
     "name": "stderr",
     "output_type": "stream",
     "text": [
      "[nltk_data] Downloading package stopwords to\n",
      "[nltk_data]     C:\\Users\\anast\\AppData\\Roaming\\nltk_data...\n",
      "[nltk_data]   Package stopwords is already up-to-date!\n"
     ]
    },
    {
     "data": {
      "text/plain": [
       "True"
      ]
     },
     "execution_count": 108,
     "metadata": {},
     "output_type": "execute_result"
    }
   ],
   "source": [
    "#Download the dataset:\n",
    "nltk.download('stopwords')\n"
   ]
  },
  {
   "cell_type": "code",
   "execution_count": 109,
   "id": "4be1b64b",
   "metadata": {},
   "outputs": [
    {
     "name": "stdout",
     "output_type": "stream",
     "text": [
      "Open file: twitters.csv\n",
      "Dataset shape: (1600000, 6)\n"
     ]
    },
    {
     "data": {
      "application/vnd.microsoft.datawrangler.viewer.v0+json": {
       "columns": [
        {
         "name": "index",
         "rawType": "int64",
         "type": "integer"
        },
        {
         "name": "target",
         "rawType": "int64",
         "type": "integer"
        },
        {
         "name": "ids",
         "rawType": "int64",
         "type": "integer"
        },
        {
         "name": "date",
         "rawType": "object",
         "type": "string"
        },
        {
         "name": "flag",
         "rawType": "object",
         "type": "string"
        },
        {
         "name": "user",
         "rawType": "object",
         "type": "string"
        },
        {
         "name": "text",
         "rawType": "object",
         "type": "string"
        }
       ],
       "ref": "e0e254b3-1959-49e5-b5d0-61f8aeef2b4f",
       "rows": [
        [
         "0",
         "0",
         "1467810369",
         "Mon Apr 06 22:19:45 PDT 2009",
         "NO_QUERY",
         "_TheSpecialOne_",
         "@switchfoot http://twitpic.com/2y1zl - Awww, that's a bummer.  You shoulda got David Carr of Third Day to do it. ;D"
        ],
        [
         "1",
         "0",
         "1467810672",
         "Mon Apr 06 22:19:49 PDT 2009",
         "NO_QUERY",
         "scotthamilton",
         "is upset that he can't update his Facebook by texting it... and might cry as a result  School today also. Blah!"
        ],
        [
         "2",
         "0",
         "1467810917",
         "Mon Apr 06 22:19:53 PDT 2009",
         "NO_QUERY",
         "mattycus",
         "@Kenichan I dived many times for the ball. Managed to save 50%  The rest go out of bounds"
        ],
        [
         "3",
         "0",
         "1467811184",
         "Mon Apr 06 22:19:57 PDT 2009",
         "NO_QUERY",
         "ElleCTF",
         "my whole body feels itchy and like its on fire "
        ],
        [
         "4",
         "0",
         "1467811193",
         "Mon Apr 06 22:19:57 PDT 2009",
         "NO_QUERY",
         "Karoli",
         "@nationwideclass no, it's not behaving at all. i'm mad. why am i here? because I can't see you all over there. "
        ]
       ],
       "shape": {
        "columns": 6,
        "rows": 5
       }
      },
      "text/html": [
       "<div>\n",
       "<style scoped>\n",
       "    .dataframe tbody tr th:only-of-type {\n",
       "        vertical-align: middle;\n",
       "    }\n",
       "\n",
       "    .dataframe tbody tr th {\n",
       "        vertical-align: top;\n",
       "    }\n",
       "\n",
       "    .dataframe thead th {\n",
       "        text-align: right;\n",
       "    }\n",
       "</style>\n",
       "<table border=\"1\" class=\"dataframe\">\n",
       "  <thead>\n",
       "    <tr style=\"text-align: right;\">\n",
       "      <th></th>\n",
       "      <th>target</th>\n",
       "      <th>ids</th>\n",
       "      <th>date</th>\n",
       "      <th>flag</th>\n",
       "      <th>user</th>\n",
       "      <th>text</th>\n",
       "    </tr>\n",
       "  </thead>\n",
       "  <tbody>\n",
       "    <tr>\n",
       "      <th>0</th>\n",
       "      <td>0</td>\n",
       "      <td>1467810369</td>\n",
       "      <td>Mon Apr 06 22:19:45 PDT 2009</td>\n",
       "      <td>NO_QUERY</td>\n",
       "      <td>_TheSpecialOne_</td>\n",
       "      <td>@switchfoot http://twitpic.com/2y1zl - Awww, t...</td>\n",
       "    </tr>\n",
       "    <tr>\n",
       "      <th>1</th>\n",
       "      <td>0</td>\n",
       "      <td>1467810672</td>\n",
       "      <td>Mon Apr 06 22:19:49 PDT 2009</td>\n",
       "      <td>NO_QUERY</td>\n",
       "      <td>scotthamilton</td>\n",
       "      <td>is upset that he can't update his Facebook by ...</td>\n",
       "    </tr>\n",
       "    <tr>\n",
       "      <th>2</th>\n",
       "      <td>0</td>\n",
       "      <td>1467810917</td>\n",
       "      <td>Mon Apr 06 22:19:53 PDT 2009</td>\n",
       "      <td>NO_QUERY</td>\n",
       "      <td>mattycus</td>\n",
       "      <td>@Kenichan I dived many times for the ball. Man...</td>\n",
       "    </tr>\n",
       "    <tr>\n",
       "      <th>3</th>\n",
       "      <td>0</td>\n",
       "      <td>1467811184</td>\n",
       "      <td>Mon Apr 06 22:19:57 PDT 2009</td>\n",
       "      <td>NO_QUERY</td>\n",
       "      <td>ElleCTF</td>\n",
       "      <td>my whole body feels itchy and like its on fire</td>\n",
       "    </tr>\n",
       "    <tr>\n",
       "      <th>4</th>\n",
       "      <td>0</td>\n",
       "      <td>1467811193</td>\n",
       "      <td>Mon Apr 06 22:19:57 PDT 2009</td>\n",
       "      <td>NO_QUERY</td>\n",
       "      <td>Karoli</td>\n",
       "      <td>@nationwideclass no, it's not behaving at all....</td>\n",
       "    </tr>\n",
       "  </tbody>\n",
       "</table>\n",
       "</div>"
      ],
      "text/plain": [
       "   target         ids                          date      flag  \\\n",
       "0       0  1467810369  Mon Apr 06 22:19:45 PDT 2009  NO_QUERY   \n",
       "1       0  1467810672  Mon Apr 06 22:19:49 PDT 2009  NO_QUERY   \n",
       "2       0  1467810917  Mon Apr 06 22:19:53 PDT 2009  NO_QUERY   \n",
       "3       0  1467811184  Mon Apr 06 22:19:57 PDT 2009  NO_QUERY   \n",
       "4       0  1467811193  Mon Apr 06 22:19:57 PDT 2009  NO_QUERY   \n",
       "\n",
       "              user                                               text  \n",
       "0  _TheSpecialOne_  @switchfoot http://twitpic.com/2y1zl - Awww, t...  \n",
       "1    scotthamilton  is upset that he can't update his Facebook by ...  \n",
       "2         mattycus  @Kenichan I dived many times for the ball. Man...  \n",
       "3          ElleCTF    my whole body feels itchy and like its on fire   \n",
       "4           Karoli  @nationwideclass no, it's not behaving at all....  "
      ]
     },
     "execution_count": 109,
     "metadata": {},
     "output_type": "execute_result"
    }
   ],
   "source": [
    "dataset_path = \"twitters.csv\"  # Replace with your actual file name\n",
    "\n",
    "print(\"Open file:\", dataset_path)\n",
    "df = pd.read_csv(dataset_path, encoding=DATASET_ENCODING, names=DATASET_COLUMNS)\n",
    "\n",
    "print(\"Dataset shape:\", df.shape)\n",
    "df.head()\n"
   ]
  },
  {
   "cell_type": "markdown",
   "id": "fec9e4c9",
   "metadata": {},
   "source": [
    "#### **Setting of the Dataset**"
   ]
  },
  {
   "cell_type": "code",
   "execution_count": 110,
   "id": "65981c2f",
   "metadata": {},
   "outputs": [],
   "source": [
    "# DATASET\n",
    "DATASET_COLUMNS = [\"target\", \"ids\", \"date\", \"flag\", \"user\", \"text\"]\n",
    "DATASET_ENCODING = \"ISO-8859-1\"\n",
    "TRAIN_SIZE = 0.8\n",
    "\n",
    "# TEXT CLENAING\n",
    "TEXT_CLEANING_RE = \"@\\S+|https?:\\S+|http?:\\S|[^A-Za-z0-9]+\"\n",
    "\n",
    "# WORD2VEC \n",
    "W2V_SIZE = 300\n",
    "W2V_WINDOW = 7\n",
    "W2V_EPOCH = 32\n",
    "W2V_MIN_COUNT = 10\n",
    "\n",
    "# KERAS\n",
    "SEQUENCE_LENGTH = 300\n",
    "EPOCHS = 8\n",
    "BATCH_SIZE = 1024\n",
    "\n",
    "# SENTIMENT\n",
    "POSITIVE = \"POSITIVE\"\n",
    "NEGATIVE = \"NEGATIVE\"\n",
    "NEUTRAL = \"NEUTRAL\"\n",
    "SENTIMENT_THRESHOLDS = (0.4, 0.7)\n",
    "\n",
    "# EXPORT\n",
    "KERAS_MODEL = \"model.h5\"\n",
    "WORD2VEC_MODEL = \"model.w2v\"\n",
    "TOKENIZER_MODEL = \"tokenizer.pkl\"\n",
    "ENCODER_MODEL = \"encoder.pkl\""
   ]
  },
  {
   "cell_type": "code",
   "execution_count": 111,
   "id": "73b665c4",
   "metadata": {},
   "outputs": [
    {
     "name": "stdout",
     "output_type": "stream",
     "text": [
      "Dataset Size: 1600000\n"
     ]
    }
   ],
   "source": [
    "print(\"Dataset Size:\", len(df))"
   ]
  },
  {
   "cell_type": "code",
   "execution_count": 112,
   "id": "432c4bea",
   "metadata": {},
   "outputs": [
    {
     "data": {
      "application/vnd.microsoft.datawrangler.viewer.v0+json": {
       "columns": [
        {
         "name": "index",
         "rawType": "int64",
         "type": "integer"
        },
        {
         "name": "target",
         "rawType": "int64",
         "type": "integer"
        },
        {
         "name": "ids",
         "rawType": "int64",
         "type": "integer"
        },
        {
         "name": "date",
         "rawType": "object",
         "type": "string"
        },
        {
         "name": "flag",
         "rawType": "object",
         "type": "string"
        },
        {
         "name": "user",
         "rawType": "object",
         "type": "string"
        },
        {
         "name": "text",
         "rawType": "object",
         "type": "string"
        }
       ],
       "ref": "2992efdd-ced2-4926-aee0-5b7779e0fee0",
       "rows": [
        [
         "0",
         "0",
         "1467810369",
         "Mon Apr 06 22:19:45 PDT 2009",
         "NO_QUERY",
         "_TheSpecialOne_",
         "@switchfoot http://twitpic.com/2y1zl - Awww, that's a bummer.  You shoulda got David Carr of Third Day to do it. ;D"
        ],
        [
         "1",
         "0",
         "1467810672",
         "Mon Apr 06 22:19:49 PDT 2009",
         "NO_QUERY",
         "scotthamilton",
         "is upset that he can't update his Facebook by texting it... and might cry as a result  School today also. Blah!"
        ],
        [
         "2",
         "0",
         "1467810917",
         "Mon Apr 06 22:19:53 PDT 2009",
         "NO_QUERY",
         "mattycus",
         "@Kenichan I dived many times for the ball. Managed to save 50%  The rest go out of bounds"
        ],
        [
         "3",
         "0",
         "1467811184",
         "Mon Apr 06 22:19:57 PDT 2009",
         "NO_QUERY",
         "ElleCTF",
         "my whole body feels itchy and like its on fire "
        ],
        [
         "4",
         "0",
         "1467811193",
         "Mon Apr 06 22:19:57 PDT 2009",
         "NO_QUERY",
         "Karoli",
         "@nationwideclass no, it's not behaving at all. i'm mad. why am i here? because I can't see you all over there. "
        ]
       ],
       "shape": {
        "columns": 6,
        "rows": 5
       }
      },
      "text/html": [
       "<div>\n",
       "<style scoped>\n",
       "    .dataframe tbody tr th:only-of-type {\n",
       "        vertical-align: middle;\n",
       "    }\n",
       "\n",
       "    .dataframe tbody tr th {\n",
       "        vertical-align: top;\n",
       "    }\n",
       "\n",
       "    .dataframe thead th {\n",
       "        text-align: right;\n",
       "    }\n",
       "</style>\n",
       "<table border=\"1\" class=\"dataframe\">\n",
       "  <thead>\n",
       "    <tr style=\"text-align: right;\">\n",
       "      <th></th>\n",
       "      <th>target</th>\n",
       "      <th>ids</th>\n",
       "      <th>date</th>\n",
       "      <th>flag</th>\n",
       "      <th>user</th>\n",
       "      <th>text</th>\n",
       "    </tr>\n",
       "  </thead>\n",
       "  <tbody>\n",
       "    <tr>\n",
       "      <th>0</th>\n",
       "      <td>0</td>\n",
       "      <td>1467810369</td>\n",
       "      <td>Mon Apr 06 22:19:45 PDT 2009</td>\n",
       "      <td>NO_QUERY</td>\n",
       "      <td>_TheSpecialOne_</td>\n",
       "      <td>@switchfoot http://twitpic.com/2y1zl - Awww, t...</td>\n",
       "    </tr>\n",
       "    <tr>\n",
       "      <th>1</th>\n",
       "      <td>0</td>\n",
       "      <td>1467810672</td>\n",
       "      <td>Mon Apr 06 22:19:49 PDT 2009</td>\n",
       "      <td>NO_QUERY</td>\n",
       "      <td>scotthamilton</td>\n",
       "      <td>is upset that he can't update his Facebook by ...</td>\n",
       "    </tr>\n",
       "    <tr>\n",
       "      <th>2</th>\n",
       "      <td>0</td>\n",
       "      <td>1467810917</td>\n",
       "      <td>Mon Apr 06 22:19:53 PDT 2009</td>\n",
       "      <td>NO_QUERY</td>\n",
       "      <td>mattycus</td>\n",
       "      <td>@Kenichan I dived many times for the ball. Man...</td>\n",
       "    </tr>\n",
       "    <tr>\n",
       "      <th>3</th>\n",
       "      <td>0</td>\n",
       "      <td>1467811184</td>\n",
       "      <td>Mon Apr 06 22:19:57 PDT 2009</td>\n",
       "      <td>NO_QUERY</td>\n",
       "      <td>ElleCTF</td>\n",
       "      <td>my whole body feels itchy and like its on fire</td>\n",
       "    </tr>\n",
       "    <tr>\n",
       "      <th>4</th>\n",
       "      <td>0</td>\n",
       "      <td>1467811193</td>\n",
       "      <td>Mon Apr 06 22:19:57 PDT 2009</td>\n",
       "      <td>NO_QUERY</td>\n",
       "      <td>Karoli</td>\n",
       "      <td>@nationwideclass no, it's not behaving at all....</td>\n",
       "    </tr>\n",
       "  </tbody>\n",
       "</table>\n",
       "</div>"
      ],
      "text/plain": [
       "   target         ids                          date      flag  \\\n",
       "0       0  1467810369  Mon Apr 06 22:19:45 PDT 2009  NO_QUERY   \n",
       "1       0  1467810672  Mon Apr 06 22:19:49 PDT 2009  NO_QUERY   \n",
       "2       0  1467810917  Mon Apr 06 22:19:53 PDT 2009  NO_QUERY   \n",
       "3       0  1467811184  Mon Apr 06 22:19:57 PDT 2009  NO_QUERY   \n",
       "4       0  1467811193  Mon Apr 06 22:19:57 PDT 2009  NO_QUERY   \n",
       "\n",
       "              user                                               text  \n",
       "0  _TheSpecialOne_  @switchfoot http://twitpic.com/2y1zl - Awww, t...  \n",
       "1    scotthamilton  is upset that he can't update his Facebook by ...  \n",
       "2         mattycus  @Kenichan I dived many times for the ball. Man...  \n",
       "3          ElleCTF    my whole body feels itchy and like its on fire   \n",
       "4           Karoli  @nationwideclass no, it's not behaving at all....  "
      ]
     },
     "execution_count": 112,
     "metadata": {},
     "output_type": "execute_result"
    }
   ],
   "source": [
    "df.head()"
   ]
  },
  {
   "cell_type": "code",
   "execution_count": 113,
   "id": "f636d87c",
   "metadata": {},
   "outputs": [],
   "source": [
    "decode_map = {0 : \"NEGATIVE\", 2:\"NEUTRAL\", 4:\"POSITIVE\"}\n",
    "def decode_sentiments(label):\n",
    "    return decode_map[int(label)]"
   ]
  },
  {
   "cell_type": "code",
   "execution_count": 114,
   "id": "d33e66d9",
   "metadata": {},
   "outputs": [
    {
     "name": "stdout",
     "output_type": "stream",
     "text": [
      "CPU times: total: 781 ms\n",
      "Wall time: 1.08 s\n"
     ]
    }
   ],
   "source": [
    "%%time\n",
    "df.target = df.target.apply(lambda x : decode_sentiments(x))"
   ]
  },
  {
   "cell_type": "code",
   "execution_count": 115,
   "id": "301f7055",
   "metadata": {},
   "outputs": [
    {
     "data": {
      "text/plain": [
       "Text(0.5, 1.0, 'Dataset labels Distribution')"
      ]
     },
     "execution_count": 115,
     "metadata": {},
     "output_type": "execute_result"
    },
    {
     "data": {
      "image/png": "[encoded data removed]",
      "text/plain": [
       "<Figure size 600x400 with 1 Axes>"
      ]
     },
     "metadata": {},
     "output_type": "display_data"
    }
   ],
   "source": [
    "target_cn = Counter(df.target)\n",
    "\n",
    "#plot the negative and positive target points:\n",
    "plt.figure(figsize=(6,4))\n",
    "sns.barplot(x=target_cn.keys(), y=target_cn.values())\n",
    "plt.title(\"Dataset labels Distribution\")"
   ]
  },
  {
   "cell_type": "markdown",
   "id": "ec6fb71f",
   "metadata": {},
   "source": [
    "### **Preprocess the Dataset**"
   ]
  },
  {
   "cell_type": "code",
   "execution_count": 116,
   "id": "700a5c58",
   "metadata": {},
   "outputs": [],
   "source": [
    "stop_words = stopwords.words(\"english\")\n",
    "stemmer = SnowballStemmer(\"english\")\n"
   ]
  },
  {
   "cell_type": "code",
   "execution_count": 117,
   "id": "50cd8c05",
   "metadata": {},
   "outputs": [],
   "source": [
    "def preprocess(text, stem=False):\n",
    "    text = re.sub(TEXT_CLEANING_RE, ' ', str(text).lower()).strip()\n",
    "    tokens = []\n",
    "    for token in text.split():\n",
    "        if token not in stop_words:\n",
    "            if stem:\n",
    "                tokens.append(stemmer.stem(token))\n",
    "            else:\n",
    "                tokens.append(token)\n",
    "    return \" \".join(tokens)                \n",
    "\n"
   ]
  },
  {
   "cell_type": "code",
   "execution_count": 118,
   "id": "04b4505a",
   "metadata": {},
   "outputs": [
    {
     "name": "stdout",
     "output_type": "stream",
     "text": [
      "CPU times: total: 1min 46s\n",
      "Wall time: 2min 3s\n"
     ]
    }
   ],
   "source": [
    "%%time\n",
    "df.text = df.text.apply(lambda x : preprocess(x))"
   ]
  },
  {
   "cell_type": "markdown",
   "id": "00c4a711",
   "metadata": {},
   "source": [
    "#### **Split Train and Test Dataset**"
   ]
  },
  {
   "cell_type": "code",
   "execution_count": 119,
   "id": "33696208",
   "metadata": {},
   "outputs": [
    {
     "name": "stdout",
     "output_type": "stream",
     "text": [
      "Train dataset: 1280000\n",
      "Test dataset: 320000\n"
     ]
    }
   ],
   "source": [
    "df_train, df_test = train_test_split(df, test_size = 1-TRAIN_SIZE, random_state = 42)\n",
    "\n",
    "print(\"Train dataset:\", len(df_train))\n",
    "print(\"Test dataset:\", len(df_test))"
   ]
  },
  {
   "cell_type": "code",
   "execution_count": 120,
   "id": "823a8ac8",
   "metadata": {},
   "outputs": [
    {
     "name": "stdout",
     "output_type": "stream",
     "text": [
      "CPU times: total: 10.9 s\n",
      "Wall time: 27.1 s\n"
     ]
    }
   ],
   "source": [
    "%%time\n",
    "documents = [_text.split() for _text in df_train.text]"
   ]
  },
  {
   "cell_type": "code",
   "execution_count": 121,
   "id": "cbe67930",
   "metadata": {},
   "outputs": [
    {
     "name": "stderr",
     "output_type": "stream",
     "text": [
      "2025-07-17 08:23:22,281 : INFO : Word2Vec lifecycle event {'params': 'Word2Vec<vocab=0, vector_size=300, alpha=0.025>', 'datetime': '2025-07-17T08:23:22.281868', 'gensim': '4.3.3', 'python': '3.10.18 | packaged by Anaconda, Inc. | (main, Jun  5 2025, 13:08:55) [MSC v.1929 64 bit (AMD64)]', 'platform': 'Windows-10-10.0.19045-SP0', 'event': 'created'}\n",
      "2025-07-17 08:23:22,370 : INFO : collecting all words and their counts\n",
      "2025-07-17 08:23:22,372 : INFO : PROGRESS: at sentence #0, processed 0 words, keeping 0 word types\n",
      "2025-07-17 08:23:22,423 : INFO : PROGRESS: at sentence #10000, processed 72565 words, keeping 14005 word types\n",
      "2025-07-17 08:23:22,455 : INFO : PROGRESS: at sentence #20000, processed 144393 words, keeping 21587 word types\n",
      "2025-07-17 08:23:22,489 : INFO : PROGRESS: at sentence #30000, processed 215826 words, keeping 27541 word types\n",
      "2025-07-17 08:23:22,522 : INFO : PROGRESS: at sentence #40000, processed 288271 words, keeping 32764 word types\n",
      "2025-07-17 08:23:22,558 : INFO : PROGRESS: at sentence #50000, processed 359772 words, keeping 37587 word types\n",
      "2025-07-17 08:23:22,595 : INFO : PROGRESS: at sentence #60000, processed 431431 words, keeping 42198 word types\n",
      "2025-07-17 08:23:22,645 : INFO : PROGRESS: at sentence #70000, processed 503103 words, keeping 46458 word types\n",
      "2025-07-17 08:23:22,675 : INFO : PROGRESS: at sentence #80000, processed 575709 words, keeping 50476 word types\n",
      "2025-07-17 08:23:22,722 : INFO : PROGRESS: at sentence #90000, processed 647100 words, keeping 54140 word types\n",
      "2025-07-17 08:23:22,757 : INFO : PROGRESS: at sentence #100000, processed 718681 words, keeping 57777 word types\n",
      "2025-07-17 08:23:22,794 : INFO : PROGRESS: at sentence #110000, processed 790696 words, keeping 61207 word types\n",
      "2025-07-17 08:23:22,822 : INFO : PROGRESS: at sentence #120000, processed 863134 words, keeping 64583 word types\n",
      "2025-07-17 08:23:22,872 : INFO : PROGRESS: at sentence #130000, processed 935111 words, keeping 67865 word types\n",
      "2025-07-17 08:23:22,908 : INFO : PROGRESS: at sentence #140000, processed 1006668 words, keeping 70966 word types\n",
      "2025-07-17 08:23:22,955 : INFO : PROGRESS: at sentence #150000, processed 1078512 words, keeping 74119 word types\n",
      "2025-07-17 08:23:23,005 : INFO : PROGRESS: at sentence #160000, processed 1149914 words, keeping 77187 word types\n",
      "2025-07-17 08:23:23,039 : INFO : PROGRESS: at sentence #170000, processed 1222145 words, keeping 80267 word types\n",
      "2025-07-17 08:23:23,074 : INFO : PROGRESS: at sentence #180000, processed 1294708 words, keeping 83393 word types\n",
      "2025-07-17 08:23:23,108 : INFO : PROGRESS: at sentence #190000, processed 1367608 words, keeping 86329 word types\n",
      "2025-07-17 08:23:23,159 : INFO : PROGRESS: at sentence #200000, processed 1439469 words, keeping 89103 word types\n",
      "2025-07-17 08:23:23,195 : INFO : PROGRESS: at sentence #210000, processed 1512099 words, keeping 91840 word types\n",
      "2025-07-17 08:23:23,224 : INFO : PROGRESS: at sentence #220000, processed 1584149 words, keeping 94636 word types\n",
      "2025-07-17 08:23:23,272 : INFO : PROGRESS: at sentence #230000, processed 1656354 words, keeping 97353 word types\n",
      "2025-07-17 08:23:23,305 : INFO : PROGRESS: at sentence #240000, processed 1728573 words, keeping 99975 word types\n",
      "2025-07-17 08:23:23,344 : INFO : PROGRESS: at sentence #250000, processed 1801102 words, keeping 102594 word types\n",
      "2025-07-17 08:23:23,395 : INFO : PROGRESS: at sentence #260000, processed 1873103 words, keeping 105162 word types\n",
      "2025-07-17 08:23:23,445 : INFO : PROGRESS: at sentence #270000, processed 1945245 words, keeping 107626 word types\n",
      "2025-07-17 08:23:23,477 : INFO : PROGRESS: at sentence #280000, processed 2017163 words, keeping 110141 word types\n",
      "2025-07-17 08:23:23,522 : INFO : PROGRESS: at sentence #290000, processed 2089574 words, keeping 112539 word types\n",
      "2025-07-17 08:23:23,558 : INFO : PROGRESS: at sentence #300000, processed 2160996 words, keeping 114893 word types\n",
      "2025-07-17 08:23:23,595 : INFO : PROGRESS: at sentence #310000, processed 2232913 words, keeping 117298 word types\n",
      "2025-07-17 08:23:23,625 : INFO : PROGRESS: at sentence #320000, processed 2305039 words, keeping 119693 word types\n",
      "2025-07-17 08:23:23,675 : INFO : PROGRESS: at sentence #330000, processed 2377119 words, keeping 122131 word types\n",
      "2025-07-17 08:23:23,708 : INFO : PROGRESS: at sentence #340000, processed 2449370 words, keeping 124416 word types\n",
      "2025-07-17 08:23:23,745 : INFO : PROGRESS: at sentence #350000, processed 2521564 words, keeping 126669 word types\n",
      "2025-07-17 08:23:23,789 : INFO : PROGRESS: at sentence #360000, processed 2593681 words, keeping 128912 word types\n",
      "2025-07-17 08:23:23,822 : INFO : PROGRESS: at sentence #370000, processed 2665692 words, keeping 131135 word types\n",
      "2025-07-17 08:23:23,861 : INFO : PROGRESS: at sentence #380000, processed 2737859 words, keeping 133403 word types\n",
      "2025-07-17 08:23:23,906 : INFO : PROGRESS: at sentence #390000, processed 2809848 words, keeping 135551 word types\n",
      "2025-07-17 08:23:23,939 : INFO : PROGRESS: at sentence #400000, processed 2882438 words, keeping 137742 word types\n",
      "2025-07-17 08:23:23,978 : INFO : PROGRESS: at sentence #410000, processed 2954075 words, keeping 139909 word types\n",
      "2025-07-17 08:23:24,022 : INFO : PROGRESS: at sentence #420000, processed 3026247 words, keeping 142144 word types\n",
      "2025-07-17 08:23:24,056 : INFO : PROGRESS: at sentence #430000, processed 3098659 words, keeping 144364 word types\n",
      "2025-07-17 08:23:24,094 : INFO : PROGRESS: at sentence #440000, processed 3170663 words, keeping 146439 word types\n",
      "2025-07-17 08:23:24,124 : INFO : PROGRESS: at sentence #450000, processed 3243344 words, keeping 148526 word types\n",
      "2025-07-17 08:23:24,174 : INFO : PROGRESS: at sentence #460000, processed 3315466 words, keeping 150610 word types\n",
      "2025-07-17 08:23:24,208 : INFO : PROGRESS: at sentence #470000, processed 3388295 words, keeping 152737 word types\n",
      "2025-07-17 08:23:24,245 : INFO : PROGRESS: at sentence #480000, processed 3460120 words, keeping 154757 word types\n",
      "2025-07-17 08:23:24,277 : INFO : PROGRESS: at sentence #490000, processed 3531883 words, keeping 156825 word types\n",
      "2025-07-17 08:23:24,323 : INFO : PROGRESS: at sentence #500000, processed 3604217 words, keeping 158859 word types\n",
      "2025-07-17 08:23:24,357 : INFO : PROGRESS: at sentence #510000, processed 3676427 words, keeping 160852 word types\n",
      "2025-07-17 08:23:24,396 : INFO : PROGRESS: at sentence #520000, processed 3749045 words, keeping 162863 word types\n",
      "2025-07-17 08:23:24,424 : INFO : PROGRESS: at sentence #530000, processed 3821622 words, keeping 164929 word types\n",
      "2025-07-17 08:23:24,472 : INFO : PROGRESS: at sentence #540000, processed 3893627 words, keeping 166840 word types\n",
      "2025-07-17 08:23:24,506 : INFO : PROGRESS: at sentence #550000, processed 3965477 words, keeping 168799 word types\n",
      "2025-07-17 08:23:24,546 : INFO : PROGRESS: at sentence #560000, processed 4038050 words, keeping 170802 word types\n",
      "2025-07-17 08:23:24,623 : INFO : PROGRESS: at sentence #570000, processed 4110296 words, keeping 172760 word types\n",
      "2025-07-17 08:23:24,658 : INFO : PROGRESS: at sentence #580000, processed 4182385 words, keeping 174635 word types\n",
      "2025-07-17 08:23:24,705 : INFO : PROGRESS: at sentence #590000, processed 4254632 words, keeping 176470 word types\n",
      "2025-07-17 08:23:24,745 : INFO : PROGRESS: at sentence #600000, processed 4326859 words, keeping 178350 word types\n",
      "2025-07-17 08:23:24,789 : INFO : PROGRESS: at sentence #610000, processed 4399183 words, keeping 180290 word types\n",
      "2025-07-17 08:23:24,822 : INFO : PROGRESS: at sentence #620000, processed 4471343 words, keeping 182129 word types\n",
      "2025-07-17 08:23:24,857 : INFO : PROGRESS: at sentence #630000, processed 4543286 words, keeping 184005 word types\n",
      "2025-07-17 08:23:24,909 : INFO : PROGRESS: at sentence #640000, processed 4615780 words, keeping 185835 word types\n",
      "2025-07-17 08:23:24,945 : INFO : PROGRESS: at sentence #650000, processed 4688481 words, keeping 187705 word types\n",
      "2025-07-17 08:23:24,978 : INFO : PROGRESS: at sentence #660000, processed 4760481 words, keeping 189439 word types\n",
      "2025-07-17 08:23:25,022 : INFO : PROGRESS: at sentence #670000, processed 4833024 words, keeping 191232 word types\n",
      "2025-07-17 08:23:25,057 : INFO : PROGRESS: at sentence #680000, processed 4904516 words, keeping 193177 word types\n",
      "2025-07-17 08:23:25,095 : INFO : PROGRESS: at sentence #690000, processed 4976968 words, keeping 194960 word types\n",
      "2025-07-17 08:23:25,136 : INFO : PROGRESS: at sentence #700000, processed 5049412 words, keeping 196725 word types\n",
      "2025-07-17 08:23:25,172 : INFO : PROGRESS: at sentence #710000, processed 5121976 words, keeping 198516 word types\n",
      "2025-07-17 08:23:25,206 : INFO : PROGRESS: at sentence #720000, processed 5193881 words, keeping 200325 word types\n",
      "2025-07-17 08:23:25,245 : INFO : PROGRESS: at sentence #730000, processed 5265467 words, keeping 202133 word types\n",
      "2025-07-17 08:23:25,274 : INFO : PROGRESS: at sentence #740000, processed 5337518 words, keeping 203818 word types\n",
      "2025-07-17 08:23:25,355 : INFO : PROGRESS: at sentence #750000, processed 5409321 words, keeping 205535 word types\n",
      "2025-07-17 08:23:25,459 : INFO : PROGRESS: at sentence #760000, processed 5481512 words, keeping 207282 word types\n",
      "2025-07-17 08:23:25,607 : INFO : PROGRESS: at sentence #770000, processed 5554093 words, keeping 209076 word types\n",
      "2025-07-17 08:23:25,697 : INFO : PROGRESS: at sentence #780000, processed 5625382 words, keeping 210805 word types\n",
      "2025-07-17 08:23:25,788 : INFO : PROGRESS: at sentence #790000, processed 5698066 words, keeping 212618 word types\n",
      "2025-07-17 08:23:25,842 : INFO : PROGRESS: at sentence #800000, processed 5770880 words, keeping 214374 word types\n",
      "2025-07-17 08:23:25,891 : INFO : PROGRESS: at sentence #810000, processed 5843418 words, keeping 216009 word types\n",
      "2025-07-17 08:23:25,943 : INFO : PROGRESS: at sentence #820000, processed 5915628 words, keeping 217804 word types\n",
      "2025-07-17 08:23:25,991 : INFO : PROGRESS: at sentence #830000, processed 5987499 words, keeping 219585 word types\n",
      "2025-07-17 08:23:26,038 : INFO : PROGRESS: at sentence #840000, processed 6058973 words, keeping 221344 word types\n",
      "2025-07-17 08:23:26,083 : INFO : PROGRESS: at sentence #850000, processed 6131125 words, keeping 223002 word types\n",
      "2025-07-17 08:23:26,134 : INFO : PROGRESS: at sentence #860000, processed 6202951 words, keeping 224643 word types\n",
      "2025-07-17 08:23:26,183 : INFO : PROGRESS: at sentence #870000, processed 6275461 words, keeping 226362 word types\n",
      "2025-07-17 08:23:26,224 : INFO : PROGRESS: at sentence #880000, processed 6347661 words, keeping 227986 word types\n",
      "2025-07-17 08:23:26,256 : INFO : PROGRESS: at sentence #890000, processed 6419806 words, keeping 229634 word types\n",
      "2025-07-17 08:23:26,294 : INFO : PROGRESS: at sentence #900000, processed 6491644 words, keeping 231389 word types\n",
      "2025-07-17 08:23:26,339 : INFO : PROGRESS: at sentence #910000, processed 6564022 words, keeping 233050 word types\n",
      "2025-07-17 08:23:26,373 : INFO : PROGRESS: at sentence #920000, processed 6636228 words, keeping 234686 word types\n",
      "2025-07-17 08:23:26,410 : INFO : PROGRESS: at sentence #930000, processed 6708573 words, keeping 236393 word types\n",
      "2025-07-17 08:23:26,446 : INFO : PROGRESS: at sentence #940000, processed 6779956 words, keeping 238052 word types\n",
      "2025-07-17 08:23:26,489 : INFO : PROGRESS: at sentence #950000, processed 6852599 words, keeping 239716 word types\n",
      "2025-07-17 08:23:26,523 : INFO : PROGRESS: at sentence #960000, processed 6924717 words, keeping 241354 word types\n",
      "2025-07-17 08:23:26,555 : INFO : PROGRESS: at sentence #970000, processed 6996992 words, keeping 242980 word types\n",
      "2025-07-17 08:23:26,598 : INFO : PROGRESS: at sentence #980000, processed 7068402 words, keeping 244646 word types\n",
      "2025-07-17 08:23:26,640 : INFO : PROGRESS: at sentence #990000, processed 7140346 words, keeping 246186 word types\n",
      "2025-07-17 08:23:26,674 : INFO : PROGRESS: at sentence #1000000, processed 7211757 words, keeping 247726 word types\n",
      "2025-07-17 08:23:26,708 : INFO : PROGRESS: at sentence #1010000, processed 7283267 words, keeping 249288 word types\n",
      "2025-07-17 08:23:26,757 : INFO : PROGRESS: at sentence #1020000, processed 7355299 words, keeping 250860 word types\n",
      "2025-07-17 08:23:26,791 : INFO : PROGRESS: at sentence #1030000, processed 7426918 words, keeping 252366 word types\n",
      "2025-07-17 08:23:26,822 : INFO : PROGRESS: at sentence #1040000, processed 7498815 words, keeping 253930 word types\n",
      "2025-07-17 08:23:26,873 : INFO : PROGRESS: at sentence #1050000, processed 7570499 words, keeping 255471 word types\n",
      "2025-07-17 08:23:26,909 : INFO : PROGRESS: at sentence #1060000, processed 7643251 words, keeping 257035 word types\n",
      "2025-07-17 08:23:26,945 : INFO : PROGRESS: at sentence #1070000, processed 7714721 words, keeping 258509 word types\n",
      "2025-07-17 08:23:26,989 : INFO : PROGRESS: at sentence #1080000, processed 7787371 words, keeping 260071 word types\n",
      "2025-07-17 08:23:27,024 : INFO : PROGRESS: at sentence #1090000, processed 7859336 words, keeping 261683 word types\n",
      "2025-07-17 08:23:27,057 : INFO : PROGRESS: at sentence #1100000, processed 7932029 words, keeping 263278 word types\n",
      "2025-07-17 08:23:27,107 : INFO : PROGRESS: at sentence #1110000, processed 8004146 words, keeping 264800 word types\n",
      "2025-07-17 08:23:27,144 : INFO : PROGRESS: at sentence #1120000, processed 8075880 words, keeping 266309 word types\n",
      "2025-07-17 08:23:27,183 : INFO : PROGRESS: at sentence #1130000, processed 8148163 words, keeping 267826 word types\n",
      "2025-07-17 08:23:27,222 : INFO : PROGRESS: at sentence #1140000, processed 8220487 words, keeping 269391 word types\n",
      "2025-07-17 08:23:27,259 : INFO : PROGRESS: at sentence #1150000, processed 8292498 words, keeping 270894 word types\n",
      "2025-07-17 08:23:27,296 : INFO : PROGRESS: at sentence #1160000, processed 8363838 words, keeping 272400 word types\n",
      "2025-07-17 08:23:27,339 : INFO : PROGRESS: at sentence #1170000, processed 8435510 words, keeping 273970 word types\n",
      "2025-07-17 08:23:27,375 : INFO : PROGRESS: at sentence #1180000, processed 8507795 words, keeping 275521 word types\n",
      "2025-07-17 08:23:27,420 : INFO : PROGRESS: at sentence #1190000, processed 8579080 words, keeping 277007 word types\n",
      "2025-07-17 08:23:27,458 : INFO : PROGRESS: at sentence #1200000, processed 8650606 words, keeping 278457 word types\n",
      "2025-07-17 08:23:27,497 : INFO : PROGRESS: at sentence #1210000, processed 8721893 words, keeping 279959 word types\n",
      "2025-07-17 08:23:27,539 : INFO : PROGRESS: at sentence #1220000, processed 8793795 words, keeping 281427 word types\n",
      "2025-07-17 08:23:27,575 : INFO : PROGRESS: at sentence #1230000, processed 8865726 words, keeping 282981 word types\n",
      "2025-07-17 08:23:27,610 : INFO : PROGRESS: at sentence #1240000, processed 8938173 words, keeping 284542 word types\n",
      "2025-07-17 08:23:27,655 : INFO : PROGRESS: at sentence #1250000, processed 9010842 words, keeping 286064 word types\n",
      "2025-07-17 08:23:27,695 : INFO : PROGRESS: at sentence #1260000, processed 9083261 words, keeping 287521 word types\n",
      "2025-07-17 08:23:27,722 : INFO : PROGRESS: at sentence #1270000, processed 9155616 words, keeping 288987 word types\n",
      "2025-07-17 08:23:27,773 : INFO : collected 290418 word types from a corpus of 9227204 raw words and 1280000 sentences\n",
      "2025-07-17 08:23:27,778 : INFO : Creating a fresh vocabulary\n",
      "2025-07-17 08:23:28,205 : INFO : Word2Vec lifecycle event {'msg': 'effective_min_count=10 retains 30369 unique words (10.46% of original 290418, drops 260049)', 'datetime': '2025-07-17T08:23:28.205871', 'gensim': '4.3.3', 'python': '3.10.18 | packaged by Anaconda, Inc. | (main, Jun  5 2025, 13:08:55) [MSC v.1929 64 bit (AMD64)]', 'platform': 'Windows-10-10.0.19045-SP0', 'event': 'prepare_vocab'}\n",
      "2025-07-17 08:23:28,210 : INFO : Word2Vec lifecycle event {'msg': 'effective_min_count=10 leaves 8780739 word corpus (95.16% of original 9227204, drops 446465)', 'datetime': '2025-07-17T08:23:28.210176', 'gensim': '4.3.3', 'python': '3.10.18 | packaged by Anaconda, Inc. | (main, Jun  5 2025, 13:08:55) [MSC v.1929 64 bit (AMD64)]', 'platform': 'Windows-10-10.0.19045-SP0', 'event': 'prepare_vocab'}\n",
      "2025-07-17 08:23:28,544 : INFO : deleting the raw counts dictionary of 290418 items\n",
      "2025-07-17 08:23:28,561 : INFO : sample=0.001 downsamples 45 most-common words\n",
      "2025-07-17 08:23:28,565 : INFO : Word2Vec lifecycle event {'msg': 'downsampling leaves estimated 8222658.616429881 word corpus (93.6%% of prior 8780739)', 'datetime': '2025-07-17T08:23:28.565656', 'gensim': '4.3.3', 'python': '3.10.18 | packaged by Anaconda, Inc. | (main, Jun  5 2025, 13:08:55) [MSC v.1929 64 bit (AMD64)]', 'platform': 'Windows-10-10.0.19045-SP0', 'event': 'prepare_vocab'}\n",
      "2025-07-17 08:23:29,015 : INFO : estimated required memory for 30369 words and 300 dimensions: 88070100 bytes\n",
      "2025-07-17 08:23:29,018 : INFO : resetting layer weights\n",
      "2025-07-17 08:23:29,106 : INFO : Word2Vec lifecycle event {'update': False, 'trim_rule': 'None', 'datetime': '2025-07-17T08:23:29.106088', 'gensim': '4.3.3', 'python': '3.10.18 | packaged by Anaconda, Inc. | (main, Jun  5 2025, 13:08:55) [MSC v.1929 64 bit (AMD64)]', 'platform': 'Windows-10-10.0.19045-SP0', 'event': 'build_vocab'}\n"
     ]
    }
   ],
   "source": [
    "w2v_model = gensim.models.Word2Vec(vector_size=W2V_SIZE, window=W2V_WINDOW, min_count=W2V_MIN_COUNT, workers=8)\n",
    "\n",
    "w2v_model.build_vocab(documents)\n"
   ]
  },
  {
   "cell_type": "code",
   "execution_count": 122,
   "id": "71eaef09",
   "metadata": {},
   "outputs": [
    {
     "data": {
      "text/plain": [
       "[('nicholas', 0.26377832889556885),\n",
       " ('directing', 0.21519960463047028),\n",
       " ('lucky', 0.21431227028369904),\n",
       " ('nig', 0.21158218383789062),\n",
       " ('clinton', 0.2088891565799713),\n",
       " ('marlboro', 0.2045484036207199),\n",
       " ('scouring', 0.20236213505268097),\n",
       " ('byrne', 0.20038558542728424),\n",
       " ('infront', 0.1985827535390854),\n",
       " ('weg', 0.19708609580993652)]"
      ]
     },
     "execution_count": 122,
     "metadata": {},
     "output_type": "execute_result"
    }
   ],
   "source": [
    "w2v_model.wv.most_similar(\"love\")\n"
   ]
  },
  {
   "cell_type": "markdown",
   "id": "281c9243",
   "metadata": {},
   "source": [
    "#### **Tokenize Text**"
   ]
  },
  {
   "cell_type": "code",
   "execution_count": 123,
   "id": "1d5c920a",
   "metadata": {},
   "outputs": [
    {
     "name": "stdout",
     "output_type": "stream",
     "text": [
      "Total Word: 290419\n",
      "CPU times: total: 28.2 s\n",
      "Wall time: 37.8 s\n"
     ]
    }
   ],
   "source": [
    "%%time\n",
    "tokenizer = Tokenizer()\n",
    "tokenizer.fit_on_texts(df_train.text)\n",
    "vocab_size = len(tokenizer.word_index) + 1\n",
    "print(\"Total Word:\", vocab_size)"
   ]
  },
  {
   "cell_type": "code",
   "execution_count": 124,
   "id": "d957a464",
   "metadata": {},
   "outputs": [
    {
     "name": "stdout",
     "output_type": "stream",
     "text": [
      "CPU times: total: 44 s\n",
      "Wall time: 1min\n"
     ]
    }
   ],
   "source": [
    "%%time\n",
    "x_train = pad_sequences(tokenizer.texts_to_sequences(df_train.text), maxlen = SEQUENCE_LENGTH)\n",
    "x_test = pad_sequences(tokenizer.texts_to_sequences(df_test.text), maxlen = SEQUENCE_LENGTH)"
   ]
  },
  {
   "cell_type": "markdown",
   "id": "371d9649",
   "metadata": {},
   "source": [
    "#### **Label Encoder**"
   ]
  },
  {
   "cell_type": "code",
   "execution_count": 125,
   "id": "0b147609",
   "metadata": {},
   "outputs": [
    {
     "data": {
      "text/plain": [
       "['POSITIVE', 'NEGATIVE', 'NEUTRAL']"
      ]
     },
     "execution_count": 125,
     "metadata": {},
     "output_type": "execute_result"
    }
   ],
   "source": [
    "labels = df_train.target.unique().tolist()\n",
    "labels.append(NEUTRAL)\n",
    "labels"
   ]
  },
  {
   "cell_type": "code",
   "execution_count": 126,
   "id": "e2d53633",
   "metadata": {},
   "outputs": [
    {
     "name": "stdout",
     "output_type": "stream",
     "text": [
      "y_train (1280000, 1)\n",
      "y_test (320000, 1)\n"
     ]
    }
   ],
   "source": [
    "encoder = LabelEncoder()\n",
    "encoder.fit(df_train.target.tolist())\n",
    "\n",
    "y_train = encoder.transform(df_train.target.tolist())\n",
    "y_test = encoder.transform(df_test.target.tolist())\n",
    "\n",
    "y_train = y_train.reshape(-1,1)\n",
    "y_test = y_test.reshape(-1,1)\n",
    "\n",
    "print(\"y_train\",y_train.shape)\n",
    "print(\"y_test\",y_test.shape)"
   ]
  },
  {
   "cell_type": "code",
   "execution_count": 127,
   "id": "2ad95f78",
   "metadata": {},
   "outputs": [
    {
     "name": "stdout",
     "output_type": "stream",
     "text": [
      "x_train (1280000, 300)\n",
      "y_train (1280000, 1)\n",
      "\n",
      "x_test (320000, 300)\n",
      "y_test (320000, 1)\n"
     ]
    }
   ],
   "source": [
    "print(\"x_train\", x_train.shape)\n",
    "print(\"y_train\", y_train.shape)\n",
    "print()\n",
    "print(\"x_test\", x_test.shape)\n",
    "print(\"y_test\", y_test.shape)"
   ]
  },
  {
   "cell_type": "code",
   "execution_count": 128,
   "id": "69af6fb1",
   "metadata": {},
   "outputs": [
    {
     "data": {
      "text/plain": [
       "array([[    0,     0,     0, ...,   712,   118, 24590],\n",
       "       [    0,     0,     0, ...,   452,   378, 32447],\n",
       "       [    0,     0,     0, ...,  2048,     4,  5487],\n",
       "       ...,\n",
       "       [    0,     0,     0, ...,   276,   503,   117],\n",
       "       [    0,     0,     0, ...,   229,   849,  2348],\n",
       "       [    0,     0,     0, ...,   196,  2063,  1893]])"
      ]
     },
     "execution_count": 128,
     "metadata": {},
     "output_type": "execute_result"
    }
   ],
   "source": [
    "x_train[:10]"
   ]
  },
  {
   "cell_type": "markdown",
   "id": "a8c0aa3b",
   "metadata": {},
   "source": [
    "#### **Embedding Layer**"
   ]
  },
  {
   "cell_type": "code",
   "execution_count": 129,
   "id": "c1bea29c",
   "metadata": {},
   "outputs": [
    {
     "name": "stdout",
     "output_type": "stream",
     "text": [
      "(290419, 300)\n"
     ]
    }
   ],
   "source": [
    "embedding_matrix = np.zeros((vocab_size, W2V_SIZE))\n",
    "for word, i in tokenizer.word_index.items():\n",
    "    if word in w2v_model.wv:\n",
    "        embedding_matrix[i] = w2v_model.wv[word]\n",
    "print(embedding_matrix.shape)        \n"
   ]
  },
  {
   "cell_type": "code",
   "execution_count": 130,
   "id": "e495fb30",
   "metadata": {},
   "outputs": [
    {
     "name": "stderr",
     "output_type": "stream",
     "text": [
      "c:\\Users\\anast\\AppData\\Local\\miniconda3\\envs\\nlp\\lib\\site-packages\\keras\\src\\layers\\core\\embedding.py:97: UserWarning: Argument `input_length` is deprecated. Just remove it.\n",
      "  warnings.warn(\n"
     ]
    }
   ],
   "source": [
    "embedding_layer = Embedding(vocab_size, W2V_SIZE, weights=[embedding_matrix], input_length=SEQUENCE_LENGTH, trainable=False)\n"
   ]
  },
  {
   "cell_type": "markdown",
   "id": "f86fb326",
   "metadata": {},
   "source": [
    "### **Build Model**"
   ]
  },
  {
   "cell_type": "code",
   "execution_count": 134,
   "id": "690eeae9",
   "metadata": {},
   "outputs": [
    {
     "name": "stderr",
     "output_type": "stream",
     "text": [
      "2025-07-17 08:52:15,562 : INFO : Word2Vec lifecycle event {'msg': 'training model with 8 workers on 30369 vocabulary and 300 features, using sg=0 hs=0 sample=0.001 negative=5 window=7 shrink_windows=True', 'datetime': '2025-07-17T08:52:15.560378', 'gensim': '4.3.3', 'python': '3.10.18 | packaged by Anaconda, Inc. | (main, Jun  5 2025, 13:08:55) [MSC v.1929 64 bit (AMD64)]', 'platform': 'Windows-10-10.0.19045-SP0', 'event': 'train'}\n",
      "2025-07-17 08:52:16,859 : INFO : EPOCH 0 - PROGRESS: at 0.54% examples, 42994 words/s, in_qsize 5, out_qsize 0\n",
      "2025-07-17 08:52:17,887 : INFO : EPOCH 0 - PROGRESS: at 2.39% examples, 95059 words/s, in_qsize 15, out_qsize 1\n",
      "2025-07-17 08:52:19,028 : INFO : EPOCH 0 - PROGRESS: at 5.43% examples, 139019 words/s, in_qsize 15, out_qsize 0\n",
      "2025-07-17 08:52:20,028 : INFO : EPOCH 0 - PROGRESS: at 8.58% examples, 167453 words/s, in_qsize 11, out_qsize 4\n",
      "2025-07-17 08:52:21,043 : INFO : EPOCH 0 - PROGRESS: at 12.49% examples, 196217 words/s, in_qsize 15, out_qsize 0\n",
      "2025-07-17 08:52:22,057 : INFO : EPOCH 0 - PROGRESS: at 16.70% examples, 219846 words/s, in_qsize 15, out_qsize 0\n",
      "2025-07-17 08:52:23,132 : INFO : EPOCH 0 - PROGRESS: at 20.92% examples, 235320 words/s, in_qsize 14, out_qsize 1\n",
      "2025-07-17 08:52:24,132 : INFO : EPOCH 0 - PROGRESS: at 24.28% examples, 240234 words/s, in_qsize 16, out_qsize 1\n",
      "2025-07-17 08:52:25,163 : INFO : EPOCH 0 - PROGRESS: at 27.53% examples, 242341 words/s, in_qsize 10, out_qsize 5\n",
      "2025-07-17 08:52:26,211 : INFO : EPOCH 0 - PROGRESS: at 31.43% examples, 248779 words/s, in_qsize 15, out_qsize 0\n",
      "2025-07-17 08:52:27,288 : INFO : EPOCH 0 - PROGRESS: at 35.10% examples, 251822 words/s, in_qsize 15, out_qsize 0\n",
      "2025-07-17 08:52:28,302 : INFO : EPOCH 0 - PROGRESS: at 39.43% examples, 259890 words/s, in_qsize 15, out_qsize 0\n",
      "2025-07-17 08:52:29,456 : INFO : EPOCH 0 - PROGRESS: at 42.35% examples, 255478 words/s, in_qsize 15, out_qsize 0\n",
      "2025-07-17 08:52:30,579 : INFO : EPOCH 0 - PROGRESS: at 44.08% examples, 245754 words/s, in_qsize 8, out_qsize 0\n",
      "2025-07-17 08:52:31,586 : INFO : EPOCH 0 - PROGRESS: at 46.13% examples, 240794 words/s, in_qsize 16, out_qsize 0\n",
      "2025-07-17 08:52:32,605 : INFO : EPOCH 0 - PROGRESS: at 48.95% examples, 239773 words/s, in_qsize 15, out_qsize 0\n",
      "2025-07-17 08:52:33,709 : INFO : EPOCH 0 - PROGRESS: at 51.75% examples, 238125 words/s, in_qsize 16, out_qsize 1\n",
      "2025-07-17 08:52:34,717 : INFO : EPOCH 0 - PROGRESS: at 54.78% examples, 238625 words/s, in_qsize 15, out_qsize 0\n",
      "2025-07-17 08:52:35,859 : INFO : EPOCH 0 - PROGRESS: at 57.27% examples, 235218 words/s, in_qsize 15, out_qsize 0\n",
      "2025-07-17 08:52:36,879 : INFO : EPOCH 0 - PROGRESS: at 60.09% examples, 234739 words/s, in_qsize 16, out_qsize 0\n",
      "2025-07-17 08:52:37,895 : INFO : EPOCH 0 - PROGRESS: at 63.11% examples, 235331 words/s, in_qsize 13, out_qsize 2\n",
      "2025-07-17 08:52:38,997 : INFO : EPOCH 0 - PROGRESS: at 65.72% examples, 233370 words/s, in_qsize 16, out_qsize 0\n",
      "2025-07-17 08:52:40,022 : INFO : EPOCH 0 - PROGRESS: at 68.85% examples, 234123 words/s, in_qsize 16, out_qsize 0\n",
      "2025-07-17 08:52:41,056 : INFO : EPOCH 0 - PROGRESS: at 71.24% examples, 232332 words/s, in_qsize 15, out_qsize 0\n",
      "2025-07-17 08:52:42,187 : INFO : EPOCH 0 - PROGRESS: at 73.73% examples, 230140 words/s, in_qsize 16, out_qsize 0\n",
      "2025-07-17 08:52:43,254 : INFO : EPOCH 0 - PROGRESS: at 76.98% examples, 230929 words/s, in_qsize 16, out_qsize 0\n",
      "2025-07-17 08:52:44,422 : INFO : EPOCH 0 - PROGRESS: at 79.70% examples, 229284 words/s, in_qsize 16, out_qsize 0\n",
      "2025-07-17 08:52:45,416 : INFO : EPOCH 0 - PROGRESS: at 82.53% examples, 229360 words/s, in_qsize 16, out_qsize 0\n",
      "2025-07-17 08:52:46,447 : INFO : EPOCH 0 - PROGRESS: at 85.66% examples, 230120 words/s, in_qsize 13, out_qsize 2\n",
      "2025-07-17 08:52:47,659 : INFO : EPOCH 0 - PROGRESS: at 88.37% examples, 228324 words/s, in_qsize 15, out_qsize 0\n",
      "2025-07-17 08:52:48,699 : INFO : EPOCH 0 - PROGRESS: at 91.20% examples, 228294 words/s, in_qsize 13, out_qsize 5\n",
      "2025-07-17 08:52:49,722 : INFO : EPOCH 0 - PROGRESS: at 94.25% examples, 228639 words/s, in_qsize 15, out_qsize 0\n",
      "2025-07-17 08:52:50,843 : INFO : EPOCH 0 - PROGRESS: at 96.85% examples, 227355 words/s, in_qsize 15, out_qsize 0\n",
      "2025-07-17 08:52:51,776 : INFO : EPOCH 0: training on 9227204 raw words (8223335 effective words) took 36.0s, 228740 effective words/s\n",
      "2025-07-17 08:52:52,823 : INFO : EPOCH 1 - PROGRESS: at 2.39% examples, 194613 words/s, in_qsize 16, out_qsize 0\n",
      "2025-07-17 08:52:53,820 : INFO : EPOCH 1 - PROGRESS: at 5.00% examples, 204013 words/s, in_qsize 15, out_qsize 0\n",
      "2025-07-17 08:52:54,859 : INFO : EPOCH 1 - PROGRESS: at 8.47% examples, 227856 words/s, in_qsize 15, out_qsize 0\n",
      "2025-07-17 08:52:55,926 : INFO : EPOCH 1 - PROGRESS: at 11.40% examples, 227461 words/s, in_qsize 15, out_qsize 0\n",
      "2025-07-17 08:52:56,957 : INFO : EPOCH 1 - PROGRESS: at 14.75% examples, 235573 words/s, in_qsize 15, out_qsize 0\n",
      "2025-07-17 08:52:58,017 : INFO : EPOCH 1 - PROGRESS: at 17.79% examples, 235451 words/s, in_qsize 14, out_qsize 4\n",
      "2025-07-17 08:52:59,031 : INFO : EPOCH 1 - PROGRESS: at 21.03% examples, 239481 words/s, in_qsize 16, out_qsize 0\n",
      "2025-07-17 08:53:00,241 : INFO : EPOCH 1 - PROGRESS: at 24.06% examples, 234693 words/s, in_qsize 15, out_qsize 0\n",
      "2025-07-17 08:53:01,242 : INFO : EPOCH 1 - PROGRESS: at 27.53% examples, 239805 words/s, in_qsize 16, out_qsize 1\n",
      "2025-07-17 08:53:02,282 : INFO : EPOCH 1 - PROGRESS: at 30.89% examples, 242363 words/s, in_qsize 15, out_qsize 0\n",
      "2025-07-17 08:53:03,293 : INFO : EPOCH 1 - PROGRESS: at 34.24% examples, 245094 words/s, in_qsize 15, out_qsize 0\n",
      "2025-07-17 08:53:04,305 : INFO : EPOCH 1 - PROGRESS: at 37.16% examples, 244607 words/s, in_qsize 15, out_qsize 0\n",
      "2025-07-17 08:53:05,331 : INFO : EPOCH 1 - PROGRESS: at 40.62% examples, 246987 words/s, in_qsize 15, out_qsize 0\n",
      "2025-07-17 08:53:06,359 : INFO : EPOCH 1 - PROGRESS: at 44.18% examples, 249802 words/s, in_qsize 15, out_qsize 0\n",
      "2025-07-17 08:53:07,373 : INFO : EPOCH 1 - PROGRESS: at 47.11% examples, 248954 words/s, in_qsize 14, out_qsize 1\n",
      "2025-07-17 08:53:08,373 : INFO : EPOCH 1 - PROGRESS: at 50.13% examples, 248935 words/s, in_qsize 16, out_qsize 0\n",
      "2025-07-17 08:53:09,388 : INFO : EPOCH 1 - PROGRESS: at 53.27% examples, 249349 words/s, in_qsize 16, out_qsize 0\n",
      "2025-07-17 08:53:10,404 : INFO : EPOCH 1 - PROGRESS: at 56.62% examples, 250630 words/s, in_qsize 15, out_qsize 0\n",
      "2025-07-17 08:53:11,436 : INFO : EPOCH 1 - PROGRESS: at 60.30% examples, 252862 words/s, in_qsize 15, out_qsize 0\n",
      "2025-07-17 08:53:12,510 : INFO : EPOCH 1 - PROGRESS: at 63.43% examples, 252251 words/s, in_qsize 14, out_qsize 1\n",
      "2025-07-17 08:53:13,514 : INFO : EPOCH 1 - PROGRESS: at 66.58% examples, 252443 words/s, in_qsize 15, out_qsize 0\n",
      "2025-07-17 08:53:14,587 : INFO : EPOCH 1 - PROGRESS: at 69.94% examples, 252596 words/s, in_qsize 16, out_qsize 0\n",
      "2025-07-17 08:53:15,590 : INFO : EPOCH 1 - PROGRESS: at 73.30% examples, 253539 words/s, in_qsize 16, out_qsize 2\n",
      "2025-07-17 08:53:16,611 : INFO : EPOCH 1 - PROGRESS: at 76.55% examples, 253988 words/s, in_qsize 15, out_qsize 0\n",
      "2025-07-17 08:53:17,612 : INFO : EPOCH 1 - PROGRESS: at 80.03% examples, 255192 words/s, in_qsize 14, out_qsize 1\n",
      "2025-07-17 08:53:18,651 : INFO : EPOCH 1 - PROGRESS: at 83.29% examples, 255272 words/s, in_qsize 15, out_qsize 0\n",
      "2025-07-17 08:53:19,711 : INFO : EPOCH 1 - PROGRESS: at 86.64% examples, 255468 words/s, in_qsize 15, out_qsize 0\n",
      "2025-07-17 08:53:20,722 : INFO : EPOCH 1 - PROGRESS: at 89.78% examples, 255437 words/s, in_qsize 15, out_qsize 0\n",
      "2025-07-17 08:53:21,758 : INFO : EPOCH 1 - PROGRESS: at 93.26% examples, 256111 words/s, in_qsize 16, out_qsize 0\n",
      "2025-07-17 08:53:22,799 : INFO : EPOCH 1 - PROGRESS: at 96.53% examples, 256071 words/s, in_qsize 15, out_qsize 0\n",
      "2025-07-17 08:53:23,712 : INFO : EPOCH 1: training on 9227204 raw words (8222296 effective words) took 31.9s, 257740 effective words/s\n",
      "2025-07-17 08:53:24,901 : INFO : EPOCH 2 - PROGRESS: at 2.82% examples, 201311 words/s, in_qsize 15, out_qsize 0\n",
      "2025-07-17 08:53:26,071 : INFO : EPOCH 2 - PROGRESS: at 4.23% examples, 149094 words/s, in_qsize 13, out_qsize 8\n",
      "2025-07-17 08:53:27,125 : INFO : EPOCH 2 - PROGRESS: at 8.25% examples, 200128 words/s, in_qsize 15, out_qsize 0\n",
      "2025-07-17 08:53:28,173 : INFO : EPOCH 2 - PROGRESS: at 11.84% examples, 219627 words/s, in_qsize 16, out_qsize 0\n",
      "2025-07-17 08:53:29,208 : INFO : EPOCH 2 - PROGRESS: at 15.30% examples, 229792 words/s, in_qsize 15, out_qsize 0\n",
      "2025-07-17 08:53:30,226 : INFO : EPOCH 2 - PROGRESS: at 18.87% examples, 239398 words/s, in_qsize 15, out_qsize 0\n",
      "2025-07-17 08:53:31,258 : INFO : EPOCH 2 - PROGRESS: at 21.79% examples, 238544 words/s, in_qsize 16, out_qsize 0\n",
      "2025-07-17 08:53:32,292 : INFO : EPOCH 2 - PROGRESS: at 25.48% examples, 245071 words/s, in_qsize 15, out_qsize 0\n",
      "2025-07-17 08:53:33,399 : INFO : EPOCH 2 - PROGRESS: at 28.50% examples, 242781 words/s, in_qsize 16, out_qsize 0\n",
      "2025-07-17 08:53:34,414 : INFO : EPOCH 2 - PROGRESS: at 31.97% examples, 246377 words/s, in_qsize 15, out_qsize 0\n",
      "2025-07-17 08:53:35,427 : INFO : EPOCH 2 - PROGRESS: at 35.10% examples, 247112 words/s, in_qsize 15, out_qsize 0\n",
      "2025-07-17 08:53:36,446 : INFO : EPOCH 2 - PROGRESS: at 38.46% examples, 248963 words/s, in_qsize 15, out_qsize 0\n",
      "2025-07-17 08:53:37,513 : INFO : EPOCH 2 - PROGRESS: at 41.92% examples, 250396 words/s, in_qsize 16, out_qsize 0\n",
      "2025-07-17 08:53:38,635 : INFO : EPOCH 2 - PROGRESS: at 45.70% examples, 252540 words/s, in_qsize 16, out_qsize 0\n",
      "2025-07-17 08:53:39,669 : INFO : EPOCH 2 - PROGRESS: at 49.38% examples, 255206 words/s, in_qsize 15, out_qsize 1\n",
      "2025-07-17 08:53:40,775 : INFO : EPOCH 2 - PROGRESS: at 52.51% examples, 253847 words/s, in_qsize 12, out_qsize 5\n",
      "2025-07-17 08:53:41,821 : INFO : EPOCH 2 - PROGRESS: at 55.97% examples, 254924 words/s, in_qsize 16, out_qsize 0\n",
      "2025-07-17 08:53:42,887 : INFO : EPOCH 2 - PROGRESS: at 59.55% examples, 256087 words/s, in_qsize 16, out_qsize 0\n",
      "2025-07-17 08:53:43,991 : INFO : EPOCH 2 - PROGRESS: at 63.32% examples, 257379 words/s, in_qsize 15, out_qsize 0\n",
      "2025-07-17 08:53:45,003 : INFO : EPOCH 2 - PROGRESS: at 66.15% examples, 256129 words/s, in_qsize 15, out_qsize 0\n",
      "2025-07-17 08:53:46,012 : INFO : EPOCH 2 - PROGRESS: at 69.40% examples, 256481 words/s, in_qsize 16, out_qsize 1\n",
      "2025-07-17 08:53:47,043 : INFO : EPOCH 2 - PROGRESS: at 72.21% examples, 255018 words/s, in_qsize 16, out_qsize 0\n",
      "2025-07-17 08:53:48,065 : INFO : EPOCH 2 - PROGRESS: at 75.89% examples, 256857 words/s, in_qsize 15, out_qsize 0\n",
      "2025-07-17 08:53:49,112 : INFO : EPOCH 2 - PROGRESS: at 79.16% examples, 256669 words/s, in_qsize 13, out_qsize 0\n",
      "2025-07-17 08:53:50,229 : INFO : EPOCH 2 - PROGRESS: at 82.53% examples, 256330 words/s, in_qsize 15, out_qsize 0\n",
      "2025-07-17 08:53:51,303 : INFO : EPOCH 2 - PROGRESS: at 86.21% examples, 257375 words/s, in_qsize 16, out_qsize 0\n",
      "2025-07-17 08:53:52,317 : INFO : EPOCH 2 - PROGRESS: at 89.34% examples, 257285 words/s, in_qsize 15, out_qsize 0\n",
      "2025-07-17 08:53:53,500 : INFO : EPOCH 2 - PROGRESS: at 92.72% examples, 256319 words/s, in_qsize 15, out_qsize 0\n",
      "2025-07-17 08:53:54,558 : INFO : EPOCH 2 - PROGRESS: at 95.99% examples, 256199 words/s, in_qsize 16, out_qsize 0\n",
      "2025-07-17 08:53:55,604 : INFO : EPOCH 2 - PROGRESS: at 99.78% examples, 257608 words/s, in_qsize 2, out_qsize 1\n",
      "2025-07-17 08:53:55,617 : INFO : EPOCH 2: training on 9227204 raw words (8222884 effective words) took 31.9s, 258009 effective words/s\n",
      "2025-07-17 08:53:56,759 : INFO : EPOCH 3 - PROGRESS: at 2.39% examples, 180713 words/s, in_qsize 15, out_qsize 0\n",
      "2025-07-17 08:53:57,795 : INFO : EPOCH 3 - PROGRESS: at 6.19% examples, 240646 words/s, in_qsize 15, out_qsize 0\n",
      "2025-07-17 08:53:58,887 : INFO : EPOCH 3 - PROGRESS: at 9.34% examples, 239319 words/s, in_qsize 15, out_qsize 0\n",
      "2025-07-17 08:53:59,902 : INFO : EPOCH 3 - PROGRESS: at 12.71% examples, 247229 words/s, in_qsize 15, out_qsize 0\n",
      "2025-07-17 08:54:00,909 : INFO : EPOCH 3 - PROGRESS: at 16.05% examples, 251886 words/s, in_qsize 14, out_qsize 1\n",
      "2025-07-17 08:54:01,962 : INFO : EPOCH 3 - PROGRESS: at 19.40% examples, 253717 words/s, in_qsize 15, out_qsize 0\n",
      "2025-07-17 08:54:02,992 : INFO : EPOCH 3 - PROGRESS: at 22.65% examples, 254401 words/s, in_qsize 13, out_qsize 2\n",
      "2025-07-17 08:54:04,034 : INFO : EPOCH 3 - PROGRESS: at 26.45% examples, 260354 words/s, in_qsize 15, out_qsize 0\n",
      "2025-07-17 08:54:05,049 : INFO : EPOCH 3 - PROGRESS: at 29.70% examples, 260666 words/s, in_qsize 15, out_qsize 0\n",
      "2025-07-17 08:54:06,061 : INFO : EPOCH 3 - PROGRESS: at 32.62% examples, 258291 words/s, in_qsize 16, out_qsize 0\n",
      "2025-07-17 08:54:07,193 : INFO : EPOCH 3 - PROGRESS: at 36.18% examples, 258406 words/s, in_qsize 15, out_qsize 0\n",
      "2025-07-17 08:54:08,260 : INFO : EPOCH 3 - PROGRESS: at 39.75% examples, 259975 words/s, in_qsize 16, out_qsize 0\n",
      "2025-07-17 08:54:09,273 : INFO : EPOCH 3 - PROGRESS: at 43.00% examples, 260248 words/s, in_qsize 11, out_qsize 4\n",
      "2025-07-17 08:54:10,279 : INFO : EPOCH 3 - PROGRESS: at 46.35% examples, 261123 words/s, in_qsize 16, out_qsize 1\n",
      "2025-07-17 08:54:11,295 : INFO : EPOCH 3 - PROGRESS: at 49.92% examples, 262969 words/s, in_qsize 15, out_qsize 0\n",
      "2025-07-17 08:54:12,693 : INFO : EPOCH 3 - PROGRESS: at 51.97% examples, 251406 words/s, in_qsize 16, out_qsize 1\n",
      "2025-07-17 08:54:13,712 : INFO : EPOCH 3 - PROGRESS: at 55.43% examples, 252819 words/s, in_qsize 15, out_qsize 0\n",
      "2025-07-17 08:54:14,756 : INFO : EPOCH 3 - PROGRESS: at 59.12% examples, 255046 words/s, in_qsize 15, out_qsize 0\n",
      "2025-07-17 08:54:15,810 : INFO : EPOCH 3 - PROGRESS: at 62.46% examples, 255336 words/s, in_qsize 14, out_qsize 1\n",
      "2025-07-17 08:54:16,969 : INFO : EPOCH 3 - PROGRESS: at 65.83% examples, 254474 words/s, in_qsize 16, out_qsize 0\n",
      "2025-07-17 08:54:17,970 : INFO : EPOCH 3 - PROGRESS: at 69.39% examples, 256209 words/s, in_qsize 15, out_qsize 0\n",
      "2025-07-17 08:54:19,012 : INFO : EPOCH 3 - PROGRESS: at 72.65% examples, 256183 words/s, in_qsize 16, out_qsize 0\n",
      "2025-07-17 08:54:20,077 : INFO : EPOCH 3 - PROGRESS: at 76.22% examples, 257070 words/s, in_qsize 16, out_qsize 0\n",
      "2025-07-17 08:54:21,087 : INFO : EPOCH 3 - PROGRESS: at 79.60% examples, 257747 words/s, in_qsize 12, out_qsize 3\n",
      "2025-07-17 08:54:22,130 : INFO : EPOCH 3 - PROGRESS: at 83.07% examples, 258294 words/s, in_qsize 16, out_qsize 2\n",
      "2025-07-17 08:54:23,224 : INFO : EPOCH 3 - PROGRESS: at 86.42% examples, 258110 words/s, in_qsize 15, out_qsize 0\n",
      "2025-07-17 08:54:24,334 : INFO : EPOCH 3 - PROGRESS: at 90.11% examples, 258650 words/s, in_qsize 15, out_qsize 0\n",
      "2025-07-17 08:54:25,332 : INFO : EPOCH 3 - PROGRESS: at 93.38% examples, 258902 words/s, in_qsize 15, out_qsize 0\n",
      "2025-07-17 08:54:26,381 : INFO : EPOCH 3 - PROGRESS: at 96.75% examples, 259139 words/s, in_qsize 15, out_qsize 0\n",
      "2025-07-17 08:54:27,179 : INFO : EPOCH 3: training on 9227204 raw words (8222551 effective words) took 31.5s, 261093 effective words/s\n",
      "2025-07-17 08:54:28,366 : INFO : EPOCH 4 - PROGRESS: at 2.93% examples, 211379 words/s, in_qsize 15, out_qsize 0\n",
      "2025-07-17 08:54:29,383 : INFO : EPOCH 4 - PROGRESS: at 6.73% examples, 256887 words/s, in_qsize 15, out_qsize 0\n",
      "2025-07-17 08:54:30,416 : INFO : EPOCH 4 - PROGRESS: at 9.66% examples, 249249 words/s, in_qsize 13, out_qsize 7\n",
      "2025-07-17 08:54:31,482 : INFO : EPOCH 4 - PROGRESS: at 13.36% examples, 257598 words/s, in_qsize 16, out_qsize 0\n",
      "2025-07-17 08:54:32,519 : INFO : EPOCH 4 - PROGRESS: at 16.70% examples, 259328 words/s, in_qsize 16, out_qsize 0\n",
      "2025-07-17 08:54:33,563 : INFO : EPOCH 4 - PROGRESS: at 20.05% examples, 259970 words/s, in_qsize 16, out_qsize 0\n",
      "2025-07-17 08:54:34,664 : INFO : EPOCH 4 - PROGRESS: at 23.63% examples, 261208 words/s, in_qsize 15, out_qsize 0\n",
      "2025-07-17 08:54:35,678 : INFO : EPOCH 4 - PROGRESS: at 27.21% examples, 264560 words/s, in_qsize 15, out_qsize 0\n",
      "2025-07-17 08:54:36,698 : INFO : EPOCH 4 - PROGRESS: at 30.56% examples, 265307 words/s, in_qsize 16, out_qsize 1\n",
      "2025-07-17 08:54:37,727 : INFO : EPOCH 4 - PROGRESS: at 34.03% examples, 266604 words/s, in_qsize 15, out_qsize 0\n",
      "2025-07-17 08:54:38,762 : INFO : EPOCH 4 - PROGRESS: at 37.05% examples, 263974 words/s, in_qsize 13, out_qsize 2\n",
      "2025-07-17 08:54:39,786 : INFO : EPOCH 4 - PROGRESS: at 40.62% examples, 266032 words/s, in_qsize 16, out_qsize 0\n",
      "2025-07-17 08:54:40,819 : INFO : EPOCH 4 - PROGRESS: at 43.97% examples, 266228 words/s, in_qsize 14, out_qsize 1\n",
      "2025-07-17 08:54:41,862 : INFO : EPOCH 4 - PROGRESS: at 47.21% examples, 265447 words/s, in_qsize 16, out_qsize 1\n",
      "2025-07-17 08:54:42,865 : INFO : EPOCH 4 - PROGRESS: at 50.03% examples, 263217 words/s, in_qsize 13, out_qsize 2\n",
      "2025-07-17 08:54:43,912 : INFO : EPOCH 4 - PROGRESS: at 53.59% examples, 264393 words/s, in_qsize 16, out_qsize 0\n",
      "2025-07-17 08:54:44,949 : INFO : EPOCH 4 - PROGRESS: at 56.84% examples, 264029 words/s, in_qsize 14, out_qsize 1\n",
      "2025-07-17 08:54:45,962 : INFO : EPOCH 4 - PROGRESS: at 60.30% examples, 264963 words/s, in_qsize 16, out_qsize 0\n",
      "2025-07-17 08:54:47,146 : INFO : EPOCH 4 - PROGRESS: at 63.86% examples, 263840 words/s, in_qsize 16, out_qsize 0\n",
      "2025-07-17 08:54:48,233 : INFO : EPOCH 4 - PROGRESS: at 67.23% examples, 263419 words/s, in_qsize 16, out_qsize 0\n",
      "2025-07-17 08:54:49,329 : INFO : EPOCH 4 - PROGRESS: at 70.16% examples, 261260 words/s, in_qsize 15, out_qsize 0\n",
      "2025-07-17 08:54:50,348 : INFO : EPOCH 4 - PROGRESS: at 73.19% examples, 260527 words/s, in_qsize 15, out_qsize 0\n",
      "2025-07-17 08:54:51,365 : INFO : EPOCH 4 - PROGRESS: at 75.46% examples, 257240 words/s, in_qsize 15, out_qsize 0\n",
      "2025-07-17 08:54:52,414 : INFO : EPOCH 4 - PROGRESS: at 78.95% examples, 257834 words/s, in_qsize 15, out_qsize 0\n",
      "2025-07-17 08:54:53,446 : INFO : EPOCH 4 - PROGRESS: at 82.32% examples, 258140 words/s, in_qsize 15, out_qsize 0\n",
      "2025-07-17 08:54:54,460 : INFO : EPOCH 4 - PROGRESS: at 85.66% examples, 258790 words/s, in_qsize 14, out_qsize 1\n",
      "2025-07-17 08:54:55,463 : INFO : EPOCH 4 - PROGRESS: at 88.59% examples, 258084 words/s, in_qsize 15, out_qsize 0\n",
      "2025-07-17 08:54:56,485 : INFO : EPOCH 4 - PROGRESS: at 91.64% examples, 257583 words/s, in_qsize 12, out_qsize 3\n",
      "2025-07-17 08:54:57,497 : INFO : EPOCH 4 - PROGRESS: at 95.12% examples, 258359 words/s, in_qsize 15, out_qsize 0\n",
      "2025-07-17 08:54:58,514 : INFO : EPOCH 4 - PROGRESS: at 98.69% examples, 259382 words/s, in_qsize 13, out_qsize 0\n",
      "2025-07-17 08:54:59,138 : INFO : EPOCH 4: training on 9227204 raw words (8221629 effective words) took 31.9s, 257666 effective words/s\n",
      "2025-07-17 08:55:00,393 : INFO : EPOCH 5 - PROGRESS: at 1.95% examples, 158519 words/s, in_qsize 15, out_qsize 0\n",
      "2025-07-17 08:55:01,389 : INFO : EPOCH 5 - PROGRESS: at 5.75% examples, 234657 words/s, in_qsize 15, out_qsize 0\n",
      "2025-07-17 08:55:02,431 : INFO : EPOCH 5 - PROGRESS: at 9.01% examples, 241913 words/s, in_qsize 15, out_qsize 0\n",
      "2025-07-17 08:55:03,450 : INFO : EPOCH 5 - PROGRESS: at 12.17% examples, 245083 words/s, in_qsize 15, out_qsize 0\n",
      "2025-07-17 08:55:04,567 : INFO : EPOCH 5 - PROGRESS: at 15.84% examples, 250677 words/s, in_qsize 15, out_qsize 0\n",
      "2025-07-17 08:55:05,598 : INFO : EPOCH 5 - PROGRESS: at 18.54% examples, 245034 words/s, in_qsize 16, out_qsize 4\n",
      "2025-07-17 08:55:06,606 : INFO : EPOCH 5 - PROGRESS: at 22.22% examples, 252685 words/s, in_qsize 15, out_qsize 0\n",
      "2025-07-17 08:55:07,603 : INFO : EPOCH 5 - PROGRESS: at 25.59% examples, 255532 words/s, in_qsize 15, out_qsize 0\n",
      "2025-07-17 08:55:08,614 : INFO : EPOCH 5 - PROGRESS: at 28.94% examples, 257482 words/s, in_qsize 16, out_qsize 0\n",
      "2025-07-17 08:55:09,839 : INFO : EPOCH 5 - PROGRESS: at 32.41% examples, 254777 words/s, in_qsize 16, out_qsize 0\n",
      "2025-07-17 08:55:10,914 : INFO : EPOCH 5 - PROGRESS: at 35.97% examples, 256480 words/s, in_qsize 14, out_qsize 1\n",
      "2025-07-17 08:55:11,916 : INFO : EPOCH 5 - PROGRESS: at 39.54% examples, 259475 words/s, in_qsize 14, out_qsize 1\n",
      "2025-07-17 08:55:12,919 : INFO : EPOCH 5 - PROGRESS: at 42.89% examples, 260454 words/s, in_qsize 14, out_qsize 1\n",
      "2025-07-17 08:55:13,967 : INFO : EPOCH 5 - PROGRESS: at 46.24% examples, 260688 words/s, in_qsize 15, out_qsize 0\n",
      "2025-07-17 08:55:15,021 : INFO : EPOCH 5 - PROGRESS: at 48.95% examples, 257404 words/s, in_qsize 16, out_qsize 0\n",
      "2025-07-17 08:55:16,502 : INFO : EPOCH 5 - PROGRESS: at 51.21% examples, 246106 words/s, in_qsize 14, out_qsize 12\n",
      "2025-07-17 08:55:17,509 : INFO : EPOCH 5 - PROGRESS: at 55.21% examples, 250640 words/s, in_qsize 16, out_qsize 0\n",
      "2025-07-17 08:55:18,523 : INFO : EPOCH 5 - PROGRESS: at 58.14% examples, 249987 words/s, in_qsize 15, out_qsize 0\n",
      "2025-07-17 08:55:19,552 : INFO : EPOCH 5 - PROGRESS: at 61.71% examples, 251744 words/s, in_qsize 16, out_qsize 0\n",
      "2025-07-17 08:55:20,626 : INFO : EPOCH 5 - PROGRESS: at 64.62% examples, 250222 words/s, in_qsize 15, out_qsize 0\n",
      "2025-07-17 08:55:21,654 : INFO : EPOCH 5 - PROGRESS: at 67.99% examples, 251073 words/s, in_qsize 15, out_qsize 0\n",
      "2025-07-17 08:55:22,713 : INFO : EPOCH 5 - PROGRESS: at 71.57% examples, 252425 words/s, in_qsize 15, out_qsize 0\n",
      "2025-07-17 08:55:23,789 : INFO : EPOCH 5 - PROGRESS: at 74.49% examples, 251151 words/s, in_qsize 15, out_qsize 0\n",
      "2025-07-17 08:55:24,792 : INFO : EPOCH 5 - PROGRESS: at 76.87% examples, 248933 words/s, in_qsize 16, out_qsize 0\n",
      "2025-07-17 08:55:25,841 : INFO : EPOCH 5 - PROGRESS: at 79.71% examples, 247802 words/s, in_qsize 16, out_qsize 1\n",
      "2025-07-17 08:55:26,959 : INFO : EPOCH 5 - PROGRESS: at 83.29% examples, 248418 words/s, in_qsize 16, out_qsize 0\n",
      "2025-07-17 08:55:27,991 : INFO : EPOCH 5 - PROGRESS: at 86.75% examples, 249317 words/s, in_qsize 16, out_qsize 0\n",
      "2025-07-17 08:55:29,007 : INFO : EPOCH 5 - PROGRESS: at 90.22% examples, 250479 words/s, in_qsize 15, out_qsize 0\n",
      "2025-07-17 08:55:30,036 : INFO : EPOCH 5 - PROGRESS: at 93.37% examples, 250434 words/s, in_qsize 16, out_qsize 0\n",
      "2025-07-17 08:55:31,049 : INFO : EPOCH 5 - PROGRESS: at 96.53% examples, 250525 words/s, in_qsize 16, out_qsize 0\n",
      "2025-07-17 08:55:31,922 : INFO : EPOCH 5: training on 9227204 raw words (8222861 effective words) took 32.5s, 252704 effective words/s\n",
      "2025-07-17 08:55:33,028 : INFO : EPOCH 6 - PROGRESS: at 2.60% examples, 200783 words/s, in_qsize 15, out_qsize 0\n",
      "2025-07-17 08:55:34,038 : INFO : EPOCH 6 - PROGRESS: at 4.56% examples, 180095 words/s, in_qsize 15, out_qsize 0\n",
      "2025-07-17 08:55:35,091 : INFO : EPOCH 6 - PROGRESS: at 6.95% examples, 182081 words/s, in_qsize 16, out_qsize 0\n",
      "2025-07-17 08:55:36,257 : INFO : EPOCH 6 - PROGRESS: at 10.75% examples, 205428 words/s, in_qsize 16, out_qsize 0\n",
      "2025-07-17 08:55:37,284 : INFO : EPOCH 6 - PROGRESS: at 14.22% examples, 219360 words/s, in_qsize 15, out_qsize 0\n",
      "2025-07-17 08:55:38,323 : INFO : EPOCH 6 - PROGRESS: at 17.89% examples, 231155 words/s, in_qsize 16, out_qsize 0\n",
      "2025-07-17 08:55:39,560 : INFO : EPOCH 6 - PROGRESS: at 20.27% examples, 219300 words/s, in_qsize 12, out_qsize 16\n",
      "2025-07-17 08:55:40,571 : INFO : EPOCH 6 - PROGRESS: at 25.37% examples, 242013 words/s, in_qsize 16, out_qsize 0\n",
      "2025-07-17 08:55:41,588 : INFO : EPOCH 6 - PROGRESS: at 28.40% examples, 242467 words/s, in_qsize 14, out_qsize 1\n",
      "2025-07-17 08:55:42,632 : INFO : EPOCH 6 - PROGRESS: at 31.53% examples, 243068 words/s, in_qsize 16, out_qsize 0\n",
      "2025-07-17 08:55:43,721 : INFO : EPOCH 6 - PROGRESS: at 35.00% examples, 244661 words/s, in_qsize 14, out_qsize 1\n",
      "2025-07-17 08:55:44,749 : INFO : EPOCH 6 - PROGRESS: at 38.57% examples, 248089 words/s, in_qsize 16, out_qsize 0\n",
      "2025-07-17 08:55:45,772 : INFO : EPOCH 6 - PROGRESS: at 41.91% examples, 249728 words/s, in_qsize 15, out_qsize 3\n",
      "2025-07-17 08:55:46,800 : INFO : EPOCH 6 - PROGRESS: at 44.83% examples, 248596 words/s, in_qsize 15, out_qsize 0\n",
      "2025-07-17 08:55:47,928 : INFO : EPOCH 6 - PROGRESS: at 48.51% examples, 250013 words/s, in_qsize 15, out_qsize 0\n",
      "2025-07-17 08:55:48,938 : INFO : EPOCH 6 - PROGRESS: at 51.86% examples, 251367 words/s, in_qsize 16, out_qsize 0\n",
      "2025-07-17 08:55:49,951 : INFO : EPOCH 6 - PROGRESS: at 55.53% examples, 254095 words/s, in_qsize 15, out_qsize 0\n",
      "2025-07-17 08:55:51,007 : INFO : EPOCH 6 - PROGRESS: at 58.57% examples, 253072 words/s, in_qsize 15, out_qsize 0\n",
      "2025-07-17 08:55:52,020 : INFO : EPOCH 6 - PROGRESS: at 61.60% examples, 252732 words/s, in_qsize 15, out_qsize 0\n",
      "2025-07-17 08:55:53,069 : INFO : EPOCH 6 - PROGRESS: at 65.27% examples, 254437 words/s, in_qsize 16, out_qsize 0\n",
      "2025-07-17 08:55:54,092 : INFO : EPOCH 6 - PROGRESS: at 68.53% examples, 254881 words/s, in_qsize 16, out_qsize 0\n",
      "2025-07-17 08:55:55,112 : INFO : EPOCH 6 - PROGRESS: at 71.45% examples, 254060 words/s, in_qsize 15, out_qsize 6\n",
      "2025-07-17 08:55:56,122 : INFO : EPOCH 6 - PROGRESS: at 74.92% examples, 255239 words/s, in_qsize 15, out_qsize 0\n",
      "2025-07-17 08:55:57,137 : INFO : EPOCH 6 - PROGRESS: at 78.51% examples, 256501 words/s, in_qsize 13, out_qsize 2\n",
      "2025-07-17 08:55:58,134 : INFO : EPOCH 6 - PROGRESS: at 81.88% examples, 257237 words/s, in_qsize 15, out_qsize 0\n",
      "2025-07-17 08:55:59,185 : INFO : EPOCH 6 - PROGRESS: at 84.91% examples, 256576 words/s, in_qsize 16, out_qsize 0\n",
      "2025-07-17 08:56:00,210 : INFO : EPOCH 6 - PROGRESS: at 88.37% examples, 257381 words/s, in_qsize 16, out_qsize 0\n",
      "2025-07-17 08:56:01,268 : INFO : EPOCH 6 - PROGRESS: at 91.74% examples, 257412 words/s, in_qsize 16, out_qsize 0\n",
      "2025-07-17 08:56:02,285 : INFO : EPOCH 6 - PROGRESS: at 95.01% examples, 257665 words/s, in_qsize 16, out_qsize 0\n",
      "2025-07-17 08:56:03,303 : INFO : EPOCH 6 - PROGRESS: at 98.47% examples, 258342 words/s, in_qsize 15, out_qsize 0\n",
      "2025-07-17 08:56:03,611 : INFO : EPOCH 6: training on 9227204 raw words (8223690 effective words) took 31.6s, 259854 effective words/s\n",
      "2025-07-17 08:56:04,672 : INFO : EPOCH 7 - PROGRESS: at 2.60% examples, 210314 words/s, in_qsize 13, out_qsize 0\n",
      "2025-07-17 08:56:05,713 : INFO : EPOCH 7 - PROGRESS: at 6.40% examples, 255873 words/s, in_qsize 15, out_qsize 0\n",
      "2025-07-17 08:56:06,776 : INFO : EPOCH 7 - PROGRESS: at 9.88% examples, 260070 words/s, in_qsize 15, out_qsize 0\n",
      "2025-07-17 08:56:07,918 : INFO : EPOCH 7 - PROGRESS: at 13.36% examples, 257352 words/s, in_qsize 16, out_qsize 0\n",
      "2025-07-17 08:56:09,020 : INFO : EPOCH 7 - PROGRESS: at 16.81% examples, 257534 words/s, in_qsize 15, out_qsize 0\n",
      "2025-07-17 08:56:10,055 : INFO : EPOCH 7 - PROGRESS: at 20.37% examples, 261669 words/s, in_qsize 15, out_qsize 0\n",
      "2025-07-17 08:56:11,117 : INFO : EPOCH 7 - PROGRESS: at 23.74% examples, 261547 words/s, in_qsize 16, out_qsize 0\n",
      "2025-07-17 08:56:12,156 : INFO : EPOCH 7 - PROGRESS: at 27.20% examples, 263135 words/s, in_qsize 15, out_qsize 0\n",
      "2025-07-17 08:56:13,172 : INFO : EPOCH 7 - PROGRESS: at 30.89% examples, 266935 words/s, in_qsize 15, out_qsize 0\n",
      "2025-07-17 08:56:14,195 : INFO : EPOCH 7 - PROGRESS: at 34.24% examples, 267279 words/s, in_qsize 15, out_qsize 0\n",
      "2025-07-17 08:56:15,231 : INFO : EPOCH 7 - PROGRESS: at 37.27% examples, 264720 words/s, in_qsize 15, out_qsize 0\n",
      "2025-07-17 08:56:16,239 : INFO : EPOCH 7 - PROGRESS: at 40.19% examples, 262760 words/s, in_qsize 15, out_qsize 0\n",
      "2025-07-17 08:56:17,274 : INFO : EPOCH 7 - PROGRESS: at 43.43% examples, 262453 words/s, in_qsize 15, out_qsize 0\n",
      "2025-07-17 08:56:18,392 : INFO : EPOCH 7 - PROGRESS: at 46.99% examples, 262343 words/s, in_qsize 16, out_qsize 0\n",
      "2025-07-17 08:56:19,436 : INFO : EPOCH 7 - PROGRESS: at 48.83% examples, 254687 words/s, in_qsize 16, out_qsize 0\n",
      "2025-07-17 08:56:20,574 : INFO : EPOCH 7 - PROGRESS: at 52.18% examples, 253794 words/s, in_qsize 16, out_qsize 0\n",
      "2025-07-17 08:56:21,588 : INFO : EPOCH 7 - PROGRESS: at 55.43% examples, 254312 words/s, in_qsize 15, out_qsize 0\n",
      "2025-07-17 08:56:22,638 : INFO : EPOCH 7 - PROGRESS: at 58.68% examples, 254328 words/s, in_qsize 15, out_qsize 0\n",
      "2025-07-17 08:56:23,676 : INFO : EPOCH 7 - PROGRESS: at 61.71% examples, 253675 words/s, in_qsize 16, out_qsize 1\n",
      "2025-07-17 08:56:24,713 : INFO : EPOCH 7 - PROGRESS: at 64.19% examples, 250948 words/s, in_qsize 15, out_qsize 0\n",
      "2025-07-17 08:56:25,755 : INFO : EPOCH 7 - PROGRESS: at 67.99% examples, 253238 words/s, in_qsize 15, out_qsize 0\n",
      "2025-07-17 08:56:26,782 : INFO : EPOCH 7 - PROGRESS: at 71.02% examples, 252782 words/s, in_qsize 16, out_qsize 0\n",
      "2025-07-17 08:56:27,835 : INFO : EPOCH 7 - PROGRESS: at 74.05% examples, 252074 words/s, in_qsize 16, out_qsize 0\n",
      "2025-07-17 08:56:29,245 : INFO : EPOCH 7 - PROGRESS: at 77.53% examples, 249326 words/s, in_qsize 15, out_qsize 12\n",
      "2025-07-17 08:56:30,320 : INFO : EPOCH 7 - PROGRESS: at 81.99% examples, 252946 words/s, in_qsize 16, out_qsize 0\n",
      "2025-07-17 08:56:31,327 : INFO : EPOCH 7 - PROGRESS: at 85.13% examples, 253097 words/s, in_qsize 15, out_qsize 0\n",
      "2025-07-17 08:56:32,403 : INFO : EPOCH 7 - PROGRESS: at 88.26% examples, 252606 words/s, in_qsize 15, out_qsize 0\n",
      "2025-07-17 08:56:33,451 : INFO : EPOCH 7 - PROGRESS: at 91.31% examples, 252081 words/s, in_qsize 15, out_qsize 2\n",
      "2025-07-17 08:56:34,474 : INFO : EPOCH 7 - PROGRESS: at 95.12% examples, 253775 words/s, in_qsize 15, out_qsize 0\n",
      "2025-07-17 08:56:35,505 : INFO : EPOCH 7 - PROGRESS: at 97.93% examples, 252880 words/s, in_qsize 15, out_qsize 0\n",
      "2025-07-17 08:56:35,938 : INFO : EPOCH 7: training on 9227204 raw words (8222549 effective words) took 32.3s, 254764 effective words/s\n",
      "2025-07-17 08:56:37,213 : INFO : EPOCH 8 - PROGRESS: at 2.71% examples, 188897 words/s, in_qsize 15, out_qsize 6\n",
      "2025-07-17 08:56:38,248 : INFO : EPOCH 8 - PROGRESS: at 6.40% examples, 237195 words/s, in_qsize 16, out_qsize 0\n",
      "2025-07-17 08:56:39,339 : INFO : EPOCH 8 - PROGRESS: at 9.77% examples, 241660 words/s, in_qsize 16, out_qsize 0\n",
      "2025-07-17 08:56:40,436 : INFO : EPOCH 8 - PROGRESS: at 13.15% examples, 244755 words/s, in_qsize 16, out_qsize 0\n",
      "2025-07-17 08:56:41,504 : INFO : EPOCH 8 - PROGRESS: at 16.27% examples, 243800 words/s, in_qsize 13, out_qsize 0\n",
      "2025-07-17 08:56:42,506 : INFO : EPOCH 8 - PROGRESS: at 19.08% examples, 241889 words/s, in_qsize 16, out_qsize 0\n",
      "2025-07-17 08:56:43,539 : INFO : EPOCH 8 - PROGRESS: at 22.54% examples, 246418 words/s, in_qsize 16, out_qsize 0\n",
      "2025-07-17 08:56:44,643 : INFO : EPOCH 8 - PROGRESS: at 26.34% examples, 251135 words/s, in_qsize 16, out_qsize 0\n",
      "2025-07-17 08:56:45,723 : INFO : EPOCH 8 - PROGRESS: at 29.70% examples, 251810 words/s, in_qsize 16, out_qsize 0\n",
      "2025-07-17 08:56:46,742 : INFO : EPOCH 8 - PROGRESS: at 32.84% examples, 251967 words/s, in_qsize 16, out_qsize 0\n",
      "2025-07-17 08:56:47,790 : INFO : EPOCH 8 - PROGRESS: at 36.29% examples, 253706 words/s, in_qsize 15, out_qsize 0\n",
      "2025-07-17 08:56:48,829 : INFO : EPOCH 8 - PROGRESS: at 39.54% examples, 254060 words/s, in_qsize 15, out_qsize 0\n",
      "2025-07-17 08:56:49,907 : INFO : EPOCH 8 - PROGRESS: at 42.89% examples, 254023 words/s, in_qsize 15, out_qsize 0\n",
      "2025-07-17 08:56:50,905 : INFO : EPOCH 8 - PROGRESS: at 46.03% examples, 254323 words/s, in_qsize 15, out_qsize 0\n",
      "2025-07-17 08:56:51,974 : INFO : EPOCH 8 - PROGRESS: at 49.59% examples, 255917 words/s, in_qsize 15, out_qsize 0\n",
      "2025-07-17 08:56:53,177 : INFO : EPOCH 8 - PROGRESS: at 53.16% examples, 255061 words/s, in_qsize 15, out_qsize 0\n",
      "2025-07-17 08:56:54,259 : INFO : EPOCH 8 - PROGRESS: at 56.40% examples, 254632 words/s, in_qsize 16, out_qsize 5\n",
      "2025-07-17 08:56:55,333 : INFO : EPOCH 8 - PROGRESS: at 59.77% examples, 254784 words/s, in_qsize 15, out_qsize 0\n",
      "2025-07-17 08:56:56,492 : INFO : EPOCH 8 - PROGRESS: at 63.22% examples, 254305 words/s, in_qsize 15, out_qsize 0\n",
      "2025-07-17 08:56:57,490 : INFO : EPOCH 8 - PROGRESS: at 66.25% examples, 253997 words/s, in_qsize 16, out_qsize 0\n",
      "2025-07-17 08:56:58,501 : INFO : EPOCH 8 - PROGRESS: at 69.61% examples, 254974 words/s, in_qsize 15, out_qsize 1\n",
      "2025-07-17 08:56:59,501 : INFO : EPOCH 8 - PROGRESS: at 72.53% examples, 254342 words/s, in_qsize 16, out_qsize 1\n",
      "2025-07-17 08:57:00,560 : INFO : EPOCH 8 - PROGRESS: at 75.78% examples, 254145 words/s, in_qsize 16, out_qsize 0\n",
      "2025-07-17 08:57:01,606 : INFO : EPOCH 8 - PROGRESS: at 78.94% examples, 253871 words/s, in_qsize 16, out_qsize 1\n",
      "2025-07-17 08:57:02,663 : INFO : EPOCH 8 - PROGRESS: at 81.12% examples, 250489 words/s, in_qsize 16, out_qsize 0\n",
      "2025-07-17 08:57:03,739 : INFO : EPOCH 8 - PROGRESS: at 83.50% examples, 247884 words/s, in_qsize 16, out_qsize 0\n",
      "2025-07-17 08:57:04,889 : INFO : EPOCH 8 - PROGRESS: at 86.85% examples, 247481 words/s, in_qsize 12, out_qsize 3\n",
      "2025-07-17 08:57:06,004 : INFO : EPOCH 8 - PROGRESS: at 90.33% examples, 247869 words/s, in_qsize 16, out_qsize 0\n",
      "2025-07-17 08:57:07,011 : INFO : EPOCH 8 - PROGRESS: at 93.05% examples, 246996 words/s, in_qsize 16, out_qsize 2\n",
      "2025-07-17 08:57:08,125 : INFO : EPOCH 8 - PROGRESS: at 96.53% examples, 247300 words/s, in_qsize 15, out_qsize 0\n",
      "2025-07-17 08:57:09,010 : INFO : EPOCH 8: training on 9227204 raw words (8222134 effective words) took 33.0s, 249281 effective words/s\n",
      "2025-07-17 08:57:10,058 : INFO : EPOCH 9 - PROGRESS: at 2.71% examples, 222016 words/s, in_qsize 15, out_qsize 0\n",
      "2025-07-17 08:57:11,140 : INFO : EPOCH 9 - PROGRESS: at 6.29% examples, 248005 words/s, in_qsize 16, out_qsize 0\n",
      "2025-07-17 08:57:12,145 : INFO : EPOCH 9 - PROGRESS: at 9.23% examples, 244897 words/s, in_qsize 15, out_qsize 0\n",
      "2025-07-17 08:57:13,206 : INFO : EPOCH 9 - PROGRESS: at 12.49% examples, 246975 words/s, in_qsize 16, out_qsize 0\n",
      "2025-07-17 08:57:14,247 : INFO : EPOCH 9 - PROGRESS: at 15.73% examples, 248902 words/s, in_qsize 15, out_qsize 0\n",
      "2025-07-17 08:57:15,363 : INFO : EPOCH 9 - PROGRESS: at 19.08% examples, 248649 words/s, in_qsize 16, out_qsize 0\n",
      "2025-07-17 08:57:16,362 : INFO : EPOCH 9 - PROGRESS: at 22.44% examples, 252356 words/s, in_qsize 12, out_qsize 3\n",
      "2025-07-17 08:57:17,362 : INFO : EPOCH 9 - PROGRESS: at 25.48% examples, 251976 words/s, in_qsize 15, out_qsize 0\n",
      "2025-07-17 08:57:18,374 : INFO : EPOCH 9 - PROGRESS: at 26.88% examples, 236756 words/s, in_qsize 16, out_qsize 6\n",
      "2025-07-17 08:57:19,440 : INFO : EPOCH 9 - PROGRESS: at 29.70% examples, 235008 words/s, in_qsize 16, out_qsize 0\n",
      "2025-07-17 08:57:20,493 : INFO : EPOCH 9 - PROGRESS: at 32.08% examples, 230332 words/s, in_qsize 15, out_qsize 0\n",
      "2025-07-17 08:57:21,506 : INFO : EPOCH 9 - PROGRESS: at 35.32% examples, 233244 words/s, in_qsize 16, out_qsize 0\n",
      "2025-07-17 08:57:22,523 : INFO : EPOCH 9 - PROGRESS: at 38.57% examples, 235486 words/s, in_qsize 15, out_qsize 1\n",
      "2025-07-17 08:57:23,604 : INFO : EPOCH 9 - PROGRESS: at 42.13% examples, 238183 words/s, in_qsize 15, out_qsize 0\n",
      "2025-07-17 08:57:24,667 : INFO : EPOCH 9 - PROGRESS: at 45.59% examples, 240239 words/s, in_qsize 15, out_qsize 0\n",
      "2025-07-17 08:57:25,728 : INFO : EPOCH 9 - PROGRESS: at 49.16% examples, 242483 words/s, in_qsize 15, out_qsize 0\n",
      "2025-07-17 08:57:26,730 : INFO : EPOCH 9 - PROGRESS: at 51.54% examples, 239845 words/s, in_qsize 16, out_qsize 0\n",
      "2025-07-17 08:57:27,930 : INFO : EPOCH 9 - PROGRESS: at 55.32% examples, 241141 words/s, in_qsize 16, out_qsize 0\n",
      "2025-07-17 08:57:28,970 : INFO : EPOCH 9 - PROGRESS: at 59.12% examples, 244271 words/s, in_qsize 16, out_qsize 0\n",
      "2025-07-17 08:57:29,996 : INFO : EPOCH 9 - PROGRESS: at 62.14% examples, 244111 words/s, in_qsize 14, out_qsize 1\n",
      "2025-07-17 08:57:31,023 : INFO : EPOCH 9 - PROGRESS: at 65.17% examples, 244134 words/s, in_qsize 16, out_qsize 1\n",
      "2025-07-17 08:57:32,028 : INFO : EPOCH 9 - PROGRESS: at 68.64% examples, 245775 words/s, in_qsize 15, out_qsize 0\n",
      "2025-07-17 08:57:33,088 : INFO : EPOCH 9 - PROGRESS: at 71.78% examples, 245773 words/s, in_qsize 16, out_qsize 0\n",
      "2025-07-17 08:57:34,232 : INFO : EPOCH 9 - PROGRESS: at 75.24% examples, 245905 words/s, in_qsize 14, out_qsize 3\n",
      "2025-07-17 08:57:35,241 : INFO : EPOCH 9 - PROGRESS: at 78.95% examples, 247996 words/s, in_qsize 15, out_qsize 0\n",
      "2025-07-17 08:57:36,248 : INFO : EPOCH 9 - PROGRESS: at 82.32% examples, 248973 words/s, in_qsize 15, out_qsize 0\n",
      "2025-07-17 08:57:37,341 : INFO : EPOCH 9 - PROGRESS: at 85.66% examples, 249094 words/s, in_qsize 16, out_qsize 0\n",
      "2025-07-17 08:57:38,409 : INFO : EPOCH 9 - PROGRESS: at 89.34% examples, 250326 words/s, in_qsize 15, out_qsize 0\n",
      "2025-07-17 08:57:39,419 : INFO : EPOCH 9 - PROGRESS: at 92.61% examples, 250800 words/s, in_qsize 15, out_qsize 0\n",
      "2025-07-17 08:57:40,546 : INFO : EPOCH 9 - PROGRESS: at 94.58% examples, 246887 words/s, in_qsize 15, out_qsize 0\n",
      "2025-07-17 08:57:41,568 : INFO : EPOCH 9 - PROGRESS: at 97.82% examples, 247356 words/s, in_qsize 16, out_qsize 0\n",
      "2025-07-17 08:57:42,146 : INFO : EPOCH 9: training on 9227204 raw words (8221944 effective words) took 33.1s, 248453 effective words/s\n",
      "2025-07-17 08:57:43,278 : INFO : EPOCH 10 - PROGRESS: at 2.82% examples, 211756 words/s, in_qsize 15, out_qsize 0\n",
      "2025-07-17 08:57:44,286 : INFO : EPOCH 10 - PROGRESS: at 6.19% examples, 241116 words/s, in_qsize 16, out_qsize 0\n",
      "2025-07-17 08:57:45,303 : INFO : EPOCH 10 - PROGRESS: at 9.56% examples, 251530 words/s, in_qsize 16, out_qsize 0\n",
      "2025-07-17 08:57:46,354 : INFO : EPOCH 10 - PROGRESS: at 13.25% examples, 260769 words/s, in_qsize 15, out_qsize 0\n",
      "2025-07-17 08:57:47,364 : INFO : EPOCH 10 - PROGRESS: at 16.16% examples, 255945 words/s, in_qsize 12, out_qsize 3\n",
      "2025-07-17 08:57:48,424 : INFO : EPOCH 10 - PROGRESS: at 19.19% examples, 252681 words/s, in_qsize 12, out_qsize 3\n",
      "2025-07-17 08:57:49,452 : INFO : EPOCH 10 - PROGRESS: at 22.65% examples, 256220 words/s, in_qsize 15, out_qsize 0\n",
      "2025-07-17 08:57:50,476 : INFO : EPOCH 10 - PROGRESS: at 26.23% examples, 259965 words/s, in_qsize 14, out_qsize 1\n",
      "2025-07-17 08:57:51,497 : INFO : EPOCH 10 - PROGRESS: at 29.70% examples, 262122 words/s, in_qsize 16, out_qsize 0\n",
      "2025-07-17 08:57:52,541 : INFO : EPOCH 10 - PROGRESS: at 31.75% examples, 252091 words/s, in_qsize 16, out_qsize 0\n",
      "2025-07-17 08:57:53,569 : INFO : EPOCH 10 - PROGRESS: at 35.00% examples, 252765 words/s, in_qsize 15, out_qsize 0\n",
      "2025-07-17 08:57:54,581 : INFO : EPOCH 10 - PROGRESS: at 37.70% examples, 249808 words/s, in_qsize 15, out_qsize 0\n",
      "2025-07-17 08:57:55,631 : INFO : EPOCH 10 - PROGRESS: at 40.83% examples, 249698 words/s, in_qsize 15, out_qsize 0\n",
      "2025-07-17 08:57:56,782 : INFO : EPOCH 10 - PROGRESS: at 44.07% examples, 248295 words/s, in_qsize 16, out_qsize 0\n",
      "2025-07-17 08:57:57,791 : INFO : EPOCH 10 - PROGRESS: at 47.21% examples, 248899 words/s, in_qsize 13, out_qsize 2\n",
      "2025-07-17 08:57:58,847 : INFO : EPOCH 10 - PROGRESS: at 50.35% examples, 248640 words/s, in_qsize 15, out_qsize 0\n",
      "2025-07-17 08:57:59,912 : INFO : EPOCH 10 - PROGRESS: at 53.70% examples, 249181 words/s, in_qsize 15, out_qsize 0\n",
      "2025-07-17 08:58:01,009 : INFO : EPOCH 10 - PROGRESS: at 56.73% examples, 248009 words/s, in_qsize 16, out_qsize 0\n",
      "2025-07-17 08:58:02,012 : INFO : EPOCH 10 - PROGRESS: at 59.87% examples, 248496 words/s, in_qsize 14, out_qsize 1\n",
      "2025-07-17 08:58:03,269 : INFO : EPOCH 10 - PROGRESS: at 63.33% examples, 247143 words/s, in_qsize 6, out_qsize 9\n",
      "2025-07-17 08:58:04,348 : INFO : EPOCH 10 - PROGRESS: at 67.13% examples, 249153 words/s, in_qsize 16, out_qsize 0\n",
      "2025-07-17 08:58:05,413 : INFO : EPOCH 10 - PROGRESS: at 70.48% examples, 249680 words/s, in_qsize 16, out_qsize 0\n",
      "2025-07-17 08:58:06,415 : INFO : EPOCH 10 - PROGRESS: at 73.51% examples, 249564 words/s, in_qsize 14, out_qsize 1\n",
      "2025-07-17 08:58:07,436 : INFO : EPOCH 10 - PROGRESS: at 76.00% examples, 247672 words/s, in_qsize 14, out_qsize 1\n",
      "2025-07-17 08:58:08,497 : INFO : EPOCH 10 - PROGRESS: at 79.49% examples, 248384 words/s, in_qsize 16, out_qsize 0\n",
      "2025-07-17 08:58:09,567 : INFO : EPOCH 10 - PROGRESS: at 82.74% examples, 248528 words/s, in_qsize 15, out_qsize 2\n",
      "2025-07-17 08:58:10,621 : INFO : EPOCH 10 - PROGRESS: at 86.21% examples, 249325 words/s, in_qsize 16, out_qsize 0\n",
      "2025-07-17 08:58:11,663 : INFO : EPOCH 10 - PROGRESS: at 88.26% examples, 246311 words/s, in_qsize 11, out_qsize 0\n",
      "2025-07-17 08:58:12,740 : INFO : EPOCH 10 - PROGRESS: at 91.31% examples, 245770 words/s, in_qsize 14, out_qsize 1\n",
      "2025-07-17 08:58:13,784 : INFO : EPOCH 10 - PROGRESS: at 94.36% examples, 245486 words/s, in_qsize 13, out_qsize 2\n",
      "2025-07-17 08:58:14,813 : INFO : EPOCH 10 - PROGRESS: at 97.18% examples, 244834 words/s, in_qsize 15, out_qsize 0\n",
      "2025-07-17 08:58:15,605 : INFO : EPOCH 10: training on 9227204 raw words (8222822 effective words) took 33.4s, 246046 effective words/s\n",
      "2025-07-17 08:58:16,680 : INFO : EPOCH 11 - PROGRESS: at 2.28% examples, 182227 words/s, in_qsize 15, out_qsize 0\n",
      "2025-07-17 08:58:17,700 : INFO : EPOCH 11 - PROGRESS: at 5.76% examples, 230835 words/s, in_qsize 15, out_qsize 0\n",
      "2025-07-17 08:58:18,745 : INFO : EPOCH 11 - PROGRESS: at 8.80% examples, 233629 words/s, in_qsize 13, out_qsize 2\n",
      "2025-07-17 08:58:19,779 : INFO : EPOCH 11 - PROGRESS: at 12.06% examples, 239917 words/s, in_qsize 15, out_qsize 0\n",
      "2025-07-17 08:58:20,798 : INFO : EPOCH 11 - PROGRESS: at 15.08% examples, 240759 words/s, in_qsize 10, out_qsize 5\n",
      "2025-07-17 08:58:21,832 : INFO : EPOCH 11 - PROGRESS: at 18.87% examples, 250710 words/s, in_qsize 15, out_qsize 0\n",
      "2025-07-17 08:58:22,867 : INFO : EPOCH 11 - PROGRESS: at 22.11% examples, 251755 words/s, in_qsize 14, out_qsize 0\n",
      "2025-07-17 08:58:23,883 : INFO : EPOCH 11 - PROGRESS: at 25.26% examples, 252101 words/s, in_qsize 15, out_qsize 0\n",
      "2025-07-17 08:58:24,937 : INFO : EPOCH 11 - PROGRESS: at 28.29% examples, 250148 words/s, in_qsize 16, out_qsize 0\n",
      "2025-07-17 08:58:26,031 : INFO : EPOCH 11 - PROGRESS: at 31.97% examples, 253236 words/s, in_qsize 15, out_qsize 0\n",
      "2025-07-17 08:58:27,088 : INFO : EPOCH 11 - PROGRESS: at 35.32% examples, 253872 words/s, in_qsize 16, out_qsize 0\n",
      "2025-07-17 08:58:28,137 : INFO : EPOCH 11 - PROGRESS: at 38.79% examples, 255477 words/s, in_qsize 15, out_qsize 0\n",
      "2025-07-17 08:58:29,155 : INFO : EPOCH 11 - PROGRESS: at 41.70% examples, 254114 words/s, in_qsize 9, out_qsize 6\n",
      "2025-07-17 08:58:30,171 : INFO : EPOCH 11 - PROGRESS: at 44.94% examples, 254705 words/s, in_qsize 13, out_qsize 2\n",
      "2025-07-17 08:58:31,197 : INFO : EPOCH 11 - PROGRESS: at 48.30% examples, 255699 words/s, in_qsize 14, out_qsize 1\n",
      "2025-07-17 08:58:32,206 : INFO : EPOCH 11 - PROGRESS: at 51.86% examples, 257879 words/s, in_qsize 16, out_qsize 2\n",
      "2025-07-17 08:58:33,268 : INFO : EPOCH 11 - PROGRESS: at 55.42% examples, 259054 words/s, in_qsize 15, out_qsize 0\n",
      "2025-07-17 08:58:34,312 : INFO : EPOCH 11 - PROGRESS: at 58.14% examples, 256460 words/s, in_qsize 14, out_qsize 6\n",
      "2025-07-17 08:58:35,419 : INFO : EPOCH 11 - PROGRESS: at 62.25% examples, 259259 words/s, in_qsize 16, out_qsize 0\n",
      "2025-07-17 08:58:36,524 : INFO : EPOCH 11 - PROGRESS: at 65.50% examples, 258331 words/s, in_qsize 15, out_qsize 0\n",
      "2025-07-17 08:58:37,539 : INFO : EPOCH 11 - PROGRESS: at 69.07% examples, 259760 words/s, in_qsize 15, out_qsize 0\n",
      "2025-07-17 08:58:38,544 : INFO : EPOCH 11 - PROGRESS: at 72.21% examples, 259628 words/s, in_qsize 16, out_qsize 0\n",
      "2025-07-17 08:58:39,593 : INFO : EPOCH 11 - PROGRESS: at 75.67% examples, 260093 words/s, in_qsize 15, out_qsize 0\n",
      "2025-07-17 08:58:40,717 : INFO : EPOCH 11 - PROGRESS: at 79.16% examples, 259853 words/s, in_qsize 16, out_qsize 0\n",
      "2025-07-17 08:58:41,790 : INFO : EPOCH 11 - PROGRESS: at 82.85% examples, 260761 words/s, in_qsize 14, out_qsize 1\n",
      "2025-07-17 08:58:42,815 : INFO : EPOCH 11 - PROGRESS: at 85.99% examples, 260463 words/s, in_qsize 15, out_qsize 0\n",
      "2025-07-17 08:58:43,813 : INFO : EPOCH 11 - PROGRESS: at 89.13% examples, 260384 words/s, in_qsize 16, out_qsize 0\n",
      "2025-07-17 08:58:44,840 : INFO : EPOCH 11 - PROGRESS: at 92.18% examples, 259781 words/s, in_qsize 16, out_qsize 1\n",
      "2025-07-17 08:58:46,021 : INFO : EPOCH 11 - PROGRESS: at 95.88% examples, 259605 words/s, in_qsize 15, out_qsize 0\n",
      "2025-07-17 08:58:47,068 : INFO : EPOCH 11 - PROGRESS: at 99.45% examples, 260353 words/s, in_qsize 5, out_qsize 1\n",
      "2025-07-17 08:58:47,135 : INFO : EPOCH 11: training on 9227204 raw words (8223403 effective words) took 31.5s, 261243 effective words/s\n",
      "2025-07-17 08:58:48,230 : INFO : EPOCH 12 - PROGRESS: at 3.03% examples, 235729 words/s, in_qsize 15, out_qsize 0\n",
      "2025-07-17 08:58:49,416 : INFO : EPOCH 12 - PROGRESS: at 6.08% examples, 223006 words/s, in_qsize 14, out_qsize 6\n",
      "2025-07-17 08:58:50,899 : INFO : EPOCH 12 - PROGRESS: at 8.04% examples, 177139 words/s, in_qsize 16, out_qsize 15\n",
      "2025-07-17 08:58:51,907 : INFO : EPOCH 12 - PROGRESS: at 12.71% examples, 220349 words/s, in_qsize 15, out_qsize 0\n",
      "2025-07-17 08:58:52,929 : INFO : EPOCH 12 - PROGRESS: at 16.05% examples, 228911 words/s, in_qsize 16, out_qsize 1\n",
      "2025-07-17 08:58:53,968 : INFO : EPOCH 12 - PROGRESS: at 19.29% examples, 233273 words/s, in_qsize 16, out_qsize 0\n",
      "2025-07-17 08:58:54,984 : INFO : EPOCH 12 - PROGRESS: at 22.22% examples, 233994 words/s, in_qsize 15, out_qsize 0\n",
      "2025-07-17 08:58:56,022 : INFO : EPOCH 12 - PROGRESS: at 25.37% examples, 235507 words/s, in_qsize 15, out_qsize 0\n",
      "2025-07-17 08:58:57,048 : INFO : EPOCH 12 - PROGRESS: at 28.83% examples, 240108 words/s, in_qsize 12, out_qsize 3\n",
      "2025-07-17 08:58:58,076 : INFO : EPOCH 12 - PROGRESS: at 32.51% examples, 245307 words/s, in_qsize 15, out_qsize 0\n",
      "2025-07-17 08:58:59,101 : INFO : EPOCH 12 - PROGRESS: at 35.21% examples, 242820 words/s, in_qsize 16, out_qsize 0\n",
      "2025-07-17 08:59:00,139 : INFO : EPOCH 12 - PROGRESS: at 38.35% examples, 243377 words/s, in_qsize 16, out_qsize 0\n",
      "2025-07-17 08:59:01,160 : INFO : EPOCH 12 - PROGRESS: at 41.37% examples, 243402 words/s, in_qsize 16, out_qsize 0\n",
      "2025-07-17 08:59:02,300 : INFO : EPOCH 12 - PROGRESS: at 45.16% examples, 245483 words/s, in_qsize 15, out_qsize 0\n",
      "2025-07-17 08:59:03,434 : INFO : EPOCH 12 - PROGRESS: at 47.97% examples, 242809 words/s, in_qsize 16, out_qsize 4\n",
      "2025-07-17 08:59:04,568 : INFO : EPOCH 12 - PROGRESS: at 52.18% examples, 246868 words/s, in_qsize 15, out_qsize 0\n",
      "2025-07-17 08:59:05,604 : INFO : EPOCH 12 - PROGRESS: at 55.64% examples, 248461 words/s, in_qsize 15, out_qsize 0\n",
      "2025-07-17 08:59:06,719 : INFO : EPOCH 12 - PROGRESS: at 59.23% examples, 249364 words/s, in_qsize 16, out_qsize 0\n",
      "2025-07-17 08:59:07,729 : INFO : EPOCH 12 - PROGRESS: at 62.57% examples, 250607 words/s, in_qsize 16, out_qsize 0\n",
      "2025-07-17 08:59:08,817 : INFO : EPOCH 12 - PROGRESS: at 66.26% examples, 251974 words/s, in_qsize 15, out_qsize 0\n",
      "2025-07-17 08:59:09,819 : INFO : EPOCH 12 - PROGRESS: at 69.50% examples, 252618 words/s, in_qsize 13, out_qsize 2\n",
      "2025-07-17 08:59:10,834 : INFO : EPOCH 12 - PROGRESS: at 72.86% examples, 253432 words/s, in_qsize 16, out_qsize 0\n",
      "2025-07-17 08:59:11,860 : INFO : EPOCH 12 - PROGRESS: at 76.22% examples, 254126 words/s, in_qsize 15, out_qsize 0\n",
      "2025-07-17 08:59:12,867 : INFO : EPOCH 12 - PROGRESS: at 79.16% examples, 253510 words/s, in_qsize 15, out_qsize 0\n",
      "2025-07-17 08:59:13,899 : INFO : EPOCH 12 - PROGRESS: at 82.21% examples, 252961 words/s, in_qsize 11, out_qsize 4\n",
      "2025-07-17 08:59:14,985 : INFO : EPOCH 12 - PROGRESS: at 86.21% examples, 254971 words/s, in_qsize 16, out_qsize 0\n",
      "2025-07-17 08:59:16,199 : INFO : EPOCH 12 - PROGRESS: at 90.00% examples, 255066 words/s, in_qsize 16, out_qsize 0\n",
      "2025-07-17 08:59:17,248 : INFO : EPOCH 12 - PROGRESS: at 93.48% examples, 255631 words/s, in_qsize 16, out_qsize 0\n",
      "2025-07-17 08:59:18,260 : INFO : EPOCH 12 - PROGRESS: at 97.07% examples, 256768 words/s, in_qsize 12, out_qsize 0\n",
      "2025-07-17 08:59:19,014 : INFO : EPOCH 12: training on 9227204 raw words (8222961 effective words) took 31.8s, 258314 effective words/s\n",
      "2025-07-17 08:59:20,048 : INFO : EPOCH 13 - PROGRESS: at 2.39% examples, 191915 words/s, in_qsize 16, out_qsize 1\n",
      "2025-07-17 08:59:21,073 : INFO : EPOCH 13 - PROGRESS: at 6.08% examples, 244238 words/s, in_qsize 14, out_qsize 1\n",
      "2025-07-17 08:59:22,115 : INFO : EPOCH 13 - PROGRESS: at 9.12% examples, 242757 words/s, in_qsize 16, out_qsize 2\n",
      "2025-07-17 08:59:23,147 : INFO : EPOCH 13 - PROGRESS: at 12.39% examples, 246945 words/s, in_qsize 16, out_qsize 1\n",
      "2025-07-17 08:59:24,155 : INFO : EPOCH 13 - PROGRESS: at 16.05% examples, 257309 words/s, in_qsize 13, out_qsize 2\n",
      "2025-07-17 08:59:25,303 : INFO : EPOCH 13 - PROGRESS: at 19.29% examples, 252888 words/s, in_qsize 16, out_qsize 1\n",
      "2025-07-17 08:59:26,378 : INFO : EPOCH 13 - PROGRESS: at 22.98% examples, 257131 words/s, in_qsize 15, out_qsize 0\n",
      "2025-07-17 08:59:27,416 : INFO : EPOCH 13 - PROGRESS: at 26.34% examples, 258239 words/s, in_qsize 15, out_qsize 1\n",
      "2025-07-17 08:59:28,427 : INFO : EPOCH 13 - PROGRESS: at 29.48% examples, 257835 words/s, in_qsize 16, out_qsize 0\n",
      "2025-07-17 08:59:29,534 : INFO : EPOCH 13 - PROGRESS: at 31.54% examples, 246699 words/s, in_qsize 16, out_qsize 0\n",
      "2025-07-17 08:59:30,568 : INFO : EPOCH 13 - PROGRESS: at 34.68% examples, 247094 words/s, in_qsize 16, out_qsize 0\n",
      "2025-07-17 08:59:31,573 : INFO : EPOCH 13 - PROGRESS: at 38.24% examples, 250744 words/s, in_qsize 15, out_qsize 0\n",
      "2025-07-17 08:59:32,581 : INFO : EPOCH 13 - PROGRESS: at 41.05% examples, 249188 words/s, in_qsize 12, out_qsize 3\n",
      "2025-07-17 08:59:33,620 : INFO : EPOCH 13 - PROGRESS: at 44.40% examples, 250250 words/s, in_qsize 15, out_qsize 0\n",
      "2025-07-17 08:59:34,668 : INFO : EPOCH 13 - PROGRESS: at 47.75% examples, 251215 words/s, in_qsize 14, out_qsize 1\n",
      "2025-07-17 08:59:35,704 : INFO : EPOCH 13 - PROGRESS: at 51.43% examples, 253800 words/s, in_qsize 14, out_qsize 0\n",
      "2025-07-17 08:59:36,707 : INFO : EPOCH 13 - PROGRESS: at 54.35% examples, 252896 words/s, in_qsize 15, out_qsize 0\n",
      "2025-07-17 08:59:37,751 : INFO : EPOCH 13 - PROGRESS: at 57.60% examples, 253156 words/s, in_qsize 16, out_qsize 0\n",
      "2025-07-17 08:59:38,767 : INFO : EPOCH 13 - PROGRESS: at 61.06% examples, 254612 words/s, in_qsize 16, out_qsize 0\n",
      "2025-07-17 08:59:39,782 : INFO : EPOCH 13 - PROGRESS: at 64.51% examples, 255898 words/s, in_qsize 15, out_qsize 0\n",
      "2025-07-17 08:59:40,794 : INFO : EPOCH 13 - PROGRESS: at 67.88% examples, 256676 words/s, in_qsize 16, out_qsize 0\n",
      "2025-07-17 08:59:41,813 : INFO : EPOCH 13 - PROGRESS: at 71.24% examples, 257305 words/s, in_qsize 16, out_qsize 0\n",
      "2025-07-17 08:59:42,923 : INFO : EPOCH 13 - PROGRESS: at 74.70% examples, 257287 words/s, in_qsize 15, out_qsize 0\n",
      "2025-07-17 08:59:43,918 : INFO : EPOCH 13 - PROGRESS: at 78.29% examples, 258735 words/s, in_qsize 15, out_qsize 0\n",
      "2025-07-17 08:59:44,927 : INFO : EPOCH 13 - PROGRESS: at 81.45% examples, 258696 words/s, in_qsize 15, out_qsize 0\n",
      "2025-07-17 08:59:45,935 : INFO : EPOCH 13 - PROGRESS: at 84.91% examples, 259624 words/s, in_qsize 15, out_qsize 0\n",
      "2025-07-17 08:59:46,953 : INFO : EPOCH 13 - PROGRESS: at 87.83% examples, 258712 words/s, in_qsize 16, out_qsize 0\n",
      "2025-07-17 08:59:47,983 : INFO : EPOCH 13 - PROGRESS: at 91.42% examples, 259698 words/s, in_qsize 14, out_qsize 1\n",
      "2025-07-17 08:59:48,993 : INFO : EPOCH 13 - PROGRESS: at 94.36% examples, 258918 words/s, in_qsize 15, out_qsize 0\n",
      "2025-07-17 08:59:50,006 : INFO : EPOCH 13 - PROGRESS: at 97.71% examples, 259418 words/s, in_qsize 15, out_qsize 0\n",
      "2025-07-17 08:59:50,505 : INFO : EPOCH 13: training on 9227204 raw words (8223153 effective words) took 31.5s, 261270 effective words/s\n",
      "2025-07-17 08:59:51,685 : INFO : EPOCH 14 - PROGRESS: at 3.03% examples, 217533 words/s, in_qsize 15, out_qsize 0\n",
      "2025-07-17 08:59:52,802 : INFO : EPOCH 14 - PROGRESS: at 6.51% examples, 236336 words/s, in_qsize 15, out_qsize 0\n",
      "2025-07-17 08:59:53,823 : INFO : EPOCH 14 - PROGRESS: at 9.66% examples, 241769 words/s, in_qsize 16, out_qsize 0\n",
      "2025-07-17 08:59:54,837 : INFO : EPOCH 14 - PROGRESS: at 13.36% examples, 255151 words/s, in_qsize 15, out_qsize 0\n",
      "2025-07-17 08:59:56,038 : INFO : EPOCH 14 - PROGRESS: at 16.81% examples, 251325 words/s, in_qsize 16, out_qsize 2\n",
      "2025-07-17 08:59:57,039 : INFO : EPOCH 14 - PROGRESS: at 20.27% examples, 256508 words/s, in_qsize 15, out_qsize 0\n",
      "2025-07-17 08:59:58,221 : INFO : EPOCH 14 - PROGRESS: at 24.07% examples, 257323 words/s, in_qsize 15, out_qsize 0\n",
      "2025-07-17 08:59:59,245 : INFO : EPOCH 14 - PROGRESS: at 27.75% examples, 262129 words/s, in_qsize 14, out_qsize 1\n",
      "2025-07-17 09:00:00,243 : INFO : EPOCH 14 - PROGRESS: at 30.56% examples, 258871 words/s, in_qsize 15, out_qsize 0\n",
      "2025-07-17 09:00:01,306 : INFO : EPOCH 14 - PROGRESS: at 33.70% examples, 257326 words/s, in_qsize 16, out_qsize 0\n",
      "2025-07-17 09:00:02,366 : INFO : EPOCH 14 - PROGRESS: at 37.16% examples, 258512 words/s, in_qsize 13, out_qsize 2\n",
      "2025-07-17 09:00:03,388 : INFO : EPOCH 14 - PROGRESS: at 39.98% examples, 255893 words/s, in_qsize 16, out_qsize 0\n",
      "2025-07-17 09:00:04,387 : INFO : EPOCH 14 - PROGRESS: at 42.67% examples, 253467 words/s, in_qsize 15, out_qsize 0\n",
      "2025-07-17 09:00:05,455 : INFO : EPOCH 14 - PROGRESS: at 45.59% examples, 251421 words/s, in_qsize 15, out_qsize 0\n",
      "2025-07-17 09:00:06,479 : INFO : EPOCH 14 - PROGRESS: at 47.54% examples, 245390 words/s, in_qsize 16, out_qsize 0\n",
      "2025-07-17 09:00:07,505 : INFO : EPOCH 14 - PROGRESS: at 49.70% examples, 241113 words/s, in_qsize 15, out_qsize 0\n",
      "2025-07-17 09:00:08,572 : INFO : EPOCH 14 - PROGRESS: at 52.62% examples, 240191 words/s, in_qsize 15, out_qsize 0\n",
      "2025-07-17 09:00:09,598 : INFO : EPOCH 14 - PROGRESS: at 55.53% examples, 239845 words/s, in_qsize 16, out_qsize 0\n",
      "2025-07-17 09:00:10,604 : INFO : EPOCH 14 - PROGRESS: at 58.36% examples, 239343 words/s, in_qsize 15, out_qsize 0\n",
      "2025-07-17 09:00:11,624 : INFO : EPOCH 14 - PROGRESS: at 60.95% examples, 237937 words/s, in_qsize 16, out_qsize 0\n",
      "2025-07-17 09:00:12,629 : INFO : EPOCH 14 - PROGRESS: at 63.98% examples, 238411 words/s, in_qsize 15, out_qsize 0\n",
      "2025-07-17 09:00:13,637 : INFO : EPOCH 14 - PROGRESS: at 66.91% examples, 238306 words/s, in_qsize 15, out_qsize 0\n",
      "2025-07-17 09:00:14,653 : INFO : EPOCH 14 - PROGRESS: at 69.83% examples, 238353 words/s, in_qsize 14, out_qsize 1\n",
      "2025-07-17 09:00:15,664 : INFO : EPOCH 14 - PROGRESS: at 72.21% examples, 236528 words/s, in_qsize 15, out_qsize 0\n",
      "2025-07-17 09:00:16,675 : INFO : EPOCH 14 - PROGRESS: at 75.02% examples, 236186 words/s, in_qsize 16, out_qsize 0\n",
      "2025-07-17 09:00:17,863 : INFO : EPOCH 14 - PROGRESS: at 77.85% examples, 234440 words/s, in_qsize 15, out_qsize 6\n",
      "2025-07-17 09:00:18,955 : INFO : EPOCH 14 - PROGRESS: at 81.34% examples, 235437 words/s, in_qsize 15, out_qsize 0\n",
      "2025-07-17 09:00:20,036 : INFO : EPOCH 14 - PROGRESS: at 83.61% examples, 233204 words/s, in_qsize 16, out_qsize 0\n",
      "2025-07-17 09:00:21,057 : INFO : EPOCH 14 - PROGRESS: at 86.10% examples, 232094 words/s, in_qsize 15, out_qsize 0\n",
      "2025-07-17 09:00:22,064 : INFO : EPOCH 14 - PROGRESS: at 88.80% examples, 231747 words/s, in_qsize 15, out_qsize 0\n",
      "2025-07-17 09:00:23,344 : INFO : EPOCH 14 - PROGRESS: at 91.52% examples, 229467 words/s, in_qsize 16, out_qsize 4\n",
      "2025-07-17 09:00:24,354 : INFO : EPOCH 14 - PROGRESS: at 94.91% examples, 230741 words/s, in_qsize 16, out_qsize 0\n",
      "2025-07-17 09:00:25,357 : INFO : EPOCH 14 - PROGRESS: at 97.61% examples, 230469 words/s, in_qsize 15, out_qsize 0\n",
      "2025-07-17 09:00:26,031 : INFO : EPOCH 14: training on 9227204 raw words (8222497 effective words) took 35.5s, 231715 effective words/s\n",
      "2025-07-17 09:00:27,077 : INFO : EPOCH 15 - PROGRESS: at 1.84% examples, 149584 words/s, in_qsize 15, out_qsize 0\n",
      "2025-07-17 09:00:28,090 : INFO : EPOCH 15 - PROGRESS: at 4.56% examples, 184664 words/s, in_qsize 15, out_qsize 0\n",
      "2025-07-17 09:00:29,120 : INFO : EPOCH 15 - PROGRESS: at 7.71% examples, 207487 words/s, in_qsize 15, out_qsize 0\n",
      "2025-07-17 09:00:30,242 : INFO : EPOCH 15 - PROGRESS: at 10.53% examples, 206970 words/s, in_qsize 16, out_qsize 0\n",
      "2025-07-17 09:00:31,324 : INFO : EPOCH 15 - PROGRESS: at 13.90% examples, 217052 words/s, in_qsize 15, out_qsize 0\n",
      "2025-07-17 09:00:32,881 : INFO : EPOCH 15 - PROGRESS: at 16.48% examples, 198814 words/s, in_qsize 13, out_qsize 22\n",
      "2025-07-17 09:00:33,892 : INFO : EPOCH 15 - PROGRESS: at 21.57% examples, 226493 words/s, in_qsize 15, out_qsize 0\n",
      "2025-07-17 09:00:34,943 : INFO : EPOCH 15 - PROGRESS: at 24.39% examples, 225801 words/s, in_qsize 16, out_qsize 0\n",
      "2025-07-17 09:00:35,960 : INFO : EPOCH 15 - PROGRESS: at 27.53% examples, 228651 words/s, in_qsize 15, out_qsize 0\n",
      "2025-07-17 09:00:37,026 : INFO : EPOCH 15 - PROGRESS: at 30.78% examples, 230857 words/s, in_qsize 13, out_qsize 2\n",
      "2025-07-17 09:00:38,025 : INFO : EPOCH 15 - PROGRESS: at 33.49% examples, 230090 words/s, in_qsize 15, out_qsize 0\n",
      "2025-07-17 09:00:39,115 : INFO : EPOCH 15 - PROGRESS: at 36.51% examples, 230112 words/s, in_qsize 16, out_qsize 0\n",
      "2025-07-17 09:00:40,137 : INFO : EPOCH 15 - PROGRESS: at 39.54% examples, 231170 words/s, in_qsize 11, out_qsize 0\n",
      "2025-07-17 09:00:41,374 : INFO : EPOCH 15 - PROGRESS: at 41.15% examples, 221210 words/s, in_qsize 13, out_qsize 2\n",
      "2025-07-17 09:00:42,389 : INFO : EPOCH 15 - PROGRESS: at 43.64% examples, 219917 words/s, in_qsize 16, out_qsize 0\n",
      "2025-07-17 09:00:43,414 : INFO : EPOCH 15 - PROGRESS: at 46.99% examples, 222918 words/s, in_qsize 15, out_qsize 0\n",
      "2025-07-17 09:00:44,508 : INFO : EPOCH 15 - PROGRESS: at 50.02% examples, 223146 words/s, in_qsize 16, out_qsize 0\n",
      "2025-07-17 09:00:45,556 : INFO : EPOCH 15 - PROGRESS: at 53.38% examples, 225337 words/s, in_qsize 16, out_qsize 0\n",
      "2025-07-17 09:00:46,584 : INFO : EPOCH 15 - PROGRESS: at 55.97% examples, 224521 words/s, in_qsize 12, out_qsize 9\n",
      "2025-07-17 09:00:47,807 : INFO : EPOCH 15 - PROGRESS: at 60.09% examples, 227389 words/s, in_qsize 16, out_qsize 5\n",
      "2025-07-17 09:00:48,861 : INFO : EPOCH 15 - PROGRESS: at 64.08% examples, 231375 words/s, in_qsize 16, out_qsize 0\n",
      "2025-07-17 09:00:49,956 : INFO : EPOCH 15 - PROGRESS: at 67.13% examples, 231112 words/s, in_qsize 16, out_qsize 0\n",
      "2025-07-17 09:00:51,167 : INFO : EPOCH 15 - PROGRESS: at 70.59% examples, 231440 words/s, in_qsize 14, out_qsize 6\n",
      "2025-07-17 09:00:52,180 : INFO : EPOCH 15 - PROGRESS: at 73.73% examples, 232341 words/s, in_qsize 16, out_qsize 0\n",
      "2025-07-17 09:00:53,283 : INFO : EPOCH 15 - PROGRESS: at 77.52% examples, 234385 words/s, in_qsize 16, out_qsize 1\n",
      "2025-07-17 09:00:54,312 : INFO : EPOCH 15 - PROGRESS: at 80.90% examples, 235615 words/s, in_qsize 14, out_qsize 1\n",
      "2025-07-17 09:00:55,323 : INFO : EPOCH 15 - PROGRESS: at 84.26% examples, 236915 words/s, in_qsize 15, out_qsize 0\n",
      "2025-07-17 09:00:56,325 : INFO : EPOCH 15 - PROGRESS: at 87.29% examples, 237238 words/s, in_qsize 15, out_qsize 0\n",
      "2025-07-17 09:00:57,344 : INFO : EPOCH 15 - PROGRESS: at 90.54% examples, 238100 words/s, in_qsize 15, out_qsize 0\n",
      "2025-07-17 09:00:58,400 : INFO : EPOCH 15 - PROGRESS: at 93.92% examples, 238863 words/s, in_qsize 15, out_qsize 0\n",
      "2025-07-17 09:00:59,459 : INFO : EPOCH 15 - PROGRESS: at 97.07% examples, 238951 words/s, in_qsize 16, out_qsize 0\n",
      "2025-07-17 09:01:00,246 : INFO : EPOCH 15: training on 9227204 raw words (8222136 effective words) took 34.2s, 240568 effective words/s\n",
      "2025-07-17 09:01:01,325 : INFO : EPOCH 16 - PROGRESS: at 2.17% examples, 175564 words/s, in_qsize 16, out_qsize 0\n",
      "2025-07-17 09:01:02,458 : INFO : EPOCH 16 - PROGRESS: at 5.21% examples, 199598 words/s, in_qsize 14, out_qsize 1\n",
      "2025-07-17 09:01:03,539 : INFO : EPOCH 16 - PROGRESS: at 8.36% examples, 212850 words/s, in_qsize 16, out_qsize 0\n",
      "2025-07-17 09:01:04,560 : INFO : EPOCH 16 - PROGRESS: at 11.73% examples, 226355 words/s, in_qsize 16, out_qsize 1\n",
      "2025-07-17 09:01:05,607 : INFO : EPOCH 16 - PROGRESS: at 15.19% examples, 235569 words/s, in_qsize 16, out_qsize 0\n",
      "2025-07-17 09:01:06,693 : INFO : EPOCH 16 - PROGRESS: at 18.65% examples, 240028 words/s, in_qsize 15, out_qsize 0\n",
      "2025-07-17 09:01:07,720 : INFO : EPOCH 16 - PROGRESS: at 21.68% examples, 240668 words/s, in_qsize 14, out_qsize 1\n",
      "2025-07-17 09:01:08,732 : INFO : EPOCH 16 - PROGRESS: at 24.61% examples, 240325 words/s, in_qsize 14, out_qsize 1\n",
      "2025-07-17 09:01:09,945 : INFO : EPOCH 16 - PROGRESS: at 27.86% examples, 237748 words/s, in_qsize 9, out_qsize 6\n",
      "2025-07-17 09:01:10,977 : INFO : EPOCH 16 - PROGRESS: at 31.42% examples, 242273 words/s, in_qsize 16, out_qsize 0\n",
      "2025-07-17 09:01:12,008 : INFO : EPOCH 16 - PROGRESS: at 34.89% examples, 245209 words/s, in_qsize 16, out_qsize 0\n",
      "2025-07-17 09:01:13,012 : INFO : EPOCH 16 - PROGRESS: at 38.14% examples, 246782 words/s, in_qsize 15, out_qsize 0\n",
      "2025-07-17 09:01:14,061 : INFO : EPOCH 16 - PROGRESS: at 41.59% examples, 248834 words/s, in_qsize 16, out_qsize 0\n",
      "2025-07-17 09:01:15,076 : INFO : EPOCH 16 - PROGRESS: at 45.26% examples, 252282 words/s, in_qsize 15, out_qsize 0\n",
      "2025-07-17 09:01:16,310 : INFO : EPOCH 16 - PROGRESS: at 48.40% examples, 248962 words/s, in_qsize 16, out_qsize 8\n",
      "2025-07-17 09:01:17,332 : INFO : EPOCH 16 - PROGRESS: at 51.97% examples, 251243 words/s, in_qsize 16, out_qsize 0\n",
      "2025-07-17 09:01:18,491 : INFO : EPOCH 16 - PROGRESS: at 55.64% examples, 251884 words/s, in_qsize 16, out_qsize 0\n",
      "2025-07-17 09:01:19,524 : INFO : EPOCH 16 - PROGRESS: at 57.81% examples, 247644 words/s, in_qsize 15, out_qsize 0\n",
      "2025-07-17 09:01:20,547 : INFO : EPOCH 16 - PROGRESS: at 60.52% examples, 246182 words/s, in_qsize 15, out_qsize 0\n",
      "2025-07-17 09:01:21,560 : INFO : EPOCH 16 - PROGRESS: at 63.86% examples, 247325 words/s, in_qsize 15, out_qsize 0\n",
      "2025-07-17 09:01:22,625 : INFO : EPOCH 16 - PROGRESS: at 67.12% examples, 247604 words/s, in_qsize 15, out_qsize 5\n",
      "2025-07-17 09:01:23,658 : INFO : EPOCH 16 - PROGRESS: at 70.48% examples, 248370 words/s, in_qsize 16, out_qsize 0\n",
      "2025-07-17 09:01:24,861 : INFO : EPOCH 16 - PROGRESS: at 73.51% examples, 246384 words/s, in_qsize 16, out_qsize 0\n",
      "2025-07-17 09:01:25,915 : INFO : EPOCH 16 - PROGRESS: at 76.98% examples, 247408 words/s, in_qsize 14, out_qsize 1\n",
      "2025-07-17 09:01:26,992 : INFO : EPOCH 16 - PROGRESS: at 80.25% examples, 247467 words/s, in_qsize 16, out_qsize 0\n",
      "2025-07-17 09:01:28,012 : INFO : EPOCH 16 - PROGRESS: at 83.72% examples, 248579 words/s, in_qsize 15, out_qsize 0\n",
      "2025-07-17 09:01:29,010 : INFO : EPOCH 16 - PROGRESS: at 86.96% examples, 249209 words/s, in_qsize 14, out_qsize 0\n",
      "2025-07-17 09:01:30,036 : INFO : EPOCH 16 - PROGRESS: at 90.65% examples, 250891 words/s, in_qsize 15, out_qsize 0\n",
      "2025-07-17 09:01:31,100 : INFO : EPOCH 16 - PROGRESS: at 93.81% examples, 250559 words/s, in_qsize 15, out_qsize 0\n",
      "2025-07-17 09:01:32,161 : INFO : EPOCH 16 - PROGRESS: at 97.18% examples, 250850 words/s, in_qsize 15, out_qsize 0\n",
      "2025-07-17 09:01:32,850 : INFO : EPOCH 16: training on 9227204 raw words (8223142 effective words) took 32.5s, 252729 effective words/s\n",
      "2025-07-17 09:01:33,976 : INFO : EPOCH 17 - PROGRESS: at 2.39% examples, 180969 words/s, in_qsize 14, out_qsize 1\n",
      "2025-07-17 09:01:34,976 : INFO : EPOCH 17 - PROGRESS: at 5.97% examples, 234563 words/s, in_qsize 16, out_qsize 0\n",
      "2025-07-17 09:01:36,028 : INFO : EPOCH 17 - PROGRESS: at 9.12% examples, 238918 words/s, in_qsize 16, out_qsize 0\n",
      "2025-07-17 09:01:37,076 : INFO : EPOCH 17 - PROGRESS: at 12.49% examples, 244597 words/s, in_qsize 14, out_qsize 0\n",
      "2025-07-17 09:01:38,242 : INFO : EPOCH 17 - PROGRESS: at 15.84% examples, 243451 words/s, in_qsize 15, out_qsize 0\n",
      "2025-07-17 09:01:39,257 : INFO : EPOCH 17 - PROGRESS: at 19.08% examples, 246564 words/s, in_qsize 12, out_qsize 3\n",
      "2025-07-17 09:01:40,259 : INFO : EPOCH 17 - PROGRESS: at 22.22% examples, 248122 words/s, in_qsize 15, out_qsize 0\n",
      "2025-07-17 09:01:41,324 : INFO : EPOCH 17 - PROGRESS: at 25.69% examples, 250614 words/s, in_qsize 14, out_qsize 1\n",
      "2025-07-17 09:01:42,344 : INFO : EPOCH 17 - PROGRESS: at 28.40% examples, 247114 words/s, in_qsize 15, out_qsize 0\n",
      "2025-07-17 09:01:43,350 : INFO : EPOCH 17 - PROGRESS: at 31.43% examples, 247114 words/s, in_qsize 11, out_qsize 4\n",
      "2025-07-17 09:01:44,386 : INFO : EPOCH 17 - PROGRESS: at 34.46% examples, 246617 words/s, in_qsize 15, out_qsize 0\n",
      "2025-07-17 09:01:45,405 : INFO : EPOCH 17 - PROGRESS: at 37.70% examples, 247900 words/s, in_qsize 16, out_qsize 0\n",
      "2025-07-17 09:01:46,505 : INFO : EPOCH 17 - PROGRESS: at 40.94% examples, 247466 words/s, in_qsize 14, out_qsize 1\n",
      "2025-07-17 09:01:47,528 : INFO : EPOCH 17 - PROGRESS: at 44.07% examples, 247764 words/s, in_qsize 16, out_qsize 0\n",
      "2025-07-17 09:01:48,557 : INFO : EPOCH 17 - PROGRESS: at 47.32% examples, 248628 words/s, in_qsize 16, out_qsize 0\n",
      "2025-07-17 09:01:49,614 : INFO : EPOCH 17 - PROGRESS: at 50.78% examples, 249915 words/s, in_qsize 15, out_qsize 0\n",
      "2025-07-17 09:01:50,677 : INFO : EPOCH 17 - PROGRESS: at 54.13% examples, 250500 words/s, in_qsize 16, out_qsize 0\n",
      "2025-07-17 09:01:51,721 : INFO : EPOCH 17 - PROGRESS: at 57.60% examples, 251808 words/s, in_qsize 16, out_qsize 0\n",
      "2025-07-17 09:01:52,777 : INFO : EPOCH 17 - PROGRESS: at 60.63% examples, 250996 words/s, in_qsize 16, out_qsize 0\n",
      "2025-07-17 09:01:53,812 : INFO : EPOCH 17 - PROGRESS: at 64.08% examples, 252054 words/s, in_qsize 15, out_qsize 0\n",
      "2025-07-17 09:01:54,849 : INFO : EPOCH 17 - PROGRESS: at 67.12% examples, 251550 words/s, in_qsize 16, out_qsize 1\n",
      "2025-07-17 09:01:55,858 : INFO : EPOCH 17 - PROGRESS: at 70.48% examples, 252624 words/s, in_qsize 12, out_qsize 3\n",
      "2025-07-17 09:01:56,979 : INFO : EPOCH 17 - PROGRESS: at 74.05% examples, 253063 words/s, in_qsize 16, out_qsize 0\n",
      "2025-07-17 09:01:58,078 : INFO : EPOCH 17 - PROGRESS: at 75.89% examples, 247995 words/s, in_qsize 16, out_qsize 2\n",
      "2025-07-17 09:01:59,263 : INFO : EPOCH 17 - PROGRESS: at 79.38% examples, 247580 words/s, in_qsize 15, out_qsize 0\n",
      "2025-07-17 09:02:00,316 : INFO : EPOCH 17 - PROGRESS: at 82.85% examples, 248536 words/s, in_qsize 16, out_qsize 0\n",
      "2025-07-17 09:02:01,369 : INFO : EPOCH 17 - PROGRESS: at 85.99% examples, 248441 words/s, in_qsize 14, out_qsize 1\n",
      "2025-07-17 09:02:02,384 : INFO : EPOCH 17 - PROGRESS: at 89.67% examples, 250142 words/s, in_qsize 15, out_qsize 0\n",
      "2025-07-17 09:02:03,390 : INFO : EPOCH 17 - PROGRESS: at 92.94% examples, 250652 words/s, in_qsize 15, out_qsize 0\n",
      "2025-07-17 09:02:04,443 : INFO : EPOCH 17 - PROGRESS: at 95.66% examples, 249349 words/s, in_qsize 16, out_qsize 0\n",
      "2025-07-17 09:02:05,447 : INFO : EPOCH 17 - PROGRESS: at 98.68% examples, 249332 words/s, in_qsize 7, out_qsize 7\n",
      "2025-07-17 09:02:05,644 : INFO : EPOCH 17: training on 9227204 raw words (8223122 effective words) took 32.7s, 251131 effective words/s\n",
      "2025-07-17 09:02:06,689 : INFO : EPOCH 18 - PROGRESS: at 2.39% examples, 193442 words/s, in_qsize 15, out_qsize 0\n",
      "2025-07-17 09:02:07,728 : INFO : EPOCH 18 - PROGRESS: at 5.54% examples, 221407 words/s, in_qsize 15, out_qsize 0\n",
      "2025-07-17 09:02:08,736 : INFO : EPOCH 18 - PROGRESS: at 7.93% examples, 212587 words/s, in_qsize 16, out_qsize 0\n",
      "2025-07-17 09:02:09,818 : INFO : EPOCH 18 - PROGRESS: at 11.62% examples, 230349 words/s, in_qsize 15, out_qsize 0\n",
      "2025-07-17 09:02:10,845 : INFO : EPOCH 18 - PROGRESS: at 14.54% examples, 231102 words/s, in_qsize 16, out_qsize 0\n",
      "2025-07-17 09:02:11,848 : INFO : EPOCH 18 - PROGRESS: at 17.78% examples, 236353 words/s, in_qsize 16, out_qsize 0\n",
      "2025-07-17 09:02:12,881 : INFO : EPOCH 18 - PROGRESS: at 20.92% examples, 238412 words/s, in_qsize 15, out_qsize 0\n",
      "2025-07-17 09:02:13,964 : INFO : EPOCH 18 - PROGRESS: at 24.28% examples, 240516 words/s, in_qsize 15, out_qsize 0\n",
      "2025-07-17 09:02:15,051 : INFO : EPOCH 18 - PROGRESS: at 27.64% examples, 242188 words/s, in_qsize 15, out_qsize 0\n",
      "2025-07-17 09:02:16,064 : INFO : EPOCH 18 - PROGRESS: at 29.92% examples, 236589 words/s, in_qsize 16, out_qsize 0\n",
      "2025-07-17 09:02:17,098 : INFO : EPOCH 18 - PROGRESS: at 32.95% examples, 237099 words/s, in_qsize 14, out_qsize 1\n",
      "2025-07-17 09:02:18,136 : INFO : EPOCH 18 - PROGRESS: at 35.32% examples, 232958 words/s, in_qsize 15, out_qsize 0\n",
      "2025-07-17 09:02:19,271 : INFO : EPOCH 18 - PROGRESS: at 38.68% examples, 233923 words/s, in_qsize 16, out_qsize 0\n",
      "2025-07-17 09:02:20,281 : INFO : EPOCH 18 - PROGRESS: at 41.26% examples, 232364 words/s, in_qsize 16, out_qsize 0\n",
      "2025-07-17 09:02:21,321 : INFO : EPOCH 18 - PROGRESS: at 44.29% examples, 232871 words/s, in_qsize 16, out_qsize 0\n",
      "2025-07-17 09:02:22,323 : INFO : EPOCH 18 - PROGRESS: at 46.35% examples, 228868 words/s, in_qsize 15, out_qsize 0\n",
      "2025-07-17 09:02:23,399 : INFO : EPOCH 18 - PROGRESS: at 48.73% examples, 226066 words/s, in_qsize 16, out_qsize 0\n",
      "2025-07-17 09:02:24,438 : INFO : EPOCH 18 - PROGRESS: at 51.43% examples, 225563 words/s, in_qsize 16, out_qsize 0\n",
      "2025-07-17 09:02:25,448 : INFO : EPOCH 18 - PROGRESS: at 54.02% examples, 224843 words/s, in_qsize 16, out_qsize 3\n",
      "2025-07-17 09:02:26,698 : INFO : EPOCH 18 - PROGRESS: at 57.17% examples, 223790 words/s, in_qsize 15, out_qsize 0\n",
      "2025-07-17 09:02:27,750 : INFO : EPOCH 18 - PROGRESS: at 60.30% examples, 224745 words/s, in_qsize 16, out_qsize 0\n",
      "2025-07-17 09:02:28,914 : INFO : EPOCH 18 - PROGRESS: at 62.79% examples, 222380 words/s, in_qsize 16, out_qsize 1\n",
      "2025-07-17 09:02:29,923 : INFO : EPOCH 18 - PROGRESS: at 65.93% examples, 223766 words/s, in_qsize 15, out_qsize 0\n",
      "2025-07-17 09:02:30,939 : INFO : EPOCH 18 - PROGRESS: at 68.42% examples, 222862 words/s, in_qsize 8, out_qsize 0\n",
      "2025-07-17 09:02:32,077 : INFO : EPOCH 18 - PROGRESS: at 70.48% examples, 219675 words/s, in_qsize 15, out_qsize 0\n",
      "2025-07-17 09:02:33,101 : INFO : EPOCH 18 - PROGRESS: at 72.97% examples, 218838 words/s, in_qsize 16, out_qsize 0\n",
      "2025-07-17 09:02:34,146 : INFO : EPOCH 18 - PROGRESS: at 76.33% examples, 220578 words/s, in_qsize 12, out_qsize 3\n",
      "2025-07-17 09:02:35,167 : INFO : EPOCH 18 - PROGRESS: at 79.49% examples, 221728 words/s, in_qsize 16, out_qsize 0\n",
      "2025-07-17 09:02:36,241 : INFO : EPOCH 18 - PROGRESS: at 82.85% examples, 222968 words/s, in_qsize 15, out_qsize 0\n",
      "2025-07-17 09:02:37,288 : INFO : EPOCH 18 - PROGRESS: at 86.42% examples, 224875 words/s, in_qsize 16, out_qsize 0\n",
      "2025-07-17 09:02:38,291 : INFO : EPOCH 18 - PROGRESS: at 89.24% examples, 224989 words/s, in_qsize 15, out_qsize 0\n",
      "2025-07-17 09:02:39,314 : INFO : EPOCH 18 - PROGRESS: at 92.50% examples, 226137 words/s, in_qsize 15, out_qsize 1\n",
      "2025-07-17 09:02:40,366 : INFO : EPOCH 18 - PROGRESS: at 94.90% examples, 224897 words/s, in_qsize 14, out_qsize 7\n",
      "2025-07-17 09:02:41,417 : INFO : EPOCH 18 - PROGRESS: at 98.04% examples, 225552 words/s, in_qsize 15, out_qsize 0\n",
      "2025-07-17 09:02:41,878 : INFO : EPOCH 18: training on 9227204 raw words (8222145 effective words) took 36.2s, 227135 effective words/s\n",
      "2025-07-17 09:02:43,000 : INFO : EPOCH 19 - PROGRESS: at 2.61% examples, 195579 words/s, in_qsize 15, out_qsize 0\n",
      "2025-07-17 09:02:44,027 : INFO : EPOCH 19 - PROGRESS: at 5.86% examples, 228184 words/s, in_qsize 15, out_qsize 0\n",
      "2025-07-17 09:02:45,033 : INFO : EPOCH 19 - PROGRESS: at 9.12% examples, 240141 words/s, in_qsize 16, out_qsize 0\n",
      "2025-07-17 09:02:46,130 : INFO : EPOCH 19 - PROGRESS: at 12.38% examples, 241190 words/s, in_qsize 16, out_qsize 0\n",
      "2025-07-17 09:02:47,123 : INFO : EPOCH 19 - PROGRESS: at 15.62% examples, 246016 words/s, in_qsize 16, out_qsize 1\n",
      "2025-07-17 09:02:48,140 : INFO : EPOCH 19 - PROGRESS: at 18.00% examples, 237688 words/s, in_qsize 13, out_qsize 10\n",
      "2025-07-17 09:02:49,156 : INFO : EPOCH 19 - PROGRESS: at 22.11% examples, 251073 words/s, in_qsize 15, out_qsize 0\n",
      "2025-07-17 09:02:50,201 : INFO : EPOCH 19 - PROGRESS: at 25.15% examples, 249336 words/s, in_qsize 15, out_qsize 0\n",
      "2025-07-17 09:02:51,384 : INFO : EPOCH 19 - PROGRESS: at 28.18% examples, 244771 words/s, in_qsize 16, out_qsize 7\n",
      "2025-07-17 09:02:52,391 : INFO : EPOCH 19 - PROGRESS: at 31.97% examples, 250966 words/s, in_qsize 15, out_qsize 0\n",
      "2025-07-17 09:02:53,414 : INFO : EPOCH 19 - PROGRESS: at 35.21% examples, 251592 words/s, in_qsize 15, out_qsize 0\n",
      "2025-07-17 09:02:54,507 : INFO : EPOCH 19 - PROGRESS: at 38.14% examples, 249108 words/s, in_qsize 13, out_qsize 2\n",
      "2025-07-17 09:02:55,527 : INFO : EPOCH 19 - PROGRESS: at 41.80% examples, 252487 words/s, in_qsize 15, out_qsize 0\n",
      "2025-07-17 09:02:56,552 : INFO : EPOCH 19 - PROGRESS: at 45.16% examples, 253855 words/s, in_qsize 16, out_qsize 0\n",
      "2025-07-17 09:02:57,735 : INFO : EPOCH 19 - PROGRESS: at 48.62% examples, 252784 words/s, in_qsize 15, out_qsize 0\n",
      "2025-07-17 09:02:58,784 : INFO : EPOCH 19 - PROGRESS: at 52.18% examples, 254550 words/s, in_qsize 15, out_qsize 0\n",
      "2025-07-17 09:02:59,818 : INFO : EPOCH 19 - PROGRESS: at 55.75% examples, 256256 words/s, in_qsize 15, out_qsize 0\n",
      "2025-07-17 09:03:00,850 : INFO : EPOCH 19 - PROGRESS: at 58.58% examples, 254489 words/s, in_qsize 16, out_qsize 0\n",
      "2025-07-17 09:03:01,865 : INFO : EPOCH 19 - PROGRESS: at 62.14% examples, 256255 words/s, in_qsize 15, out_qsize 0\n",
      "2025-07-17 09:03:02,882 : INFO : EPOCH 19 - PROGRESS: at 65.39% examples, 256607 words/s, in_qsize 14, out_qsize 1\n",
      "2025-07-17 09:03:03,900 : INFO : EPOCH 19 - PROGRESS: at 68.53% examples, 256447 words/s, in_qsize 16, out_qsize 0\n",
      "2025-07-17 09:03:04,932 : INFO : EPOCH 19 - PROGRESS: at 71.67% examples, 256296 words/s, in_qsize 14, out_qsize 1\n",
      "2025-07-17 09:03:06,186 : INFO : EPOCH 19 - PROGRESS: at 75.24% examples, 255056 words/s, in_qsize 15, out_qsize 4\n",
      "2025-07-17 09:03:07,199 : INFO : EPOCH 19 - PROGRESS: at 78.84% examples, 256566 words/s, in_qsize 14, out_qsize 1\n",
      "2025-07-17 09:03:08,288 : INFO : EPOCH 19 - PROGRESS: at 82.42% examples, 257068 words/s, in_qsize 15, out_qsize 0\n",
      "2025-07-17 09:03:09,305 : INFO : EPOCH 19 - PROGRESS: at 85.66% examples, 257292 words/s, in_qsize 14, out_qsize 1\n",
      "2025-07-17 09:03:10,317 : INFO : EPOCH 19 - PROGRESS: at 87.83% examples, 254309 words/s, in_qsize 11, out_qsize 0\n",
      "2025-07-17 09:03:11,343 : INFO : EPOCH 19 - PROGRESS: at 90.54% examples, 253077 words/s, in_qsize 15, out_qsize 0\n",
      "2025-07-17 09:03:12,355 : INFO : EPOCH 19 - PROGRESS: at 94.25% examples, 254624 words/s, in_qsize 15, out_qsize 0\n",
      "2025-07-17 09:03:13,407 : INFO : EPOCH 19 - PROGRESS: at 97.18% examples, 253752 words/s, in_qsize 15, out_qsize 0\n",
      "2025-07-17 09:03:14,090 : INFO : EPOCH 19: training on 9227204 raw words (8222765 effective words) took 32.2s, 255563 effective words/s\n",
      "2025-07-17 09:03:15,230 : INFO : EPOCH 20 - PROGRESS: at 2.61% examples, 194341 words/s, in_qsize 16, out_qsize 2\n",
      "2025-07-17 09:03:16,250 : INFO : EPOCH 20 - PROGRESS: at 6.08% examples, 234958 words/s, in_qsize 16, out_qsize 0\n",
      "2025-07-17 09:03:17,250 : INFO : EPOCH 20 - PROGRESS: at 9.34% examples, 244931 words/s, in_qsize 16, out_qsize 0\n",
      "2025-07-17 09:03:18,268 : INFO : EPOCH 20 - PROGRESS: at 12.49% examples, 247002 words/s, in_qsize 15, out_qsize 0\n",
      "2025-07-17 09:03:19,435 : INFO : EPOCH 20 - PROGRESS: at 15.84% examples, 245133 words/s, in_qsize 12, out_qsize 0\n",
      "2025-07-17 09:03:20,570 : INFO : EPOCH 20 - PROGRESS: at 19.30% examples, 246179 words/s, in_qsize 15, out_qsize 0\n",
      "2025-07-17 09:03:21,607 : INFO : EPOCH 20 - PROGRESS: at 22.87% examples, 251471 words/s, in_qsize 15, out_qsize 0\n",
      "2025-07-17 09:03:22,601 : INFO : EPOCH 20 - PROGRESS: at 25.80% examples, 250014 words/s, in_qsize 15, out_qsize 0\n",
      "2025-07-17 09:03:23,611 : INFO : EPOCH 20 - PROGRESS: at 28.94% examples, 250880 words/s, in_qsize 15, out_qsize 0\n",
      "2025-07-17 09:03:24,617 : INFO : EPOCH 20 - PROGRESS: at 32.30% examples, 252942 words/s, in_qsize 15, out_qsize 0\n",
      "2025-07-17 09:03:25,673 : INFO : EPOCH 20 - PROGRESS: at 35.97% examples, 256284 words/s, in_qsize 16, out_qsize 0\n",
      "2025-07-17 09:03:26,686 : INFO : EPOCH 20 - PROGRESS: at 38.89% examples, 254676 words/s, in_qsize 15, out_qsize 0\n",
      "2025-07-17 09:03:27,686 : INFO : EPOCH 20 - PROGRESS: at 42.02% examples, 254955 words/s, in_qsize 15, out_qsize 0\n",
      "2025-07-17 09:03:28,767 : INFO : EPOCH 20 - PROGRESS: at 45.70% examples, 256770 words/s, in_qsize 14, out_qsize 1\n",
      "2025-07-17 09:03:29,783 : INFO : EPOCH 20 - PROGRESS: at 48.84% examples, 256761 words/s, in_qsize 15, out_qsize 0\n",
      "2025-07-17 09:03:30,801 : INFO : EPOCH 20 - PROGRESS: at 52.07% examples, 257117 words/s, in_qsize 16, out_qsize 0\n",
      "2025-07-17 09:03:31,953 : INFO : EPOCH 20 - PROGRESS: at 54.99% examples, 254022 words/s, in_qsize 16, out_qsize 0\n",
      "2025-07-17 09:03:32,950 : INFO : EPOCH 20 - PROGRESS: at 58.25% examples, 254720 words/s, in_qsize 15, out_qsize 0\n",
      "2025-07-17 09:03:33,994 : INFO : EPOCH 20 - PROGRESS: at 61.82% examples, 256175 words/s, in_qsize 15, out_qsize 0\n",
      "2025-07-17 09:03:35,003 : INFO : EPOCH 20 - PROGRESS: at 64.62% examples, 254891 words/s, in_qsize 15, out_qsize 3\n",
      "2025-07-17 09:03:36,005 : INFO : EPOCH 20 - PROGRESS: at 67.88% examples, 255305 words/s, in_qsize 15, out_qsize 0\n",
      "2025-07-17 09:03:37,021 : INFO : EPOCH 20 - PROGRESS: at 71.35% examples, 256549 words/s, in_qsize 15, out_qsize 0\n",
      "2025-07-17 09:03:38,021 : INFO : EPOCH 20 - PROGRESS: at 74.37% examples, 256153 words/s, in_qsize 15, out_qsize 0\n",
      "2025-07-17 09:03:39,040 : INFO : EPOCH 20 - PROGRESS: at 77.42% examples, 255698 words/s, in_qsize 16, out_qsize 0\n",
      "2025-07-17 09:03:40,102 : INFO : EPOCH 20 - PROGRESS: at 80.68% examples, 255476 words/s, in_qsize 15, out_qsize 0\n",
      "2025-07-17 09:03:41,138 : INFO : EPOCH 20 - PROGRESS: at 83.83% examples, 255378 words/s, in_qsize 15, out_qsize 1\n",
      "2025-07-17 09:03:42,152 : INFO : EPOCH 20 - PROGRESS: at 87.18% examples, 255977 words/s, in_qsize 15, out_qsize 0\n",
      "2025-07-17 09:03:43,303 : INFO : EPOCH 20 - PROGRESS: at 90.54% examples, 255326 words/s, in_qsize 16, out_qsize 0\n",
      "2025-07-17 09:03:44,307 : INFO : EPOCH 20 - PROGRESS: at 93.26% examples, 254212 words/s, in_qsize 14, out_qsize 7\n",
      "2025-07-17 09:03:45,374 : INFO : EPOCH 20 - PROGRESS: at 96.75% examples, 254634 words/s, in_qsize 14, out_qsize 4\n",
      "2025-07-17 09:03:46,122 : INFO : EPOCH 20: training on 9227204 raw words (8224872 effective words) took 32.0s, 257089 effective words/s\n",
      "2025-07-17 09:03:47,204 : INFO : EPOCH 21 - PROGRESS: at 2.71% examples, 209282 words/s, in_qsize 16, out_qsize 0\n",
      "2025-07-17 09:03:48,202 : INFO : EPOCH 21 - PROGRESS: at 5.75% examples, 227946 words/s, in_qsize 16, out_qsize 0\n",
      "2025-07-17 09:03:49,288 : INFO : EPOCH 21 - PROGRESS: at 9.12% examples, 238091 words/s, in_qsize 15, out_qsize 0\n",
      "2025-07-17 09:03:50,288 : INFO : EPOCH 21 - PROGRESS: at 11.19% examples, 221009 words/s, in_qsize 15, out_qsize 0\n",
      "2025-07-17 09:03:51,337 : INFO : EPOCH 21 - PROGRESS: at 14.00% examples, 220783 words/s, in_qsize 15, out_qsize 0\n",
      "2025-07-17 09:03:52,747 : INFO : EPOCH 21 - PROGRESS: at 17.24% examples, 214493 words/s, in_qsize 16, out_qsize 10\n",
      "2025-07-17 09:03:53,773 : INFO : EPOCH 21 - PROGRESS: at 21.79% examples, 234719 words/s, in_qsize 15, out_qsize 0\n",
      "2025-07-17 09:03:54,821 : INFO : EPOCH 21 - PROGRESS: at 24.94% examples, 236136 words/s, in_qsize 15, out_qsize 0\n",
      "2025-07-17 09:03:55,838 : INFO : EPOCH 21 - PROGRESS: at 27.96% examples, 237090 words/s, in_qsize 15, out_qsize 0\n",
      "2025-07-17 09:03:56,905 : INFO : EPOCH 21 - PROGRESS: at 31.32% examples, 239225 words/s, in_qsize 15, out_qsize 0\n",
      "2025-07-17 09:03:57,909 : INFO : EPOCH 21 - PROGRESS: at 34.57% examples, 241503 words/s, in_qsize 16, out_qsize 0\n",
      "2025-07-17 09:03:59,090 : INFO : EPOCH 21 - PROGRESS: at 38.25% examples, 242819 words/s, in_qsize 15, out_qsize 0\n",
      "2025-07-17 09:04:00,094 : INFO : EPOCH 21 - PROGRESS: at 41.70% examples, 245831 words/s, in_qsize 14, out_qsize 1\n",
      "2025-07-17 09:04:01,169 : INFO : EPOCH 21 - PROGRESS: at 44.94% examples, 246062 words/s, in_qsize 16, out_qsize 0\n",
      "2025-07-17 09:04:02,369 : INFO : EPOCH 21 - PROGRESS: at 48.40% examples, 245443 words/s, in_qsize 15, out_qsize 1\n",
      "2025-07-17 09:04:03,387 : INFO : EPOCH 21 - PROGRESS: at 51.75% examples, 246962 words/s, in_qsize 15, out_qsize 0\n",
      "2025-07-17 09:04:04,421 : INFO : EPOCH 21 - PROGRESS: at 54.78% examples, 246579 words/s, in_qsize 16, out_qsize 0\n",
      "2025-07-17 09:04:05,459 : INFO : EPOCH 21 - PROGRESS: at 58.14% examples, 247663 words/s, in_qsize 15, out_qsize 0\n",
      "2025-07-17 09:04:06,475 : INFO : EPOCH 21 - PROGRESS: at 61.18% examples, 247607 words/s, in_qsize 13, out_qsize 4\n",
      "2025-07-17 09:04:07,565 : INFO : EPOCH 21 - PROGRESS: at 64.84% examples, 249137 words/s, in_qsize 16, out_qsize 0\n",
      "2025-07-17 09:04:08,570 : INFO : EPOCH 21 - PROGRESS: at 68.43% examples, 251088 words/s, in_qsize 14, out_qsize 1\n",
      "2025-07-17 09:04:09,636 : INFO : EPOCH 21 - PROGRESS: at 71.45% examples, 250304 words/s, in_qsize 15, out_qsize 0\n",
      "2025-07-17 09:04:10,640 : INFO : EPOCH 21 - PROGRESS: at 74.70% examples, 250929 words/s, in_qsize 15, out_qsize 0\n",
      "2025-07-17 09:04:11,672 : INFO : EPOCH 21 - PROGRESS: at 78.62% examples, 253276 words/s, in_qsize 15, out_qsize 0\n",
      "2025-07-17 09:04:12,741 : INFO : EPOCH 21 - PROGRESS: at 81.77% examples, 252898 words/s, in_qsize 16, out_qsize 0\n",
      "2025-07-17 09:04:13,741 : INFO : EPOCH 21 - PROGRESS: at 85.23% examples, 254029 words/s, in_qsize 15, out_qsize 0\n",
      "2025-07-17 09:04:14,743 : INFO : EPOCH 21 - PROGRESS: at 88.27% examples, 253842 words/s, in_qsize 15, out_qsize 0\n",
      "2025-07-17 09:04:15,765 : INFO : EPOCH 21 - PROGRESS: at 91.74% examples, 254705 words/s, in_qsize 15, out_qsize 0\n",
      "2025-07-17 09:04:16,839 : INFO : EPOCH 21 - PROGRESS: at 95.34% examples, 255305 words/s, in_qsize 16, out_qsize 0\n",
      "2025-07-17 09:04:17,856 : INFO : EPOCH 21 - PROGRESS: at 98.58% examples, 255606 words/s, in_qsize 14, out_qsize 0\n",
      "2025-07-17 09:04:18,147 : INFO : EPOCH 21: training on 9227204 raw words (8222340 effective words) took 32.0s, 256912 effective words/s\n",
      "2025-07-17 09:04:19,186 : INFO : EPOCH 22 - PROGRESS: at 2.50% examples, 203347 words/s, in_qsize 16, out_qsize 0\n",
      "2025-07-17 09:04:20,188 : INFO : EPOCH 22 - PROGRESS: at 5.86% examples, 239188 words/s, in_qsize 16, out_qsize 0\n",
      "2025-07-17 09:04:21,240 : INFO : EPOCH 22 - PROGRESS: at 9.23% examples, 247018 words/s, in_qsize 14, out_qsize 1\n",
      "2025-07-17 09:04:22,422 : INFO : EPOCH 22 - PROGRESS: at 12.93% examples, 249907 words/s, in_qsize 15, out_qsize 0\n",
      "2025-07-17 09:04:23,593 : INFO : EPOCH 22 - PROGRESS: at 16.27% examples, 246906 words/s, in_qsize 16, out_qsize 8\n",
      "2025-07-17 09:04:24,985 : INFO : EPOCH 22 - PROGRESS: at 18.65% examples, 225202 words/s, in_qsize 15, out_qsize 6\n",
      "2025-07-17 09:04:26,038 : INFO : EPOCH 22 - PROGRESS: at 22.11% examples, 231155 words/s, in_qsize 16, out_qsize 0\n",
      "2025-07-17 09:04:27,055 : INFO : EPOCH 22 - PROGRESS: at 24.39% examples, 225754 words/s, in_qsize 15, out_qsize 0\n",
      "2025-07-17 09:04:28,319 : INFO : EPOCH 22 - PROGRESS: at 26.02% examples, 210968 words/s, in_qsize 13, out_qsize 5\n",
      "2025-07-17 09:04:29,338 : INFO : EPOCH 22 - PROGRESS: at 28.83% examples, 212429 words/s, in_qsize 15, out_qsize 0\n",
      "2025-07-17 09:04:30,441 : INFO : EPOCH 22 - PROGRESS: at 31.75% examples, 212792 words/s, in_qsize 16, out_qsize 0\n",
      "2025-07-17 09:04:31,521 : INFO : EPOCH 22 - PROGRESS: at 35.21% examples, 217094 words/s, in_qsize 16, out_qsize 0\n",
      "2025-07-17 09:04:32,523 : INFO : EPOCH 22 - PROGRESS: at 38.78% examples, 222379 words/s, in_qsize 16, out_qsize 0\n",
      "2025-07-17 09:04:33,534 : INFO : EPOCH 22 - PROGRESS: at 41.70% examples, 223403 words/s, in_qsize 16, out_qsize 0\n",
      "2025-07-17 09:04:34,549 : INFO : EPOCH 22 - PROGRESS: at 45.05% examples, 226420 words/s, in_qsize 15, out_qsize 0\n",
      "2025-07-17 09:04:35,542 : INFO : EPOCH 22 - PROGRESS: at 47.97% examples, 227192 words/s, in_qsize 15, out_qsize 0\n",
      "2025-07-17 09:04:36,612 : INFO : EPOCH 22 - PROGRESS: at 51.32% examples, 229000 words/s, in_qsize 15, out_qsize 0\n",
      "2025-07-17 09:04:37,623 : INFO : EPOCH 22 - PROGRESS: at 54.68% examples, 231374 words/s, in_qsize 15, out_qsize 0\n",
      "2025-07-17 09:04:38,699 : INFO : EPOCH 22 - PROGRESS: at 58.03% examples, 232734 words/s, in_qsize 16, out_qsize 0\n",
      "2025-07-17 09:04:39,768 : INFO : EPOCH 22 - PROGRESS: at 61.28% examples, 233621 words/s, in_qsize 12, out_qsize 4\n",
      "2025-07-17 09:04:40,812 : INFO : EPOCH 22 - PROGRESS: at 65.06% examples, 236576 words/s, in_qsize 16, out_qsize 0\n",
      "2025-07-17 09:04:41,843 : INFO : EPOCH 22 - PROGRESS: at 68.43% examples, 237970 words/s, in_qsize 15, out_qsize 0\n",
      "2025-07-17 09:04:42,902 : INFO : EPOCH 22 - PROGRESS: at 71.24% examples, 237126 words/s, in_qsize 16, out_qsize 0\n",
      "2025-07-17 09:04:43,923 : INFO : EPOCH 22 - PROGRESS: at 74.59% examples, 238458 words/s, in_qsize 16, out_qsize 0\n",
      "2025-07-17 09:04:45,006 : INFO : EPOCH 22 - PROGRESS: at 78.07% examples, 239446 words/s, in_qsize 16, out_qsize 0\n",
      "2025-07-17 09:04:46,144 : INFO : EPOCH 22 - PROGRESS: at 81.88% examples, 240804 words/s, in_qsize 16, out_qsize 0\n",
      "2025-07-17 09:04:47,184 : INFO : EPOCH 22 - PROGRESS: at 84.91% examples, 240790 words/s, in_qsize 13, out_qsize 2\n",
      "2025-07-17 09:04:48,190 : INFO : EPOCH 22 - PROGRESS: at 88.16% examples, 241631 words/s, in_qsize 15, out_qsize 0\n",
      "2025-07-17 09:04:49,207 : INFO : EPOCH 22 - PROGRESS: at 91.63% examples, 242812 words/s, in_qsize 15, out_qsize 0\n",
      "2025-07-17 09:04:50,375 : INFO : EPOCH 22 - PROGRESS: at 95.12% examples, 242868 words/s, in_qsize 16, out_qsize 0\n",
      "2025-07-17 09:04:51,463 : INFO : EPOCH 22 - PROGRESS: at 98.79% examples, 244083 words/s, in_qsize 12, out_qsize 0\n",
      "2025-07-17 09:04:51,694 : INFO : EPOCH 22: training on 9227204 raw words (8222355 effective words) took 33.5s, 245359 effective words/s\n",
      "2025-07-17 09:04:52,772 : INFO : EPOCH 23 - PROGRESS: at 2.50% examples, 197474 words/s, in_qsize 15, out_qsize 0\n",
      "2025-07-17 09:04:53,776 : INFO : EPOCH 23 - PROGRESS: at 5.97% examples, 239746 words/s, in_qsize 15, out_qsize 0\n",
      "2025-07-17 09:04:54,784 : INFO : EPOCH 23 - PROGRESS: at 9.45% examples, 254032 words/s, in_qsize 15, out_qsize 0\n",
      "2025-07-17 09:04:55,790 : INFO : EPOCH 23 - PROGRESS: at 12.28% examples, 247949 words/s, in_qsize 16, out_qsize 0\n",
      "2025-07-17 09:04:56,890 : INFO : EPOCH 23 - PROGRESS: at 15.84% examples, 251999 words/s, in_qsize 16, out_qsize 0\n",
      "2025-07-17 09:04:57,916 : INFO : EPOCH 23 - PROGRESS: at 18.97% examples, 252230 words/s, in_qsize 16, out_qsize 0\n",
      "2025-07-17 09:04:58,991 : INFO : EPOCH 23 - PROGRESS: at 22.54% examples, 255279 words/s, in_qsize 15, out_qsize 0\n",
      "2025-07-17 09:05:00,085 : INFO : EPOCH 23 - PROGRESS: at 24.82% examples, 244257 words/s, in_qsize 13, out_qsize 0\n",
      "2025-07-17 09:05:01,111 : INFO : EPOCH 23 - PROGRESS: at 27.42% examples, 240298 words/s, in_qsize 15, out_qsize 0\n",
      "2025-07-17 09:05:02,159 : INFO : EPOCH 23 - PROGRESS: at 30.89% examples, 243606 words/s, in_qsize 15, out_qsize 0\n",
      "2025-07-17 09:05:03,392 : INFO : EPOCH 23 - PROGRESS: at 33.92% examples, 239059 words/s, in_qsize 9, out_qsize 6\n",
      "2025-07-17 09:05:04,426 : INFO : EPOCH 23 - PROGRESS: at 38.13% examples, 246965 words/s, in_qsize 15, out_qsize 0\n",
      "2025-07-17 09:05:05,512 : INFO : EPOCH 23 - PROGRESS: at 41.26% examples, 246190 words/s, in_qsize 15, out_qsize 0\n",
      "2025-07-17 09:05:06,596 : INFO : EPOCH 23 - PROGRESS: at 44.51% examples, 246348 words/s, in_qsize 16, out_qsize 0\n",
      "2025-07-17 09:05:07,767 : INFO : EPOCH 23 - PROGRESS: at 48.29% examples, 247828 words/s, in_qsize 16, out_qsize 0\n",
      "2025-07-17 09:05:08,774 : INFO : EPOCH 23 - PROGRESS: at 51.32% examples, 247823 words/s, in_qsize 14, out_qsize 1\n",
      "2025-07-17 09:05:09,793 : INFO : EPOCH 23 - PROGRESS: at 54.67% examples, 249147 words/s, in_qsize 15, out_qsize 0\n",
      "2025-07-17 09:05:10,800 : INFO : EPOCH 23 - PROGRESS: at 58.36% examples, 251886 words/s, in_qsize 16, out_qsize 0\n",
      "2025-07-17 09:05:11,794 : INFO : EPOCH 23 - PROGRESS: at 61.06% examples, 250385 words/s, in_qsize 16, out_qsize 0\n",
      "2025-07-17 09:05:12,818 : INFO : EPOCH 23 - PROGRESS: at 64.19% examples, 250577 words/s, in_qsize 15, out_qsize 0\n",
      "2025-07-17 09:05:13,841 : INFO : EPOCH 23 - PROGRESS: at 67.34% examples, 250668 words/s, in_qsize 16, out_qsize 0\n",
      "2025-07-17 09:05:14,846 : INFO : EPOCH 23 - PROGRESS: at 70.69% examples, 251636 words/s, in_qsize 15, out_qsize 0\n",
      "2025-07-17 09:05:15,928 : INFO : EPOCH 23 - PROGRESS: at 74.16% examples, 252197 words/s, in_qsize 15, out_qsize 0\n",
      "2025-07-17 09:05:17,043 : INFO : EPOCH 23 - PROGRESS: at 77.63% examples, 252381 words/s, in_qsize 16, out_qsize 0\n",
      "2025-07-17 09:05:18,054 : INFO : EPOCH 23 - PROGRESS: at 81.55% examples, 254864 words/s, in_qsize 15, out_qsize 0\n",
      "2025-07-17 09:05:19,192 : INFO : EPOCH 23 - PROGRESS: at 84.59% examples, 253347 words/s, in_qsize 16, out_qsize 0\n",
      "2025-07-17 09:05:20,235 : INFO : EPOCH 23 - PROGRESS: at 88.37% examples, 255045 words/s, in_qsize 15, out_qsize 0\n",
      "2025-07-17 09:05:21,386 : INFO : EPOCH 23 - PROGRESS: at 91.63% examples, 254154 words/s, in_qsize 16, out_qsize 0\n",
      "2025-07-17 09:05:22,427 : INFO : EPOCH 23 - PROGRESS: at 95.01% examples, 254447 words/s, in_qsize 15, out_qsize 0\n",
      "2025-07-17 09:05:23,462 : INFO : EPOCH 23 - PROGRESS: at 98.58% examples, 255488 words/s, in_qsize 14, out_qsize 0\n",
      "2025-07-17 09:05:23,751 : INFO : EPOCH 23: training on 9227204 raw words (8222914 effective words) took 32.0s, 256839 effective words/s\n",
      "2025-07-17 09:05:24,820 : INFO : EPOCH 24 - PROGRESS: at 2.49% examples, 197743 words/s, in_qsize 16, out_qsize 0\n",
      "2025-07-17 09:05:25,828 : INFO : EPOCH 24 - PROGRESS: at 5.97% examples, 238215 words/s, in_qsize 15, out_qsize 0\n",
      "2025-07-17 09:05:26,929 : INFO : EPOCH 24 - PROGRESS: at 9.12% examples, 237787 words/s, in_qsize 15, out_qsize 0\n",
      "2025-07-17 09:05:28,066 : INFO : EPOCH 24 - PROGRESS: at 11.95% examples, 228990 words/s, in_qsize 15, out_qsize 0\n",
      "2025-07-17 09:05:29,081 : INFO : EPOCH 24 - PROGRESS: at 15.52% examples, 240146 words/s, in_qsize 15, out_qsize 0\n",
      "2025-07-17 09:05:30,139 : INFO : EPOCH 24 - PROGRESS: at 18.00% examples, 232700 words/s, in_qsize 16, out_qsize 0\n",
      "2025-07-17 09:05:31,190 : INFO : EPOCH 24 - PROGRESS: at 21.14% examples, 234544 words/s, in_qsize 14, out_qsize 1\n",
      "2025-07-17 09:05:32,252 : INFO : EPOCH 24 - PROGRESS: at 23.64% examples, 229219 words/s, in_qsize 15, out_qsize 0\n",
      "2025-07-17 09:05:33,272 : INFO : EPOCH 24 - PROGRESS: at 25.80% examples, 223449 words/s, in_qsize 15, out_qsize 3\n",
      "2025-07-17 09:05:34,293 : INFO : EPOCH 24 - PROGRESS: at 28.61% examples, 223737 words/s, in_qsize 14, out_qsize 0\n",
      "2025-07-17 09:05:35,326 : INFO : EPOCH 24 - PROGRESS: at 31.32% examples, 223092 words/s, in_qsize 16, out_qsize 0\n",
      "2025-07-17 09:05:36,346 : INFO : EPOCH 24 - PROGRESS: at 33.81% examples, 221290 words/s, in_qsize 14, out_qsize 1\n",
      "2025-07-17 09:05:37,371 : INFO : EPOCH 24 - PROGRESS: at 36.40% examples, 220331 words/s, in_qsize 16, out_qsize 0\n",
      "2025-07-17 09:05:38,431 : INFO : EPOCH 24 - PROGRESS: at 38.57% examples, 216531 words/s, in_qsize 15, out_qsize 0\n",
      "2025-07-17 09:05:39,604 : INFO : EPOCH 24 - PROGRESS: at 39.87% examples, 207216 words/s, in_qsize 14, out_qsize 6\n",
      "2025-07-17 09:05:40,613 : INFO : EPOCH 24 - PROGRESS: at 43.00% examples, 210073 words/s, in_qsize 15, out_qsize 0\n",
      "2025-07-17 09:05:41,762 : INFO : EPOCH 24 - PROGRESS: at 46.02% examples, 210588 words/s, in_qsize 15, out_qsize 0\n",
      "2025-07-17 09:05:42,893 : INFO : EPOCH 24 - PROGRESS: at 49.38% examples, 212559 words/s, in_qsize 16, out_qsize 0\n",
      "2025-07-17 09:05:43,895 : INFO : EPOCH 24 - PROGRESS: at 52.51% examples, 214821 words/s, in_qsize 15, out_qsize 0\n",
      "2025-07-17 09:05:45,001 : INFO : EPOCH 24 - PROGRESS: at 54.67% examples, 212068 words/s, in_qsize 13, out_qsize 4\n",
      "2025-07-17 09:05:46,007 : INFO : EPOCH 24 - PROGRESS: at 58.03% examples, 214906 words/s, in_qsize 14, out_qsize 1\n",
      "2025-07-17 09:05:47,032 : INFO : EPOCH 24 - PROGRESS: at 60.74% examples, 215020 words/s, in_qsize 15, out_qsize 0\n",
      "2025-07-17 09:05:48,096 : INFO : EPOCH 24 - PROGRESS: at 63.97% examples, 216596 words/s, in_qsize 15, out_qsize 0\n",
      "2025-07-17 09:05:49,243 : INFO : EPOCH 24 - PROGRESS: at 67.34% examples, 217671 words/s, in_qsize 16, out_qsize 0\n",
      "2025-07-17 09:05:50,245 : INFO : EPOCH 24 - PROGRESS: at 70.58% examples, 219530 words/s, in_qsize 16, out_qsize 0\n",
      "2025-07-17 09:05:51,284 : INFO : EPOCH 24 - PROGRESS: at 73.73% examples, 220597 words/s, in_qsize 15, out_qsize 0\n",
      "2025-07-17 09:05:52,299 : INFO : EPOCH 24 - PROGRESS: at 76.99% examples, 222102 words/s, in_qsize 16, out_qsize 0\n",
      "2025-07-17 09:05:53,328 : INFO : EPOCH 24 - PROGRESS: at 80.14% examples, 223071 words/s, in_qsize 15, out_qsize 0\n",
      "2025-07-17 09:05:54,351 : INFO : EPOCH 24 - PROGRESS: at 83.72% examples, 225293 words/s, in_qsize 16, out_qsize 0\n",
      "2025-07-17 09:05:55,385 : INFO : EPOCH 24 - PROGRESS: at 86.64% examples, 225515 words/s, in_qsize 15, out_qsize 0\n",
      "2025-07-17 09:05:56,413 : INFO : EPOCH 24 - PROGRESS: at 89.89% examples, 226606 words/s, in_qsize 16, out_qsize 0\n",
      "2025-07-17 09:05:57,413 : INFO : EPOCH 24 - PROGRESS: at 93.26% examples, 228003 words/s, in_qsize 16, out_qsize 0\n",
      "2025-07-17 09:05:58,456 : INFO : EPOCH 24 - PROGRESS: at 96.21% examples, 228148 words/s, in_qsize 15, out_qsize 0\n",
      "2025-07-17 09:05:59,399 : INFO : EPOCH 24: training on 9227204 raw words (8222608 effective words) took 35.6s, 230887 effective words/s\n",
      "2025-07-17 09:06:00,547 : INFO : EPOCH 25 - PROGRESS: at 2.50% examples, 184989 words/s, in_qsize 14, out_qsize 1\n",
      "2025-07-17 09:06:01,563 : INFO : EPOCH 25 - PROGRESS: at 5.97% examples, 231752 words/s, in_qsize 15, out_qsize 0\n",
      "2025-07-17 09:06:02,597 : INFO : EPOCH 25 - PROGRESS: at 9.01% examples, 234973 words/s, in_qsize 14, out_qsize 1\n",
      "2025-07-17 09:06:03,612 : INFO : EPOCH 25 - PROGRESS: at 12.39% examples, 243682 words/s, in_qsize 16, out_qsize 0\n",
      "2025-07-17 09:06:04,644 : INFO : EPOCH 25 - PROGRESS: at 15.41% examples, 243451 words/s, in_qsize 16, out_qsize 0\n",
      "2025-07-17 09:06:05,665 : INFO : EPOCH 25 - PROGRESS: at 18.87% examples, 249332 words/s, in_qsize 14, out_qsize 1\n",
      "2025-07-17 09:06:06,714 : INFO : EPOCH 25 - PROGRESS: at 22.22% examples, 251125 words/s, in_qsize 16, out_qsize 0\n",
      "2025-07-17 09:06:07,730 : INFO : EPOCH 25 - PROGRESS: at 24.94% examples, 247441 words/s, in_qsize 16, out_qsize 0\n",
      "2025-07-17 09:06:08,731 : INFO : EPOCH 25 - PROGRESS: at 28.08% examples, 248448 words/s, in_qsize 16, out_qsize 0\n",
      "2025-07-17 09:06:09,758 : INFO : EPOCH 25 - PROGRESS: at 31.54% examples, 251520 words/s, in_qsize 15, out_qsize 0\n",
      "2025-07-17 09:06:10,763 : INFO : EPOCH 25 - PROGRESS: at 34.46% examples, 250394 words/s, in_qsize 13, out_qsize 2\n",
      "2025-07-17 09:06:11,773 : INFO : EPOCH 25 - PROGRESS: at 37.81% examples, 252296 words/s, in_qsize 15, out_qsize 0\n",
      "2025-07-17 09:06:12,808 : INFO : EPOCH 25 - PROGRESS: at 40.94% examples, 252080 words/s, in_qsize 15, out_qsize 0\n",
      "2025-07-17 09:06:13,885 : INFO : EPOCH 25 - PROGRESS: at 44.29% examples, 252380 words/s, in_qsize 15, out_qsize 0\n",
      "2025-07-17 09:06:14,953 : INFO : EPOCH 25 - PROGRESS: at 46.67% examples, 247427 words/s, in_qsize 15, out_qsize 0\n",
      "2025-07-17 09:06:16,014 : INFO : EPOCH 25 - PROGRESS: at 49.27% examples, 244720 words/s, in_qsize 13, out_qsize 2\n",
      "2025-07-17 09:06:17,082 : INFO : EPOCH 25 - PROGRESS: at 52.51% examples, 245033 words/s, in_qsize 16, out_qsize 0\n",
      "2025-07-17 09:06:18,100 : INFO : EPOCH 25 - PROGRESS: at 55.86% examples, 246451 words/s, in_qsize 16, out_qsize 0\n",
      "2025-07-17 09:06:19,195 : INFO : EPOCH 25 - PROGRESS: at 58.79% examples, 244863 words/s, in_qsize 16, out_qsize 0\n",
      "2025-07-17 09:06:20,222 : INFO : EPOCH 25 - PROGRESS: at 62.25% examples, 246482 words/s, in_qsize 16, out_qsize 0\n",
      "2025-07-17 09:06:21,382 : INFO : EPOCH 25 - PROGRESS: at 65.61% examples, 246157 words/s, in_qsize 16, out_qsize 0\n",
      "2025-07-17 09:06:22,382 : INFO : EPOCH 25 - PROGRESS: at 69.07% examples, 247752 words/s, in_qsize 15, out_qsize 0\n",
      "2025-07-17 09:06:23,463 : INFO : EPOCH 25 - PROGRESS: at 71.99% examples, 246669 words/s, in_qsize 16, out_qsize 0\n",
      "2025-07-17 09:06:24,584 : INFO : EPOCH 25 - PROGRESS: at 75.02% examples, 245633 words/s, in_qsize 15, out_qsize 0\n",
      "2025-07-17 09:06:25,605 : INFO : EPOCH 25 - PROGRESS: at 77.96% examples, 245243 words/s, in_qsize 15, out_qsize 0\n",
      "2025-07-17 09:06:26,612 : INFO : EPOCH 25 - PROGRESS: at 80.57% examples, 243889 words/s, in_qsize 14, out_qsize 1\n",
      "2025-07-17 09:06:27,634 : INFO : EPOCH 25 - PROGRESS: at 83.72% examples, 244339 words/s, in_qsize 15, out_qsize 0\n",
      "2025-07-17 09:06:28,677 : INFO : EPOCH 25 - PROGRESS: at 86.31% examples, 242864 words/s, in_qsize 16, out_qsize 1\n",
      "2025-07-17 09:06:29,698 : INFO : EPOCH 25 - PROGRESS: at 89.89% examples, 244440 words/s, in_qsize 15, out_qsize 0\n",
      "2025-07-17 09:06:30,866 : INFO : EPOCH 25 - PROGRESS: at 92.94% examples, 243280 words/s, in_qsize 12, out_qsize 3\n",
      "2025-07-17 09:06:31,888 : INFO : EPOCH 25 - PROGRESS: at 96.75% examples, 245227 words/s, in_qsize 14, out_qsize 1\n",
      "2025-07-17 09:06:32,770 : INFO : EPOCH 25: training on 9227204 raw words (8222770 effective words) took 33.3s, 246741 effective words/s\n",
      "2025-07-17 09:06:33,982 : INFO : EPOCH 26 - PROGRESS: at 2.93% examples, 205197 words/s, in_qsize 16, out_qsize 0\n",
      "2025-07-17 09:06:35,017 : INFO : EPOCH 26 - PROGRESS: at 6.29% examples, 232378 words/s, in_qsize 14, out_qsize 1\n",
      "2025-07-17 09:06:36,052 : INFO : EPOCH 26 - PROGRESS: at 9.77% examples, 246984 words/s, in_qsize 16, out_qsize 0\n",
      "2025-07-17 09:06:37,197 : INFO : EPOCH 26 - PROGRESS: at 13.14% examples, 245546 words/s, in_qsize 15, out_qsize 0\n",
      "2025-07-17 09:06:38,197 : INFO : EPOCH 26 - PROGRESS: at 16.59% examples, 252471 words/s, in_qsize 16, out_qsize 1\n",
      "2025-07-17 09:06:39,260 : INFO : EPOCH 26 - PROGRESS: at 19.51% examples, 248599 words/s, in_qsize 15, out_qsize 0\n",
      "2025-07-17 09:06:40,348 : INFO : EPOCH 26 - PROGRESS: at 23.20% examples, 252586 words/s, in_qsize 16, out_qsize 0\n",
      "2025-07-17 09:06:41,352 : INFO : EPOCH 26 - PROGRESS: at 26.45% examples, 254162 words/s, in_qsize 16, out_qsize 1\n",
      "2025-07-17 09:06:42,360 : INFO : EPOCH 26 - PROGRESS: at 29.48% examples, 253575 words/s, in_qsize 16, out_qsize 0\n",
      "2025-07-17 09:06:43,576 : INFO : EPOCH 26 - PROGRESS: at 32.30% examples, 246622 words/s, in_qsize 11, out_qsize 4\n",
      "2025-07-17 09:06:44,580 : INFO : EPOCH 26 - PROGRESS: at 35.97% examples, 251304 words/s, in_qsize 15, out_qsize 0\n",
      "2025-07-17 09:06:45,656 : INFO : EPOCH 26 - PROGRESS: at 39.22% examples, 250994 words/s, in_qsize 15, out_qsize 0\n",
      "2025-07-17 09:06:46,953 : INFO : EPOCH 26 - PROGRESS: at 42.13% examples, 244991 words/s, in_qsize 4, out_qsize 11\n",
      "2025-07-17 09:06:47,987 : INFO : EPOCH 26 - PROGRESS: at 46.24% examples, 250583 words/s, in_qsize 15, out_qsize 0\n",
      "2025-07-17 09:06:49,023 : INFO : EPOCH 26 - PROGRESS: at 49.49% examples, 251094 words/s, in_qsize 15, out_qsize 0\n",
      "2025-07-17 09:06:50,123 : INFO : EPOCH 26 - PROGRESS: at 51.21% examples, 243339 words/s, in_qsize 15, out_qsize 0\n",
      "2025-07-17 09:06:51,289 : INFO : EPOCH 26 - PROGRESS: at 54.13% examples, 241076 words/s, in_qsize 16, out_qsize 1\n",
      "2025-07-17 09:06:52,293 : INFO : EPOCH 26 - PROGRESS: at 57.27% examples, 241912 words/s, in_qsize 16, out_qsize 0\n",
      "2025-07-17 09:06:53,313 : INFO : EPOCH 26 - PROGRESS: at 60.96% examples, 244481 words/s, in_qsize 15, out_qsize 0\n",
      "2025-07-17 09:06:54,338 : INFO : EPOCH 26 - PROGRESS: at 64.08% examples, 244989 words/s, in_qsize 15, out_qsize 0\n",
      "2025-07-17 09:06:55,399 : INFO : EPOCH 26 - PROGRESS: at 67.13% examples, 244376 words/s, in_qsize 16, out_qsize 0\n",
      "2025-07-17 09:06:56,452 : INFO : EPOCH 26 - PROGRESS: at 70.48% examples, 245231 words/s, in_qsize 16, out_qsize 0\n",
      "2025-07-17 09:06:57,482 : INFO : EPOCH 26 - PROGRESS: at 73.94% examples, 246532 words/s, in_qsize 16, out_qsize 0\n",
      "2025-07-17 09:06:58,566 : INFO : EPOCH 26 - PROGRESS: at 77.09% examples, 246243 words/s, in_qsize 16, out_qsize 0\n",
      "2025-07-17 09:06:59,674 : INFO : EPOCH 26 - PROGRESS: at 80.36% examples, 246007 words/s, in_qsize 16, out_qsize 0\n",
      "2025-07-17 09:07:00,810 : INFO : EPOCH 26 - PROGRESS: at 83.62% examples, 245586 words/s, in_qsize 15, out_qsize 0\n",
      "2025-07-17 09:07:01,916 : INFO : EPOCH 26 - PROGRESS: at 86.85% examples, 245463 words/s, in_qsize 16, out_qsize 0\n",
      "2025-07-17 09:07:02,940 : INFO : EPOCH 26 - PROGRESS: at 90.22% examples, 246229 words/s, in_qsize 15, out_qsize 0\n",
      "2025-07-17 09:07:03,973 : INFO : EPOCH 26 - PROGRESS: at 93.26% examples, 246081 words/s, in_qsize 15, out_qsize 0\n",
      "2025-07-17 09:07:05,034 : INFO : EPOCH 26 - PROGRESS: at 96.53% examples, 246282 words/s, in_qsize 16, out_qsize 0\n",
      "2025-07-17 09:07:05,952 : INFO : EPOCH 26: training on 9227204 raw words (8223221 effective words) took 33.1s, 248104 effective words/s\n",
      "2025-07-17 09:07:07,029 : INFO : EPOCH 27 - PROGRESS: at 2.27% examples, 180593 words/s, in_qsize 15, out_qsize 0\n",
      "2025-07-17 09:07:08,064 : INFO : EPOCH 27 - PROGRESS: at 5.22% examples, 206781 words/s, in_qsize 16, out_qsize 4\n",
      "2025-07-17 09:07:09,102 : INFO : EPOCH 27 - PROGRESS: at 8.47% examples, 223533 words/s, in_qsize 16, out_qsize 0\n",
      "2025-07-17 09:07:10,204 : INFO : EPOCH 27 - PROGRESS: at 12.06% examples, 234816 words/s, in_qsize 15, out_qsize 0\n",
      "2025-07-17 09:07:11,254 : INFO : EPOCH 27 - PROGRESS: at 15.30% examples, 239019 words/s, in_qsize 15, out_qsize 0\n",
      "2025-07-17 09:07:12,261 : INFO : EPOCH 27 - PROGRESS: at 18.33% examples, 240415 words/s, in_qsize 16, out_qsize 0\n",
      "2025-07-17 09:07:13,322 : INFO : EPOCH 27 - PROGRESS: at 21.46% examples, 240580 words/s, in_qsize 16, out_qsize 0\n",
      "2025-07-17 09:07:14,352 : INFO : EPOCH 27 - PROGRESS: at 24.61% examples, 241831 words/s, in_qsize 15, out_qsize 0\n",
      "2025-07-17 09:07:15,370 : INFO : EPOCH 27 - PROGRESS: at 27.86% examples, 244237 words/s, in_qsize 15, out_qsize 0\n",
      "2025-07-17 09:07:16,368 : INFO : EPOCH 27 - PROGRESS: at 31.00% examples, 245551 words/s, in_qsize 15, out_qsize 0\n",
      "2025-07-17 09:07:17,439 : INFO : EPOCH 27 - PROGRESS: at 34.14% examples, 245209 words/s, in_qsize 16, out_qsize 0\n",
      "2025-07-17 09:07:18,450 : INFO : EPOCH 27 - PROGRESS: at 37.70% examples, 248963 words/s, in_qsize 14, out_qsize 1\n",
      "2025-07-17 09:07:19,452 : INFO : EPOCH 27 - PROGRESS: at 40.73% examples, 248955 words/s, in_qsize 15, out_qsize 0\n",
      "2025-07-17 09:07:20,552 : INFO : EPOCH 27 - PROGRESS: at 44.07% examples, 248923 words/s, in_qsize 15, out_qsize 0\n",
      "2025-07-17 09:07:21,649 : INFO : EPOCH 27 - PROGRESS: at 47.10% examples, 247605 words/s, in_qsize 14, out_qsize 7\n",
      "2025-07-17 09:07:22,657 : INFO : EPOCH 27 - PROGRESS: at 50.99% examples, 251852 words/s, in_qsize 14, out_qsize 1\n",
      "2025-07-17 09:07:23,670 : INFO : EPOCH 27 - PROGRESS: at 54.24% examples, 252499 words/s, in_qsize 15, out_qsize 0\n",
      "2025-07-17 09:07:24,718 : INFO : EPOCH 27 - PROGRESS: at 57.49% examples, 252619 words/s, in_qsize 15, out_qsize 0\n",
      "2025-07-17 09:07:25,805 : INFO : EPOCH 27 - PROGRESS: at 61.07% examples, 253662 words/s, in_qsize 16, out_qsize 0\n",
      "2025-07-17 09:07:26,940 : INFO : EPOCH 27 - PROGRESS: at 64.51% examples, 253493 words/s, in_qsize 16, out_qsize 0\n",
      "2025-07-17 09:07:27,955 : INFO : EPOCH 27 - PROGRESS: at 66.80% examples, 250277 words/s, in_qsize 16, out_qsize 0\n",
      "2025-07-17 09:07:28,968 : INFO : EPOCH 27 - PROGRESS: at 69.29% examples, 248256 words/s, in_qsize 16, out_qsize 2\n",
      "2025-07-17 09:07:30,018 : INFO : EPOCH 27 - PROGRESS: at 72.75% examples, 249143 words/s, in_qsize 16, out_qsize 0\n",
      "2025-07-17 09:07:31,070 : INFO : EPOCH 27 - PROGRESS: at 75.89% examples, 249098 words/s, in_qsize 15, out_qsize 1\n",
      "2025-07-17 09:07:32,074 : INFO : EPOCH 27 - PROGRESS: at 79.38% examples, 250413 words/s, in_qsize 15, out_qsize 0\n",
      "2025-07-17 09:07:33,187 : INFO : EPOCH 27 - PROGRESS: at 82.96% examples, 250950 words/s, in_qsize 15, out_qsize 0\n",
      "2025-07-17 09:07:34,253 : INFO : EPOCH 27 - PROGRESS: at 86.42% examples, 251512 words/s, in_qsize 15, out_qsize 0\n",
      "2025-07-17 09:07:35,372 : INFO : EPOCH 27 - PROGRESS: at 89.89% examples, 251710 words/s, in_qsize 15, out_qsize 0\n",
      "2025-07-17 09:07:36,613 : INFO : EPOCH 27 - PROGRESS: at 93.38% examples, 250810 words/s, in_qsize 16, out_qsize 7\n",
      "2025-07-17 09:07:37,637 : INFO : EPOCH 27 - PROGRESS: at 97.50% examples, 253412 words/s, in_qsize 11, out_qsize 2\n",
      "2025-07-17 09:07:38,258 : INFO : EPOCH 27: training on 9227204 raw words (8224081 effective words) took 32.3s, 254932 effective words/s\n",
      "2025-07-17 09:07:39,302 : INFO : EPOCH 28 - PROGRESS: at 2.61% examples, 211724 words/s, in_qsize 16, out_qsize 0\n",
      "2025-07-17 09:07:40,391 : INFO : EPOCH 28 - PROGRESS: at 5.65% examples, 220713 words/s, in_qsize 16, out_qsize 0\n",
      "2025-07-17 09:07:41,432 : INFO : EPOCH 28 - PROGRESS: at 9.23% examples, 241772 words/s, in_qsize 13, out_qsize 2\n",
      "2025-07-17 09:07:42,452 : INFO : EPOCH 28 - PROGRESS: at 12.06% examples, 238165 words/s, in_qsize 16, out_qsize 0\n",
      "2025-07-17 09:07:43,471 : INFO : EPOCH 28 - PROGRESS: at 15.41% examples, 244306 words/s, in_qsize 16, out_qsize 0\n",
      "2025-07-17 09:07:44,484 : INFO : EPOCH 28 - PROGRESS: at 18.76% examples, 249193 words/s, in_qsize 15, out_qsize 3\n",
      "2025-07-17 09:07:45,505 : INFO : EPOCH 28 - PROGRESS: at 22.11% examples, 252266 words/s, in_qsize 15, out_qsize 0\n",
      "2025-07-17 09:07:46,519 : INFO : EPOCH 28 - PROGRESS: at 25.59% examples, 255747 words/s, in_qsize 15, out_qsize 0\n",
      "2025-07-17 09:07:47,533 : INFO : EPOCH 28 - PROGRESS: at 28.08% examples, 249885 words/s, in_qsize 16, out_qsize 0\n",
      "2025-07-17 09:07:48,536 : INFO : EPOCH 28 - PROGRESS: at 31.21% examples, 250684 words/s, in_qsize 16, out_qsize 0\n",
      "2025-07-17 09:07:49,685 : INFO : EPOCH 28 - PROGRESS: at 34.78% examples, 251175 words/s, in_qsize 16, out_qsize 0\n",
      "2025-07-17 09:07:50,686 : INFO : EPOCH 28 - PROGRESS: at 38.14% examples, 252984 words/s, in_qsize 16, out_qsize 0\n",
      "2025-07-17 09:07:51,702 : INFO : EPOCH 28 - PROGRESS: at 41.37% examples, 253902 words/s, in_qsize 15, out_qsize 0\n",
      "2025-07-17 09:07:52,708 : INFO : EPOCH 28 - PROGRESS: at 44.83% examples, 255907 words/s, in_qsize 14, out_qsize 1\n",
      "2025-07-17 09:07:53,704 : INFO : EPOCH 28 - PROGRESS: at 47.87% examples, 255474 words/s, in_qsize 16, out_qsize 0\n",
      "2025-07-17 09:07:54,921 : INFO : EPOCH 28 - PROGRESS: at 51.32% examples, 254043 words/s, in_qsize 13, out_qsize 8\n",
      "2025-07-17 09:07:55,946 : INFO : EPOCH 28 - PROGRESS: at 55.10% examples, 256946 words/s, in_qsize 15, out_qsize 0\n",
      "2025-07-17 09:07:57,048 : INFO : EPOCH 28 - PROGRESS: at 58.47% examples, 256572 words/s, in_qsize 16, out_qsize 0\n",
      "2025-07-17 09:07:58,239 : INFO : EPOCH 28 - PROGRESS: at 62.25% examples, 256895 words/s, in_qsize 15, out_qsize 0\n",
      "2025-07-17 09:07:59,254 : INFO : EPOCH 28 - PROGRESS: at 65.50% examples, 257222 words/s, in_qsize 16, out_qsize 0\n",
      "2025-07-17 09:08:00,315 : INFO : EPOCH 28 - PROGRESS: at 68.75% examples, 256961 words/s, in_qsize 15, out_qsize 0\n",
      "2025-07-17 09:08:01,366 : INFO : EPOCH 28 - PROGRESS: at 72.32% examples, 258005 words/s, in_qsize 15, out_qsize 0\n",
      "2025-07-17 09:08:02,396 : INFO : EPOCH 28 - PROGRESS: at 74.16% examples, 253203 words/s, in_qsize 15, out_qsize 0\n",
      "2025-07-17 09:08:03,425 : INFO : EPOCH 28 - PROGRESS: at 76.99% examples, 252041 words/s, in_qsize 16, out_qsize 0\n",
      "2025-07-17 09:08:04,571 : INFO : EPOCH 28 - PROGRESS: at 80.57% examples, 252262 words/s, in_qsize 15, out_qsize 0\n",
      "2025-07-17 09:08:05,573 : INFO : EPOCH 28 - PROGRESS: at 82.96% examples, 250200 words/s, in_qsize 12, out_qsize 11\n",
      "2025-07-17 09:08:06,597 : INFO : EPOCH 28 - PROGRESS: at 87.07% examples, 253087 words/s, in_qsize 14, out_qsize 3\n",
      "2025-07-17 09:08:07,626 : INFO : EPOCH 28 - PROGRESS: at 90.44% examples, 253621 words/s, in_qsize 15, out_qsize 0\n",
      "2025-07-17 09:08:08,658 : INFO : EPOCH 28 - PROGRESS: at 93.92% examples, 254370 words/s, in_qsize 15, out_qsize 0\n",
      "2025-07-17 09:08:09,693 : INFO : EPOCH 28 - PROGRESS: at 97.50% examples, 255330 words/s, in_qsize 15, out_qsize 0\n",
      "2025-07-17 09:08:10,376 : INFO : EPOCH 28: training on 9227204 raw words (8222901 effective words) took 32.1s, 256290 effective words/s\n",
      "2025-07-17 09:08:11,439 : INFO : EPOCH 29 - PROGRESS: at 2.50% examples, 201806 words/s, in_qsize 16, out_qsize 0\n",
      "2025-07-17 09:08:12,470 : INFO : EPOCH 29 - PROGRESS: at 5.97% examples, 239397 words/s, in_qsize 15, out_qsize 0\n",
      "2025-07-17 09:08:13,625 : INFO : EPOCH 29 - PROGRESS: at 9.23% examples, 236189 words/s, in_qsize 15, out_qsize 0\n",
      "2025-07-17 09:08:14,644 : INFO : EPOCH 29 - PROGRESS: at 12.60% examples, 244905 words/s, in_qsize 13, out_qsize 2\n",
      "2025-07-17 09:08:15,681 : INFO : EPOCH 29 - PROGRESS: at 15.73% examples, 245686 words/s, in_qsize 15, out_qsize 1\n",
      "2025-07-17 09:08:16,797 : INFO : EPOCH 29 - PROGRESS: at 19.08% examples, 245961 words/s, in_qsize 15, out_qsize 6\n",
      "2025-07-17 09:08:17,810 : INFO : EPOCH 29 - PROGRESS: at 22.87% examples, 254029 words/s, in_qsize 15, out_qsize 0\n",
      "2025-07-17 09:08:18,872 : INFO : EPOCH 29 - PROGRESS: at 26.45% examples, 256902 words/s, in_qsize 15, out_qsize 0\n",
      "2025-07-17 09:08:19,892 : INFO : EPOCH 29 - PROGRESS: at 29.37% examples, 254930 words/s, in_qsize 16, out_qsize 0\n",
      "2025-07-17 09:08:20,896 : INFO : EPOCH 29 - PROGRESS: at 33.16% examples, 260301 words/s, in_qsize 15, out_qsize 0\n",
      "2025-07-17 09:08:21,922 : INFO : EPOCH 29 - PROGRESS: at 36.18% examples, 258734 words/s, in_qsize 16, out_qsize 0\n",
      "2025-07-17 09:08:23,077 : INFO : EPOCH 29 - PROGRESS: at 39.75% examples, 258292 words/s, in_qsize 15, out_qsize 0\n",
      "2025-07-17 09:08:24,168 : INFO : EPOCH 29 - PROGRESS: at 43.10% examples, 257989 words/s, in_qsize 15, out_qsize 0\n",
      "2025-07-17 09:08:25,228 : INFO : EPOCH 29 - PROGRESS: at 46.46% examples, 258140 words/s, in_qsize 14, out_qsize 1\n",
      "2025-07-17 09:08:26,288 : INFO : EPOCH 29 - PROGRESS: at 49.70% examples, 257778 words/s, in_qsize 16, out_qsize 0\n",
      "2025-07-17 09:08:27,289 : INFO : EPOCH 29 - PROGRESS: at 53.27% examples, 259854 words/s, in_qsize 16, out_qsize 0\n",
      "2025-07-17 09:08:28,300 : INFO : EPOCH 29 - PROGRESS: at 56.08% examples, 258204 words/s, in_qsize 16, out_qsize 0\n",
      "2025-07-17 09:08:29,307 : INFO : EPOCH 29 - PROGRESS: at 59.44% examples, 258960 words/s, in_qsize 14, out_qsize 0\n",
      "2025-07-17 09:08:30,314 : INFO : EPOCH 29 - PROGRESS: at 62.57% examples, 258917 words/s, in_qsize 15, out_qsize 0\n",
      "2025-07-17 09:08:31,475 : INFO : EPOCH 29 - PROGRESS: at 65.27% examples, 255098 words/s, in_qsize 15, out_qsize 0\n",
      "2025-07-17 09:08:32,828 : INFO : EPOCH 29 - PROGRESS: at 68.10% examples, 250127 words/s, in_qsize 13, out_qsize 6\n",
      "2025-07-17 09:08:33,920 : INFO : EPOCH 29 - PROGRESS: at 70.27% examples, 246094 words/s, in_qsize 16, out_qsize 4\n",
      "2025-07-17 09:08:35,006 : INFO : EPOCH 29 - PROGRESS: at 72.10% examples, 241364 words/s, in_qsize 14, out_qsize 0\n",
      "2025-07-17 09:08:36,043 : INFO : EPOCH 29 - PROGRESS: at 74.81% examples, 240154 words/s, in_qsize 15, out_qsize 0\n",
      "2025-07-17 09:08:37,073 : INFO : EPOCH 29 - PROGRESS: at 77.42% examples, 239022 words/s, in_qsize 15, out_qsize 0\n",
      "2025-07-17 09:08:38,220 : INFO : EPOCH 29 - PROGRESS: at 80.14% examples, 237179 words/s, in_qsize 14, out_qsize 7\n",
      "2025-07-17 09:08:39,264 : INFO : EPOCH 29 - PROGRESS: at 83.18% examples, 237240 words/s, in_qsize 14, out_qsize 4\n",
      "2025-07-17 09:08:40,293 : INFO : EPOCH 29 - PROGRESS: at 86.53% examples, 238256 words/s, in_qsize 16, out_qsize 0\n",
      "2025-07-17 09:08:41,351 : INFO : EPOCH 29 - PROGRESS: at 89.89% examples, 239088 words/s, in_qsize 15, out_qsize 0\n",
      "2025-07-17 09:08:42,393 : INFO : EPOCH 29 - PROGRESS: at 92.83% examples, 238743 words/s, in_qsize 16, out_qsize 1\n",
      "2025-07-17 09:08:43,442 : INFO : EPOCH 29 - PROGRESS: at 95.99% examples, 239010 words/s, in_qsize 15, out_qsize 0\n",
      "2025-07-17 09:08:44,473 : INFO : EPOCH 29 - PROGRESS: at 99.67% examples, 240717 words/s, in_qsize 2, out_qsize 3\n",
      "2025-07-17 09:08:44,483 : INFO : EPOCH 29: training on 9227204 raw words (8223438 effective words) took 34.1s, 241449 effective words/s\n",
      "2025-07-17 09:08:45,639 : INFO : EPOCH 30 - PROGRESS: at 2.82% examples, 204631 words/s, in_qsize 16, out_qsize 0\n",
      "2025-07-17 09:08:46,663 : INFO : EPOCH 30 - PROGRESS: at 6.19% examples, 235495 words/s, in_qsize 16, out_qsize 0\n",
      "2025-07-17 09:08:47,739 : INFO : EPOCH 30 - PROGRESS: at 9.45% examples, 239922 words/s, in_qsize 15, out_qsize 0\n",
      "2025-07-17 09:08:48,768 : INFO : EPOCH 30 - PROGRESS: at 12.71% examples, 244558 words/s, in_qsize 14, out_qsize 1\n",
      "2025-07-17 09:08:49,792 : INFO : EPOCH 30 - PROGRESS: at 16.16% examples, 250540 words/s, in_qsize 16, out_qsize 0\n",
      "2025-07-17 09:08:50,938 : INFO : EPOCH 30 - PROGRESS: at 19.19% examples, 245195 words/s, in_qsize 14, out_qsize 1\n",
      "2025-07-17 09:08:51,945 : INFO : EPOCH 30 - PROGRESS: at 22.54% examples, 248852 words/s, in_qsize 15, out_qsize 0\n",
      "2025-07-17 09:08:52,969 : INFO : EPOCH 30 - PROGRESS: at 25.69% examples, 249522 words/s, in_qsize 16, out_qsize 0\n",
      "2025-07-17 09:08:54,041 : INFO : EPOCH 30 - PROGRESS: at 29.05% examples, 250447 words/s, in_qsize 16, out_qsize 0\n",
      "2025-07-17 09:08:55,195 : INFO : EPOCH 30 - PROGRESS: at 32.62% examples, 250885 words/s, in_qsize 15, out_qsize 0\n",
      "2025-07-17 09:08:56,257 : INFO : EPOCH 30 - PROGRESS: at 36.51% examples, 255483 words/s, in_qsize 15, out_qsize 0\n",
      "2025-07-17 09:08:57,276 : INFO : EPOCH 30 - PROGRESS: at 39.32% examples, 253156 words/s, in_qsize 14, out_qsize 1\n",
      "2025-07-17 09:08:58,315 : INFO : EPOCH 30 - PROGRESS: at 42.68% examples, 254077 words/s, in_qsize 14, out_qsize 1\n",
      "2025-07-17 09:08:59,341 : INFO : EPOCH 30 - PROGRESS: at 46.46% examples, 257543 words/s, in_qsize 15, out_qsize 0\n",
      "2025-07-17 09:09:00,358 : INFO : EPOCH 30 - PROGRESS: at 49.16% examples, 255122 words/s, in_qsize 16, out_qsize 0\n",
      "2025-07-17 09:09:01,380 : INFO : EPOCH 30 - PROGRESS: at 52.40% examples, 255533 words/s, in_qsize 15, out_qsize 0\n",
      "2025-07-17 09:09:02,398 : INFO : EPOCH 30 - PROGRESS: at 55.97% examples, 257486 words/s, in_qsize 14, out_qsize 1\n",
      "2025-07-17 09:09:03,408 : INFO : EPOCH 30 - PROGRESS: at 59.34% examples, 258324 words/s, in_qsize 15, out_qsize 0\n",
      "2025-07-17 09:09:04,483 : INFO : EPOCH 30 - PROGRESS: at 62.36% examples, 256859 words/s, in_qsize 15, out_qsize 0\n",
      "2025-07-17 09:09:05,558 : INFO : EPOCH 30 - PROGRESS: at 65.61% examples, 256387 words/s, in_qsize 15, out_qsize 0\n",
      "2025-07-17 09:09:06,611 : INFO : EPOCH 30 - PROGRESS: at 67.66% examples, 251915 words/s, in_qsize 15, out_qsize 0\n",
      "2025-07-17 09:09:07,719 : INFO : EPOCH 30 - PROGRESS: at 70.59% examples, 250248 words/s, in_qsize 15, out_qsize 0\n",
      "2025-07-17 09:09:08,710 : INFO : EPOCH 30 - PROGRESS: at 73.94% examples, 251293 words/s, in_qsize 15, out_qsize 0\n",
      "2025-07-17 09:09:09,869 : INFO : EPOCH 30 - PROGRESS: at 77.53% examples, 251524 words/s, in_qsize 16, out_qsize 0\n",
      "2025-07-17 09:09:10,934 : INFO : EPOCH 30 - PROGRESS: at 80.68% examples, 251144 words/s, in_qsize 15, out_qsize 1\n",
      "2025-07-17 09:09:11,975 : INFO : EPOCH 30 - PROGRESS: at 83.93% examples, 251388 words/s, in_qsize 16, out_qsize 0\n",
      "2025-07-17 09:09:12,988 : INFO : EPOCH 30 - PROGRESS: at 87.51% examples, 252764 words/s, in_qsize 16, out_qsize 0\n",
      "2025-07-17 09:09:14,041 : INFO : EPOCH 30 - PROGRESS: at 90.65% examples, 252489 words/s, in_qsize 15, out_qsize 0\n",
      "2025-07-17 09:09:15,042 : INFO : EPOCH 30 - PROGRESS: at 94.36% examples, 254111 words/s, in_qsize 15, out_qsize 0\n",
      "2025-07-17 09:09:16,178 : INFO : EPOCH 30 - PROGRESS: at 97.71% examples, 253732 words/s, in_qsize 16, out_qsize 1\n",
      "2025-07-17 09:09:16,690 : INFO : EPOCH 30: training on 9227204 raw words (8223663 effective words) took 32.2s, 255544 effective words/s\n",
      "2025-07-17 09:09:17,778 : INFO : EPOCH 31 - PROGRESS: at 2.61% examples, 202860 words/s, in_qsize 14, out_qsize 1\n",
      "2025-07-17 09:09:18,794 : INFO : EPOCH 31 - PROGRESS: at 6.08% examples, 240234 words/s, in_qsize 15, out_qsize 0\n",
      "2025-07-17 09:09:19,812 : INFO : EPOCH 31 - PROGRESS: at 9.23% examples, 245269 words/s, in_qsize 12, out_qsize 3\n",
      "2025-07-17 09:09:20,811 : INFO : EPOCH 31 - PROGRESS: at 12.39% examples, 248464 words/s, in_qsize 15, out_qsize 0\n",
      "2025-07-17 09:09:21,910 : INFO : EPOCH 31 - PROGRESS: at 15.73% examples, 249048 words/s, in_qsize 16, out_qsize 0\n",
      "2025-07-17 09:09:23,079 : INFO : EPOCH 31 - PROGRESS: at 19.29% examples, 249462 words/s, in_qsize 16, out_qsize 0\n",
      "2025-07-17 09:09:24,083 : INFO : EPOCH 31 - PROGRESS: at 22.87% examples, 255398 words/s, in_qsize 14, out_qsize 1\n",
      "2025-07-17 09:09:25,093 : INFO : EPOCH 31 - PROGRESS: at 26.34% examples, 258632 words/s, in_qsize 15, out_qsize 0\n",
      "2025-07-17 09:09:26,118 : INFO : EPOCH 31 - PROGRESS: at 29.26% examples, 255926 words/s, in_qsize 16, out_qsize 0\n",
      "2025-07-17 09:09:27,131 : INFO : EPOCH 31 - PROGRESS: at 32.84% examples, 259303 words/s, in_qsize 15, out_qsize 0\n",
      "2025-07-17 09:09:28,177 : INFO : EPOCH 31 - PROGRESS: at 36.29% examples, 260445 words/s, in_qsize 16, out_qsize 0\n",
      "2025-07-17 09:09:29,209 : INFO : EPOCH 31 - PROGRESS: at 39.43% examples, 259643 words/s, in_qsize 15, out_qsize 0\n",
      "2025-07-17 09:09:30,229 : INFO : EPOCH 31 - PROGRESS: at 42.45% examples, 258563 words/s, in_qsize 16, out_qsize 0\n",
      "2025-07-17 09:09:31,277 : INFO : EPOCH 31 - PROGRESS: at 45.92% examples, 259373 words/s, in_qsize 15, out_qsize 0\n",
      "2025-07-17 09:09:32,326 : INFO : EPOCH 31 - PROGRESS: at 49.05% examples, 258581 words/s, in_qsize 16, out_qsize 0\n",
      "2025-07-17 09:09:33,361 : INFO : EPOCH 31 - PROGRESS: at 52.62% examples, 260203 words/s, in_qsize 12, out_qsize 3\n",
      "2025-07-17 09:09:34,418 : INFO : EPOCH 31 - PROGRESS: at 55.86% examples, 259748 words/s, in_qsize 15, out_qsize 0\n",
      "2025-07-17 09:09:35,427 : INFO : EPOCH 31 - PROGRESS: at 59.01% examples, 259480 words/s, in_qsize 16, out_qsize 1\n",
      "2025-07-17 09:09:36,448 : INFO : EPOCH 31 - PROGRESS: at 62.36% examples, 260052 words/s, in_qsize 15, out_qsize 0\n",
      "2025-07-17 09:09:37,516 : INFO : EPOCH 31 - PROGRESS: at 66.04% examples, 261283 words/s, in_qsize 15, out_qsize 0\n",
      "2025-07-17 09:09:38,729 : INFO : EPOCH 31 - PROGRESS: at 69.29% examples, 259132 words/s, in_qsize 16, out_qsize 3\n",
      "2025-07-17 09:09:39,744 : INFO : EPOCH 31 - PROGRESS: at 71.45% examples, 255415 words/s, in_qsize 14, out_qsize 1\n",
      "2025-07-17 09:09:40,760 : INFO : EPOCH 31 - PROGRESS: at 74.37% examples, 254644 words/s, in_qsize 15, out_qsize 0\n",
      "2025-07-17 09:09:41,761 : INFO : EPOCH 31 - PROGRESS: at 77.86% examples, 255757 words/s, in_qsize 15, out_qsize 0\n",
      "2025-07-17 09:09:42,787 : INFO : EPOCH 31 - PROGRESS: at 80.68% examples, 254584 words/s, in_qsize 16, out_qsize 0\n",
      "2025-07-17 09:09:43,802 : INFO : EPOCH 31 - PROGRESS: at 84.05% examples, 255253 words/s, in_qsize 16, out_qsize 0\n",
      "2025-07-17 09:09:44,830 : INFO : EPOCH 31 - PROGRESS: at 86.96% examples, 254514 words/s, in_qsize 16, out_qsize 0\n",
      "2025-07-17 09:09:45,878 : INFO : EPOCH 31 - PROGRESS: at 90.43% examples, 255019 words/s, in_qsize 15, out_qsize 0\n",
      "2025-07-17 09:09:46,910 : INFO : EPOCH 31 - PROGRESS: at 93.81% examples, 255489 words/s, in_qsize 16, out_qsize 1\n",
      "2025-07-17 09:09:47,965 : INFO : EPOCH 31 - PROGRESS: at 97.29% examples, 256159 words/s, in_qsize 14, out_qsize 1\n",
      "2025-07-17 09:09:48,706 : INFO : EPOCH 31: training on 9227204 raw words (8222695 effective words) took 32.0s, 257102 effective words/s\n",
      "2025-07-17 09:09:48,708 : INFO : Word2Vec lifecycle event {'msg': 'training on 295270528 raw words (263131877 effective words) took 1053.1s, 249856 effective words/s', 'datetime': '2025-07-17T09:09:48.708171', 'gensim': '4.3.3', 'python': '3.10.18 | packaged by Anaconda, Inc. | (main, Jun  5 2025, 13:08:55) [MSC v.1929 64 bit (AMD64)]', 'platform': 'Windows-10-10.0.19045-SP0', 'event': 'train'}\n"
     ]
    },
    {
     "data": {
      "text/plain": [
       "(263131877, 295270528)"
      ]
     },
     "execution_count": 134,
     "metadata": {},
     "output_type": "execute_result"
    }
   ],
   "source": [
    "w2v_model.train(documents, total_examples=len(documents), epochs=W2V_EPOCH)\n"
   ]
  },
  {
   "cell_type": "code",
   "execution_count": 135,
   "id": "aa93fea2",
   "metadata": {},
   "outputs": [
    {
     "name": "stderr",
     "output_type": "stream",
     "text": [
      "c:\\Users\\anast\\AppData\\Local\\miniconda3\\envs\\nlp\\lib\\site-packages\\keras\\src\\layers\\core\\embedding.py:97: UserWarning: Argument `input_length` is deprecated. Just remove it.\n",
      "  warnings.warn(\n"
     ]
    }
   ],
   "source": [
    "embedding_layer = Embedding(\n",
    "    vocab_size,\n",
    "    W2V_SIZE,\n",
    "    weights=[embedding_matrix],\n",
    "    input_length=SEQUENCE_LENGTH,\n",
    "    trainable=False\n",
    ")\n"
   ]
  },
  {
   "cell_type": "code",
   "execution_count": 136,
   "id": "c162c7d8",
   "metadata": {},
   "outputs": [
    {
     "data": {
      "text/html": [
       "<pre style=\"white-space:pre;overflow-x:auto;line-height:normal;font-family:Menlo,'DejaVu Sans Mono',consolas,'Courier New',monospace\"><span style=\"font-weight: bold\">Model: \"sequential_3\"</span>\n",
       "</pre>\n"
      ],
      "text/plain": [
       "\u001b[1mModel: \"sequential_3\"\u001b[0m\n"
      ]
     },
     "metadata": {},
     "output_type": "display_data"
    },
    {
     "data": {
      "text/html": [
       "<pre style=\"white-space:pre;overflow-x:auto;line-height:normal;font-family:Menlo,'DejaVu Sans Mono',consolas,'Courier New',monospace\">┏━━━━━━━━━━━━━━━━━━━━━━━━━━━━━━━━━┳━━━━━━━━━━━━━━━━━━━━━━━━┳━━━━━━━━━━━━━━━┓\n",
       "┃<span style=\"font-weight: bold\"> Layer (type)                    </span>┃<span style=\"font-weight: bold\"> Output Shape           </span>┃<span style=\"font-weight: bold\">       Param # </span>┃\n",
       "┡━━━━━━━━━━━━━━━━━━━━━━━━━━━━━━━━━╇━━━━━━━━━━━━━━━━━━━━━━━━╇━━━━━━━━━━━━━━━┩\n",
       "│ embedding_1 (<span style=\"color: #0087ff; text-decoration-color: #0087ff\">Embedding</span>)         │ (<span style=\"color: #00d7ff; text-decoration-color: #00d7ff\">None</span>, <span style=\"color: #00af00; text-decoration-color: #00af00\">300</span>, <span style=\"color: #00af00; text-decoration-color: #00af00\">300</span>)       │    <span style=\"color: #00af00; text-decoration-color: #00af00\">87,125,700</span> │\n",
       "├─────────────────────────────────┼────────────────────────┼───────────────┤\n",
       "│ dropout_3 (<span style=\"color: #0087ff; text-decoration-color: #0087ff\">Dropout</span>)             │ (<span style=\"color: #00d7ff; text-decoration-color: #00d7ff\">None</span>, <span style=\"color: #00af00; text-decoration-color: #00af00\">300</span>, <span style=\"color: #00af00; text-decoration-color: #00af00\">300</span>)       │             <span style=\"color: #00af00; text-decoration-color: #00af00\">0</span> │\n",
       "├─────────────────────────────────┼────────────────────────┼───────────────┤\n",
       "│ lstm_3 (<span style=\"color: #0087ff; text-decoration-color: #0087ff\">LSTM</span>)                   │ (<span style=\"color: #00d7ff; text-decoration-color: #00d7ff\">None</span>, <span style=\"color: #00af00; text-decoration-color: #00af00\">100</span>)            │       <span style=\"color: #00af00; text-decoration-color: #00af00\">160,400</span> │\n",
       "├─────────────────────────────────┼────────────────────────┼───────────────┤\n",
       "│ dense_3 (<span style=\"color: #0087ff; text-decoration-color: #0087ff\">Dense</span>)                 │ (<span style=\"color: #00d7ff; text-decoration-color: #00d7ff\">None</span>, <span style=\"color: #00af00; text-decoration-color: #00af00\">1</span>)              │           <span style=\"color: #00af00; text-decoration-color: #00af00\">101</span> │\n",
       "└─────────────────────────────────┴────────────────────────┴───────────────┘\n",
       "</pre>\n"
      ],
      "text/plain": [
       "┏━━━━━━━━━━━━━━━━━━━━━━━━━━━━━━━━━┳━━━━━━━━━━━━━━━━━━━━━━━━┳━━━━━━━━━━━━━━━┓\n",
       "┃\u001b[1m \u001b[0m\u001b[1mLayer (type)                   \u001b[0m\u001b[1m \u001b[0m┃\u001b[1m \u001b[0m\u001b[1mOutput Shape          \u001b[0m\u001b[1m \u001b[0m┃\u001b[1m \u001b[0m\u001b[1m      Param #\u001b[0m\u001b[1m \u001b[0m┃\n",
       "┡━━━━━━━━━━━━━━━━━━━━━━━━━━━━━━━━━╇━━━━━━━━━━━━━━━━━━━━━━━━╇━━━━━━━━━━━━━━━┩\n",
       "│ embedding_1 (\u001b[38;5;33mEmbedding\u001b[0m)         │ (\u001b[38;5;45mNone\u001b[0m, \u001b[38;5;34m300\u001b[0m, \u001b[38;5;34m300\u001b[0m)       │    \u001b[38;5;34m87,125,700\u001b[0m │\n",
       "├─────────────────────────────────┼────────────────────────┼───────────────┤\n",
       "│ dropout_3 (\u001b[38;5;33mDropout\u001b[0m)             │ (\u001b[38;5;45mNone\u001b[0m, \u001b[38;5;34m300\u001b[0m, \u001b[38;5;34m300\u001b[0m)       │             \u001b[38;5;34m0\u001b[0m │\n",
       "├─────────────────────────────────┼────────────────────────┼───────────────┤\n",
       "│ lstm_3 (\u001b[38;5;33mLSTM\u001b[0m)                   │ (\u001b[38;5;45mNone\u001b[0m, \u001b[38;5;34m100\u001b[0m)            │       \u001b[38;5;34m160,400\u001b[0m │\n",
       "├─────────────────────────────────┼────────────────────────┼───────────────┤\n",
       "│ dense_3 (\u001b[38;5;33mDense\u001b[0m)                 │ (\u001b[38;5;45mNone\u001b[0m, \u001b[38;5;34m1\u001b[0m)              │           \u001b[38;5;34m101\u001b[0m │\n",
       "└─────────────────────────────────┴────────────────────────┴───────────────┘\n"
      ]
     },
     "metadata": {},
     "output_type": "display_data"
    },
    {
     "data": {
      "text/html": [
       "<pre style=\"white-space:pre;overflow-x:auto;line-height:normal;font-family:Menlo,'DejaVu Sans Mono',consolas,'Courier New',monospace\"><span style=\"font-weight: bold\"> Total params: </span><span style=\"color: #00af00; text-decoration-color: #00af00\">87,286,201</span> (332.97 MB)\n",
       "</pre>\n"
      ],
      "text/plain": [
       "\u001b[1m Total params: \u001b[0m\u001b[38;5;34m87,286,201\u001b[0m (332.97 MB)\n"
      ]
     },
     "metadata": {},
     "output_type": "display_data"
    },
    {
     "data": {
      "text/html": [
       "<pre style=\"white-space:pre;overflow-x:auto;line-height:normal;font-family:Menlo,'DejaVu Sans Mono',consolas,'Courier New',monospace\"><span style=\"font-weight: bold\"> Trainable params: </span><span style=\"color: #00af00; text-decoration-color: #00af00\">160,501</span> (626.96 KB)\n",
       "</pre>\n"
      ],
      "text/plain": [
       "\u001b[1m Trainable params: \u001b[0m\u001b[38;5;34m160,501\u001b[0m (626.96 KB)\n"
      ]
     },
     "metadata": {},
     "output_type": "display_data"
    },
    {
     "data": {
      "text/html": [
       "<pre style=\"white-space:pre;overflow-x:auto;line-height:normal;font-family:Menlo,'DejaVu Sans Mono',consolas,'Courier New',monospace\"><span style=\"font-weight: bold\"> Non-trainable params: </span><span style=\"color: #00af00; text-decoration-color: #00af00\">87,125,700</span> (332.36 MB)\n",
       "</pre>\n"
      ],
      "text/plain": [
       "\u001b[1m Non-trainable params: \u001b[0m\u001b[38;5;34m87,125,700\u001b[0m (332.36 MB)\n"
      ]
     },
     "metadata": {},
     "output_type": "display_data"
    }
   ],
   "source": [
    "model.build(input_shape=(None, SEQUENCE_LENGTH))\n",
    "model.summary()\n"
   ]
  },
  {
   "cell_type": "markdown",
   "id": "fdcaa098",
   "metadata": {},
   "source": [
    "#### **Compile the Model**"
   ]
  },
  {
   "cell_type": "code",
   "execution_count": 141,
   "id": "6bcab6fb",
   "metadata": {},
   "outputs": [],
   "source": [
    "model.compile(\n",
    "    loss='binary_crossentropy',\n",
    "    optimizer='adam',\n",
    "    metrics=['accuracy']\n",
    ")\n"
   ]
  },
  {
   "cell_type": "markdown",
   "id": "2444d390",
   "metadata": {},
   "source": [
    "#### **Call backs**"
   ]
  },
  {
   "cell_type": "code",
   "execution_count": 142,
   "id": "8fc11208",
   "metadata": {},
   "outputs": [],
   "source": [
    "early_stop = EarlyStopping(\n",
    "    monitor='val_loss', patience=2, restore_best_weights=True\n",
    ")\n",
    "\n",
    "model_checkpoint = ModelCheckpoint(\n",
    "    filepath='best_model.h5',\n",
    "    monitor='val_accuracy',\n",
    "    save_best_only=True,\n",
    "    verbose=1\n",
    ")\n",
    "\n",
    "reduce_lr = ReduceLROnPlateau(\n",
    "    monitor='val_loss', factor=0.1, patience=1, verbose=1, min_lr=1e-6\n",
    ")\n",
    "\n",
    "callbacks = [early_stop, model_checkpoint, reduce_lr]\n"
   ]
  },
  {
   "cell_type": "markdown",
   "id": "fc955008",
   "metadata": {},
   "source": [
    "### **Train**"
   ]
  },
  {
   "cell_type": "code",
   "execution_count": 143,
   "id": "c7835b1d",
   "metadata": {},
   "outputs": [
    {
     "name": "stdout",
     "output_type": "stream",
     "text": [
      "Epoch 1/8\n",
      "\u001b[1m1125/1125\u001b[0m \u001b[32m━━━━━━━━━━━━━━━━━━━━\u001b[0m\u001b[37m\u001b[0m \u001b[1m0s\u001b[0m 26s/step - accuracy: 0.5674 - loss: 0.6799 \n",
      "Epoch 1: val_accuracy improved from -inf to 0.63031, saving model to best_model.h5\n"
     ]
    },
    {
     "name": "stderr",
     "output_type": "stream",
     "text": [
      "2025-07-17 17:36:03,383 : WARNING : You are saving your model as an HDF5 file via `model.save()` or `keras.saving.save_model(model)`. This file format is considered legacy. We recommend using instead the native Keras format, e.g. `model.save('my_model.keras')` or `keras.saving.save_model(model, 'my_model.keras')`. \n"
     ]
    },
    {
     "name": "stdout",
     "output_type": "stream",
     "text": [
      "\u001b[1m1125/1125\u001b[0m \u001b[32m━━━━━━━━━━━━━━━━━━━━\u001b[0m\u001b[37m\u001b[0m \u001b[1m29264s\u001b[0m 26s/step - accuracy: 0.5674 - loss: 0.6799 - val_accuracy: 0.6303 - val_loss: 0.6508 - learning_rate: 0.0010\n",
      "Epoch 2/8\n",
      "\u001b[1m1125/1125\u001b[0m \u001b[32m━━━━━━━━━━━━━━━━━━━━\u001b[0m\u001b[37m\u001b[0m \u001b[1m0s\u001b[0m 19s/step - accuracy: 0.6036 - loss: 0.6598 \n",
      "Epoch 2: val_accuracy improved from 0.63031 to 0.63892, saving model to best_model.h5\n"
     ]
    },
    {
     "name": "stderr",
     "output_type": "stream",
     "text": [
      "2025-07-17 23:37:26,749 : WARNING : You are saving your model as an HDF5 file via `model.save()` or `keras.saving.save_model(model)`. This file format is considered legacy. We recommend using instead the native Keras format, e.g. `model.save('my_model.keras')` or `keras.saving.save_model(model, 'my_model.keras')`. \n"
     ]
    },
    {
     "name": "stdout",
     "output_type": "stream",
     "text": [
      "\u001b[1m1125/1125\u001b[0m \u001b[32m━━━━━━━━━━━━━━━━━━━━\u001b[0m\u001b[37m\u001b[0m \u001b[1m21683s\u001b[0m 19s/step - accuracy: 0.6036 - loss: 0.6598 - val_accuracy: 0.6389 - val_loss: 0.6438 - learning_rate: 0.0010\n",
      "Epoch 3/8\n",
      "\u001b[1m1125/1125\u001b[0m \u001b[32m━━━━━━━━━━━━━━━━━━━━\u001b[0m\u001b[37m\u001b[0m \u001b[1m0s\u001b[0m 12s/step - accuracy: 0.6057 - loss: 0.6585 \n",
      "Epoch 3: val_accuracy improved from 0.63892 to 0.64358, saving model to best_model.h5\n"
     ]
    },
    {
     "name": "stderr",
     "output_type": "stream",
     "text": [
      "2025-07-18 03:36:19,218 : WARNING : You are saving your model as an HDF5 file via `model.save()` or `keras.saving.save_model(model)`. This file format is considered legacy. We recommend using instead the native Keras format, e.g. `model.save('my_model.keras')` or `keras.saving.save_model(model, 'my_model.keras')`. \n"
     ]
    },
    {
     "name": "stdout",
     "output_type": "stream",
     "text": [
      "\u001b[1m1125/1125\u001b[0m \u001b[32m━━━━━━━━━━━━━━━━━━━━\u001b[0m\u001b[37m\u001b[0m \u001b[1m14332s\u001b[0m 13s/step - accuracy: 0.6057 - loss: 0.6585 - val_accuracy: 0.6436 - val_loss: 0.6407 - learning_rate: 0.0010\n",
      "Epoch 4/8\n",
      "\u001b[1m1125/1125\u001b[0m \u001b[32m━━━━━━━━━━━━━━━━━━━━\u001b[0m\u001b[37m\u001b[0m \u001b[1m0s\u001b[0m 12s/step - accuracy: 0.6073 - loss: 0.6568 \n",
      "Epoch 4: val_accuracy improved from 0.64358 to 0.64435, saving model to best_model.h5\n"
     ]
    },
    {
     "name": "stderr",
     "output_type": "stream",
     "text": [
      "2025-07-18 07:34:42,532 : WARNING : You are saving your model as an HDF5 file via `model.save()` or `keras.saving.save_model(model)`. This file format is considered legacy. We recommend using instead the native Keras format, e.g. `model.save('my_model.keras')` or `keras.saving.save_model(model, 'my_model.keras')`. \n"
     ]
    },
    {
     "name": "stdout",
     "output_type": "stream",
     "text": [
      "\u001b[1m1125/1125\u001b[0m \u001b[32m━━━━━━━━━━━━━━━━━━━━\u001b[0m\u001b[37m\u001b[0m \u001b[1m14299s\u001b[0m 13s/step - accuracy: 0.6073 - loss: 0.6568 - val_accuracy: 0.6444 - val_loss: 0.6396 - learning_rate: 0.0010\n",
      "Epoch 5/8\n",
      "\u001b[1m1125/1125\u001b[0m \u001b[32m━━━━━━━━━━━━━━━━━━━━\u001b[0m\u001b[37m\u001b[0m \u001b[1m0s\u001b[0m 20s/step - accuracy: 0.6093 - loss: 0.6550 \n",
      "Epoch 5: val_accuracy improved from 0.64435 to 0.64505, saving model to best_model.h5\n"
     ]
    },
    {
     "name": "stderr",
     "output_type": "stream",
     "text": [
      "2025-07-18 14:00:58,352 : WARNING : You are saving your model as an HDF5 file via `model.save()` or `keras.saving.save_model(model)`. This file format is considered legacy. We recommend using instead the native Keras format, e.g. `model.save('my_model.keras')` or `keras.saving.save_model(model, 'my_model.keras')`. \n"
     ]
    },
    {
     "name": "stdout",
     "output_type": "stream",
     "text": [
      "\u001b[1m1125/1125\u001b[0m \u001b[32m━━━━━━━━━━━━━━━━━━━━\u001b[0m\u001b[37m\u001b[0m \u001b[1m23174s\u001b[0m 21s/step - accuracy: 0.6093 - loss: 0.6550 - val_accuracy: 0.6450 - val_loss: 0.6370 - learning_rate: 0.0010\n",
      "Epoch 6/8\n",
      "\u001b[1m1125/1125\u001b[0m \u001b[32m━━━━━━━━━━━━━━━━━━━━\u001b[0m\u001b[37m\u001b[0m \u001b[1m0s\u001b[0m 12s/step - accuracy: 0.6132 - loss: 0.6512 \n",
      "Epoch 6: val_accuracy improved from 0.64505 to 0.65322, saving model to best_model.h5\n"
     ]
    },
    {
     "name": "stderr",
     "output_type": "stream",
     "text": [
      "2025-07-18 17:58:18,004 : WARNING : You are saving your model as an HDF5 file via `model.save()` or `keras.saving.save_model(model)`. This file format is considered legacy. We recommend using instead the native Keras format, e.g. `model.save('my_model.keras')` or `keras.saving.save_model(model, 'my_model.keras')`. \n"
     ]
    },
    {
     "name": "stdout",
     "output_type": "stream",
     "text": [
      "\u001b[1m1125/1125\u001b[0m \u001b[32m━━━━━━━━━━━━━━━━━━━━\u001b[0m\u001b[37m\u001b[0m \u001b[1m14239s\u001b[0m 13s/step - accuracy: 0.6132 - loss: 0.6512 - val_accuracy: 0.6532 - val_loss: 0.6271 - learning_rate: 0.0010\n",
      "Epoch 7/8\n",
      "\u001b[1m1125/1125\u001b[0m \u001b[32m━━━━━━━━━━━━━━━━━━━━\u001b[0m\u001b[37m\u001b[0m \u001b[1m0s\u001b[0m 12s/step - accuracy: 0.5611 - loss: 0.6877 \n",
      "Epoch 7: val_accuracy did not improve from 0.65322\n",
      "\n",
      "Epoch 7: ReduceLROnPlateau reducing learning rate to 0.00010000000474974513.\n",
      "\u001b[1m1125/1125\u001b[0m \u001b[32m━━━━━━━━━━━━━━━━━━━━\u001b[0m\u001b[37m\u001b[0m \u001b[1m14025s\u001b[0m 12s/step - accuracy: 0.5611 - loss: 0.6877 - val_accuracy: 0.6445 - val_loss: 0.6366 - learning_rate: 0.0010\n",
      "Epoch 8/8\n",
      "\u001b[1m1125/1125\u001b[0m \u001b[32m━━━━━━━━━━━━━━━━━━━━\u001b[0m\u001b[37m\u001b[0m \u001b[1m0s\u001b[0m 12s/step - accuracy: 0.6101 - loss: 0.6534 \n",
      "Epoch 8: val_accuracy did not improve from 0.65322\n",
      "\n",
      "Epoch 8: ReduceLROnPlateau reducing learning rate to 1.0000000474974514e-05.\n",
      "\u001b[1m1125/1125\u001b[0m \u001b[32m━━━━━━━━━━━━━━━━━━━━\u001b[0m\u001b[37m\u001b[0m \u001b[1m13539s\u001b[0m 12s/step - accuracy: 0.6101 - loss: 0.6534 - val_accuracy: 0.6463 - val_loss: 0.6343 - learning_rate: 1.0000e-04\n",
      "CPU times: total: 3d 1h 3min 57s\n",
      "Wall time: 1d 16h 9min 36s\n"
     ]
    }
   ],
   "source": [
    "%%time\n",
    "history = model.fit(\n",
    "    x_train, y_train,\n",
    "    validation_split=0.1,\n",
    "    batch_size=BATCH_SIZE,\n",
    "    epochs=EPOCHS,\n",
    "    callbacks=callbacks,\n",
    "    verbose=1\n",
    ")\n"
   ]
  },
  {
   "cell_type": "code",
   "execution_count": 145,
   "id": "eb72af3a",
   "metadata": {},
   "outputs": [
    {
     "name": "stdout",
     "output_type": "stream",
     "text": [
      "\u001b[1m313/313\u001b[0m \u001b[32m━━━━━━━━━━━━━━━━━━━━\u001b[0m\u001b[37m\u001b[0m \u001b[1m1161s\u001b[0m 4s/step - accuracy: 0.6555 - loss: 0.6262\n",
      "\n",
      "ACCURACY: 0.6538281440734863\n",
      "LOSS: 0.6262697577476501\n",
      "CPU times: total: 54min 59s\n",
      "Wall time: 19min 26s\n"
     ]
    }
   ],
   "source": [
    "%%time\n",
    "score = model.evaluate(x_test, y_test, batch_size=BATCH_SIZE)\n",
    "print()\n",
    "print(\"ACCURACY:\",score[1])\n",
    "print(\"LOSS:\",score[0])"
   ]
  },
  {
   "cell_type": "code",
   "execution_count": 148,
   "id": "780e1a9f",
   "metadata": {},
   "outputs": [
    {
     "data": {
      "image/png": "[encoded data removed]",
      "text/plain": [
       "<Figure size 640x480 with 1 Axes>"
      ]
     },
     "metadata": {},
     "output_type": "display_data"
    },
    {
     "data": {
      "image/png": "[encoded data removed]",
      "text/plain": [
       "<Figure size 640x480 with 1 Axes>"
      ]
     },
     "metadata": {},
     "output_type": "display_data"
    }
   ],
   "source": [
    "acc = history.history['accuracy']\n",
    "val_acc = history.history['val_accuracy']\n",
    "loss = history.history['loss']\n",
    "val_loss = history.history['val_loss']\n",
    " \n",
    "epochs = range(len(acc))\n",
    " \n",
    "plt.plot(epochs, acc, 'b', label='Training acc')\n",
    "plt.plot(epochs, val_acc, 'r', label='Validation acc')\n",
    "plt.title('Training and validation accuracy')\n",
    "plt.legend()\n",
    " \n",
    "plt.figure()\n",
    " \n",
    "plt.plot(epochs, loss, 'b', label='Training loss')\n",
    "plt.plot(epochs, val_loss, 'r', label='Validation loss')\n",
    "plt.title('Training and validation loss')\n",
    "plt.legend()\n",
    "plt.show()"
   ]
  },
  {
   "cell_type": "code",
   "execution_count": 149,
   "id": "f02027f7",
   "metadata": {},
   "outputs": [],
   "source": [
    "def decode_sentiment(score, include_neutral=True):\n",
    "    if include_neutral:        \n",
    "        label = NEUTRAL\n",
    "        if score <= SENTIMENT_THRESHOLDS[0]:\n",
    "            label = NEGATIVE\n",
    "        elif score >= SENTIMENT_THRESHOLDS[1]:\n",
    "            label = POSITIVE\n",
    "\n",
    "        return label\n",
    "    else:\n",
    "        return NEGATIVE if score < 0.5 else POSITIVE"
   ]
  },
  {
   "cell_type": "code",
   "execution_count": 150,
   "id": "49552832",
   "metadata": {},
   "outputs": [],
   "source": [
    "def predict(text, include_neutral=True):\n",
    "    start_at = time.time()\n",
    "    # Tokenize text\n",
    "    x_test = pad_sequences(tokenizer.texts_to_sequences([text]), maxlen=SEQUENCE_LENGTH)\n",
    "    # Predict\n",
    "    score = model.predict([x_test])[0]\n",
    "    # Decode sentiment\n",
    "    label = decode_sentiment(score, include_neutral=include_neutral)\n",
    "\n",
    "    return {\"label\": label, \"score\": float(score),\n",
    "       \"elapsed_time\": time.time()-start_at}  "
   ]
  },
  {
   "cell_type": "code",
   "execution_count": 151,
   "id": "a0cb10fa",
   "metadata": {},
   "outputs": [
    {
     "name": "stderr",
     "output_type": "stream",
     "text": [
      "c:\\Users\\anast\\AppData\\Local\\miniconda3\\envs\\nlp\\lib\\site-packages\\keras\\src\\models\\functional.py:241: UserWarning: The structure of `inputs` doesn't match the expected structure.\n",
      "Expected: keras_tensor_5\n",
      "Received: inputs=('Tensor(shape=(1, 300))',)\n",
      "  warnings.warn(msg)\n"
     ]
    },
    {
     "name": "stdout",
     "output_type": "stream",
     "text": [
      "\u001b[1m1/1\u001b[0m \u001b[32m━━━━━━━━━━━━━━━━━━━━\u001b[0m\u001b[37m\u001b[0m \u001b[1m2s\u001b[0m 2s/step\n"
     ]
    },
    {
     "name": "stderr",
     "output_type": "stream",
     "text": [
      "C:\\Users\\anast\\AppData\\Local\\Temp\\ipykernel_19776\\1332943948.py:10: DeprecationWarning: Conversion of an array with ndim > 0 to a scalar is deprecated, and will error in future. Ensure you extract a single element from your array before performing this operation. (Deprecated NumPy 1.25.)\n",
      "  return {\"label\": label, \"score\": float(score),\n"
     ]
    },
    {
     "data": {
      "text/plain": [
       "{'label': 'POSITIVE',\n",
       " 'score': 0.7039915919303894,\n",
       " 'elapsed_time': 2.966987371444702}"
      ]
     },
     "execution_count": 151,
     "metadata": {},
     "output_type": "execute_result"
    }
   ],
   "source": [
    "predict(\"I love the music\")"
   ]
  },
  {
   "cell_type": "code",
   "execution_count": 152,
   "id": "bbf52a5a",
   "metadata": {},
   "outputs": [
    {
     "name": "stdout",
     "output_type": "stream",
     "text": [
      "\u001b[1m1/1\u001b[0m \u001b[32m━━━━━━━━━━━━━━━━━━━━\u001b[0m\u001b[37m\u001b[0m \u001b[1m0s\u001b[0m 215ms/step\n"
     ]
    },
    {
     "name": "stderr",
     "output_type": "stream",
     "text": [
      "C:\\Users\\anast\\AppData\\Local\\Temp\\ipykernel_19776\\1332943948.py:10: DeprecationWarning: Conversion of an array with ndim > 0 to a scalar is deprecated, and will error in future. Ensure you extract a single element from your array before performing this operation. (Deprecated NumPy 1.25.)\n",
      "  return {\"label\": label, \"score\": float(score),\n"
     ]
    },
    {
     "data": {
      "text/plain": [
       "{'label': 'NEUTRAL',\n",
       " 'score': 0.5312944650650024,\n",
       " 'elapsed_time': 0.3976325988769531}"
      ]
     },
     "execution_count": 152,
     "metadata": {},
     "output_type": "execute_result"
    }
   ],
   "source": [
    "predict(\"I am Pakistani\")"
   ]
  },
  {
   "cell_type": "code",
   "execution_count": 154,
   "id": "3b54f129",
   "metadata": {},
   "outputs": [
    {
     "name": "stdout",
     "output_type": "stream",
     "text": [
      "\u001b[1m1/1\u001b[0m \u001b[32m━━━━━━━━━━━━━━━━━━━━\u001b[0m\u001b[37m\u001b[0m \u001b[1m0s\u001b[0m 170ms/step\n"
     ]
    },
    {
     "name": "stderr",
     "output_type": "stream",
     "text": [
      "C:\\Users\\anast\\AppData\\Local\\Temp\\ipykernel_19776\\1332943948.py:10: DeprecationWarning: Conversion of an array with ndim > 0 to a scalar is deprecated, and will error in future. Ensure you extract a single element from your array before performing this operation. (Deprecated NumPy 1.25.)\n",
      "  return {\"label\": label, \"score\": float(score),\n"
     ]
    },
    {
     "data": {
      "text/plain": [
       "{'label': 'NEGATIVE',\n",
       " 'score': 0.2926005721092224,\n",
       " 'elapsed_time': 0.3498525619506836}"
      ]
     },
     "execution_count": 154,
     "metadata": {},
     "output_type": "execute_result"
    }
   ],
   "source": [
    "predict(\"I hate the rain.\")"
   ]
  },
  {
   "cell_type": "code",
   "execution_count": 160,
   "id": "d9a2f758",
   "metadata": {},
   "outputs": [
    {
     "name": "stdout",
     "output_type": "stream",
     "text": [
      "\u001b[1m313/313\u001b[0m \u001b[32m━━━━━━━━━━━━━━━━━━━━\u001b[0m\u001b[37m\u001b[0m \u001b[1m1086s\u001b[0m 3s/step\n",
      "CPU times: total: 36min 49s\n",
      "Wall time: 18min 11s\n"
     ]
    }
   ],
   "source": [
    "%%time\n",
    "y_pred_1d = []\n",
    "y_test_1d = list(df_test.target)\n",
    "scores = model.predict(x_test, verbose=1, batch_size=BATCH_SIZE)\n",
    "y_pred_1d = [decode_sentiment(score, include_neutral=False) for score in scores]\n"
   ]
  },
  {
   "cell_type": "code",
   "execution_count": 163,
   "id": "f228ed4f",
   "metadata": {},
   "outputs": [],
   "source": [
    "import matplotlib.pyplot as plt\n",
    "import numpy as np\n",
    "import itertools\n",
    "\n",
    "def plot_confusion_matrix(cm, classes, title='Confusion matrix', cmap=plt.cm.Blues):\n",
    "    \"\"\"\n",
    "    This function prints and plots the confusion matrix.\n",
    "    Normalization is applied by default.\n",
    "    \"\"\"\n",
    "    # Normalize the confusion matrix\n",
    "    cm = cm.astype('float') / cm.sum(axis=1)[:, np.newaxis]\n",
    "    \n",
    "    plt.imshow(cm, interpolation='nearest', cmap=cmap)\n",
    "    plt.title(title, fontsize=30)\n",
    "    plt.colorbar()\n",
    "    \n",
    "    tick_marks = np.arange(len(classes))\n",
    "    plt.xticks(tick_marks, classes, rotation=90, fontsize=22)\n",
    "    plt.yticks(tick_marks, classes, fontsize=22)\n",
    "\n",
    "    fmt = '.2f'\n",
    "    thresh = cm.max() / 2.\n",
    "    \n",
    "    # Write the values inside the matrix\n",
    "    for i, j in itertools.product(range(cm.shape[0]), range(cm.shape[1])):\n",
    "        plt.text(j, i, format(cm[i, j], fmt),\n",
    "                 horizontalalignment=\"center\",\n",
    "                 color=\"white\" if cm[i, j] > thresh else \"black\")\n",
    "\n",
    "    plt.ylabel('True label', fontsize=25)\n",
    "    plt.xlabel('Predicted label', fontsize=25)\n",
    "    plt.tight_layout()\n",
    "    plt.show()\n"
   ]
  },
  {
   "cell_type": "code",
   "execution_count": 167,
   "id": "da967158",
   "metadata": {},
   "outputs": [
    {
     "data": {
      "image/png": "[encoded data removed]",
      "text/plain": [
       "<Figure size 800x600 with 2 Axes>"
      ]
     },
     "metadata": {},
     "output_type": "display_data"
    },
    {
     "name": "stdout",
     "output_type": "stream",
     "text": [
      "CPU times: total: 1.75 s\n",
      "Wall time: 2.09 s\n"
     ]
    }
   ],
   "source": [
    "%%time\n",
    "\n",
    "cnf_matrix = confusion_matrix(y_test_1d, y_pred_1d)\n",
    "plt.figure(figsize=(8,6))\n",
    "plot_confusion_matrix(cnf_matrix, classes=df_train.target.unique(), title=\"Confusion matrix\")\n",
    "plt.show()"
   ]
  },
  {
   "cell_type": "code",
   "execution_count": 168,
   "id": "f71a0133",
   "metadata": {},
   "outputs": [
    {
     "name": "stdout",
     "output_type": "stream",
     "text": [
      "              precision    recall  f1-score   support\n",
      "\n",
      "    NEGATIVE       0.68      0.58      0.62    159494\n",
      "    POSITIVE       0.63      0.73      0.68    160506\n",
      "\n",
      "    accuracy                           0.65    320000\n",
      "   macro avg       0.66      0.65      0.65    320000\n",
      "weighted avg       0.66      0.65      0.65    320000\n",
      "\n"
     ]
    }
   ],
   "source": [
    "print(classification_report(y_test_1d, y_pred_1d))"
   ]
  },
  {
   "cell_type": "code",
   "execution_count": 169,
   "id": "241a540a",
   "metadata": {},
   "outputs": [
    {
     "data": {
      "text/plain": [
       "0.653828125"
      ]
     },
     "execution_count": 169,
     "metadata": {},
     "output_type": "execute_result"
    }
   ],
   "source": [
    "accuracy_score(y_test_1d, y_pred_1d)"
   ]
  },
  {
   "cell_type": "code",
   "execution_count": 172,
   "id": "7f38b3cc",
   "metadata": {},
   "outputs": [],
   "source": [
    "import pickle\n",
    "pickle.dump(tokenizer, open(\"tokenizer.pkl\", \"wb\"), protocol=4)\n",
    "\n"
   ]
  },
  {
   "cell_type": "code",
   "execution_count": null,
   "id": "e934b6db",
   "metadata": {},
   "outputs": [],
   "source": []
  }
 ],
 "metadata": {
  "kernelspec": {
   "display_name": "nlp",
   "language": "python",
   "name": "python3"
  },
  "language_info": {
   "codemirror_mode": {
    "name": "ipython",
    "version": 3
   },
   "file_extension": ".py",
   "mimetype": "text/x-python",
   "name": "python",
   "nbconvert_exporter": "python",
   "pygments_lexer": "ipython3",
   "version": "3.10.18"
  }
 },
 "nbformat": 4,
 "nbformat_minor": 5
}
